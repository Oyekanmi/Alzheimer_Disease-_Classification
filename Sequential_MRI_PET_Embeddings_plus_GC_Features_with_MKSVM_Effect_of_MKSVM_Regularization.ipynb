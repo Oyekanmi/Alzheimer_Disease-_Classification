{
 "cells": [
  {
   "cell_type": "markdown",
   "id": "5f8fe4b8",
   "metadata": {},
   "source": [
    "**Changes:**\n",
    "\n",
    "- Harmonize MRI + PET Features Unsupervised EMR-SLRA then Sequentially with GC Features using Regularized MKSVM"
   ]
  },
  {
   "cell_type": "code",
   "execution_count": 1,
   "id": "bbdecef5",
   "metadata": {},
   "outputs": [],
   "source": [
    "#get the nearest neighbor of each point\n",
    "import numpy as np\n",
    "import pandas as pd\n",
    "from sklearn.neighbors import NearestNeighbors\n",
    "from sklearn.preprocessing import MinMaxScaler\n",
    "\n",
    "# Create a large NumPy array\n",
    "large_array = np.arange(10000)\n",
    "\n",
    "# Set print options to display the entire array\n",
    "np.set_printoptions(threshold=np.inf)"
   ]
  },
  {
   "cell_type": "code",
   "execution_count": 2,
   "id": "8fe179a3",
   "metadata": {},
   "outputs": [],
   "source": [
    "#load the mri and pet features from the LHS & RHS\n",
    "data_home= \"/Users/oyekanmiolatunde/Desktop/current_project/Alzheimers/process_with_clinica/Feature Based/dataset\"\n",
    "lhs_mri_df = pd.read_csv(f\"{data_home}/LHS_MRI.csv\").iloc[:,1:]\n",
    "rhs_mri_df = pd.read_csv(f\"{data_home}/RHS_MRI.csv\").iloc[:,1:]\n",
    "lhs_pet_df = pd.read_csv(f\"{data_home}/LHS_PET.csv\").iloc[:,1:]\n",
    "rhs_pet_df = pd.read_csv(f\"{data_home}/RHS_PET.csv\").iloc[:,1:]"
   ]
  },
  {
   "cell_type": "code",
   "execution_count": 3,
   "id": "63fa22e1",
   "metadata": {},
   "outputs": [
    {
     "data": {
      "text/html": [
       "<div>\n",
       "<style scoped>\n",
       "    .dataframe tbody tr th:only-of-type {\n",
       "        vertical-align: middle;\n",
       "    }\n",
       "\n",
       "    .dataframe tbody tr th {\n",
       "        vertical-align: top;\n",
       "    }\n",
       "\n",
       "    .dataframe thead th {\n",
       "        text-align: right;\n",
       "    }\n",
       "</style>\n",
       "<table border=\"1\" class=\"dataframe\">\n",
       "  <thead>\n",
       "    <tr style=\"text-align: right;\">\n",
       "      <th></th>\n",
       "      <th>Left-Hippocampus</th>\n",
       "      <th>Left-Amygdala</th>\n",
       "      <th>Left-Anterior-Medial-Temporal-Lobe</th>\n",
       "      <th>Left-Anterior-Lateral-Temporal-Lobe</th>\n",
       "      <th>Left-Ambient-and-Parahippocampus-Gyri</th>\n",
       "      <th>Left-Superior-Temporal-Gyrus</th>\n",
       "      <th>Left-Inferior-Middle-Temporal-Gyri</th>\n",
       "      <th>Left-Fusiform-Gyrus</th>\n",
       "      <th>Left-Cerebellum</th>\n",
       "      <th>Left-Brainstem</th>\n",
       "      <th>...</th>\n",
       "      <th>Right-Third-Ventricle</th>\n",
       "      <th>Right-Precentral-Gyrus</th>\n",
       "      <th>Right-Rectus-Gyrus</th>\n",
       "      <th>Right-Orbito-Frontal-Gyri</th>\n",
       "      <th>Right-Inferior-Frontal-Gyrus</th>\n",
       "      <th>Right-Superior-Frontal-Gyrus</th>\n",
       "      <th>Right-Postcentral-Gyrus</th>\n",
       "      <th>Right-Superior-Parietal-Gyrus</th>\n",
       "      <th>Right-Lingual-Gyrus</th>\n",
       "      <th>Right-Cuneus</th>\n",
       "    </tr>\n",
       "  </thead>\n",
       "  <tbody>\n",
       "    <tr>\n",
       "      <th>0</th>\n",
       "      <td>1.059847</td>\n",
       "      <td>0.996552</td>\n",
       "      <td>0.902433</td>\n",
       "      <td>1.021936</td>\n",
       "      <td>1.010763</td>\n",
       "      <td>1.340369</td>\n",
       "      <td>1.201393</td>\n",
       "      <td>1.047257</td>\n",
       "      <td>1.128324</td>\n",
       "      <td>0.962583</td>\n",
       "      <td>...</td>\n",
       "      <td>0.944657</td>\n",
       "      <td>1.235550</td>\n",
       "      <td>1.157825</td>\n",
       "      <td>1.323735</td>\n",
       "      <td>1.417620</td>\n",
       "      <td>1.293331</td>\n",
       "      <td>1.214842</td>\n",
       "      <td>1.255566</td>\n",
       "      <td>1.370663</td>\n",
       "      <td>1.483297</td>\n",
       "    </tr>\n",
       "    <tr>\n",
       "      <th>1</th>\n",
       "      <td>0.759452</td>\n",
       "      <td>0.813179</td>\n",
       "      <td>0.881662</td>\n",
       "      <td>1.101247</td>\n",
       "      <td>0.803860</td>\n",
       "      <td>1.303659</td>\n",
       "      <td>1.083634</td>\n",
       "      <td>0.947221</td>\n",
       "      <td>1.021193</td>\n",
       "      <td>0.943027</td>\n",
       "      <td>...</td>\n",
       "      <td>0.608440</td>\n",
       "      <td>1.139657</td>\n",
       "      <td>1.196488</td>\n",
       "      <td>1.349296</td>\n",
       "      <td>1.312733</td>\n",
       "      <td>1.157831</td>\n",
       "      <td>1.104809</td>\n",
       "      <td>0.916728</td>\n",
       "      <td>1.314825</td>\n",
       "      <td>1.181873</td>\n",
       "    </tr>\n",
       "    <tr>\n",
       "      <th>2</th>\n",
       "      <td>0.974178</td>\n",
       "      <td>0.937666</td>\n",
       "      <td>0.921953</td>\n",
       "      <td>1.060904</td>\n",
       "      <td>1.009006</td>\n",
       "      <td>1.189319</td>\n",
       "      <td>1.152129</td>\n",
       "      <td>1.023700</td>\n",
       "      <td>1.205000</td>\n",
       "      <td>0.990886</td>\n",
       "      <td>...</td>\n",
       "      <td>0.777477</td>\n",
       "      <td>1.204155</td>\n",
       "      <td>1.261954</td>\n",
       "      <td>1.260154</td>\n",
       "      <td>1.280172</td>\n",
       "      <td>1.246080</td>\n",
       "      <td>1.192184</td>\n",
       "      <td>1.230643</td>\n",
       "      <td>1.562650</td>\n",
       "      <td>1.557163</td>\n",
       "    </tr>\n",
       "    <tr>\n",
       "      <th>3</th>\n",
       "      <td>0.946581</td>\n",
       "      <td>0.935198</td>\n",
       "      <td>0.832810</td>\n",
       "      <td>0.994307</td>\n",
       "      <td>0.883153</td>\n",
       "      <td>1.177112</td>\n",
       "      <td>1.159773</td>\n",
       "      <td>0.989714</td>\n",
       "      <td>1.102348</td>\n",
       "      <td>0.913315</td>\n",
       "      <td>...</td>\n",
       "      <td>0.652291</td>\n",
       "      <td>1.107124</td>\n",
       "      <td>1.116573</td>\n",
       "      <td>1.227130</td>\n",
       "      <td>1.210799</td>\n",
       "      <td>1.116864</td>\n",
       "      <td>1.065101</td>\n",
       "      <td>1.113898</td>\n",
       "      <td>1.386147</td>\n",
       "      <td>1.425718</td>\n",
       "    </tr>\n",
       "    <tr>\n",
       "      <th>4</th>\n",
       "      <td>1.011832</td>\n",
       "      <td>1.019606</td>\n",
       "      <td>0.998256</td>\n",
       "      <td>1.139178</td>\n",
       "      <td>1.003703</td>\n",
       "      <td>1.278840</td>\n",
       "      <td>1.232091</td>\n",
       "      <td>1.127863</td>\n",
       "      <td>1.111329</td>\n",
       "      <td>0.899897</td>\n",
       "      <td>...</td>\n",
       "      <td>0.588266</td>\n",
       "      <td>1.241306</td>\n",
       "      <td>1.260825</td>\n",
       "      <td>1.375378</td>\n",
       "      <td>1.340652</td>\n",
       "      <td>1.225198</td>\n",
       "      <td>1.201179</td>\n",
       "      <td>1.232621</td>\n",
       "      <td>1.638135</td>\n",
       "      <td>1.686351</td>\n",
       "    </tr>\n",
       "  </tbody>\n",
       "</table>\n",
       "<p>5 rows × 68 columns</p>\n",
       "</div>"
      ],
      "text/plain": [
       "   Left-Hippocampus  Left-Amygdala  Left-Anterior-Medial-Temporal-Lobe  \\\n",
       "0          1.059847       0.996552                            0.902433   \n",
       "1          0.759452       0.813179                            0.881662   \n",
       "2          0.974178       0.937666                            0.921953   \n",
       "3          0.946581       0.935198                            0.832810   \n",
       "4          1.011832       1.019606                            0.998256   \n",
       "\n",
       "   Left-Anterior-Lateral-Temporal-Lobe  Left-Ambient-and-Parahippocampus-Gyri  \\\n",
       "0                             1.021936                               1.010763   \n",
       "1                             1.101247                               0.803860   \n",
       "2                             1.060904                               1.009006   \n",
       "3                             0.994307                               0.883153   \n",
       "4                             1.139178                               1.003703   \n",
       "\n",
       "   Left-Superior-Temporal-Gyrus  Left-Inferior-Middle-Temporal-Gyri  \\\n",
       "0                      1.340369                            1.201393   \n",
       "1                      1.303659                            1.083634   \n",
       "2                      1.189319                            1.152129   \n",
       "3                      1.177112                            1.159773   \n",
       "4                      1.278840                            1.232091   \n",
       "\n",
       "   Left-Fusiform-Gyrus  Left-Cerebellum  Left-Brainstem  ...  \\\n",
       "0             1.047257         1.128324        0.962583  ...   \n",
       "1             0.947221         1.021193        0.943027  ...   \n",
       "2             1.023700         1.205000        0.990886  ...   \n",
       "3             0.989714         1.102348        0.913315  ...   \n",
       "4             1.127863         1.111329        0.899897  ...   \n",
       "\n",
       "   Right-Third-Ventricle  Right-Precentral-Gyrus  Right-Rectus-Gyrus  \\\n",
       "0               0.944657                1.235550            1.157825   \n",
       "1               0.608440                1.139657            1.196488   \n",
       "2               0.777477                1.204155            1.261954   \n",
       "3               0.652291                1.107124            1.116573   \n",
       "4               0.588266                1.241306            1.260825   \n",
       "\n",
       "   Right-Orbito-Frontal-Gyri  Right-Inferior-Frontal-Gyrus  \\\n",
       "0                   1.323735                      1.417620   \n",
       "1                   1.349296                      1.312733   \n",
       "2                   1.260154                      1.280172   \n",
       "3                   1.227130                      1.210799   \n",
       "4                   1.375378                      1.340652   \n",
       "\n",
       "   Right-Superior-Frontal-Gyrus  Right-Postcentral-Gyrus  \\\n",
       "0                      1.293331                 1.214842   \n",
       "1                      1.157831                 1.104809   \n",
       "2                      1.246080                 1.192184   \n",
       "3                      1.116864                 1.065101   \n",
       "4                      1.225198                 1.201179   \n",
       "\n",
       "   Right-Superior-Parietal-Gyrus  Right-Lingual-Gyrus  Right-Cuneus  \n",
       "0                       1.255566             1.370663      1.483297  \n",
       "1                       0.916728             1.314825      1.181873  \n",
       "2                       1.230643             1.562650      1.557163  \n",
       "3                       1.113898             1.386147      1.425718  \n",
       "4                       1.232621             1.638135      1.686351  \n",
       "\n",
       "[5 rows x 68 columns]"
      ]
     },
     "execution_count": 3,
     "metadata": {},
     "output_type": "execute_result"
    }
   ],
   "source": [
    "all_pet_df = pd.concat([lhs_pet_df,rhs_pet_df], axis=1)\n",
    "all_pet_df.head()"
   ]
  },
  {
   "cell_type": "code",
   "execution_count": 4,
   "id": "02d2e2ac",
   "metadata": {},
   "outputs": [],
   "source": [
    "#load the subject info of the subjects\n",
    "participants_df = pd.read_csv(f\"{data_home}/participants_copy.tsv\", sep=\"\\t\")\n",
    "participants_df.rename(columns={\"participant_id\":\"Subjects\"}, inplace=True)"
   ]
  },
  {
   "cell_type": "code",
   "execution_count": 5,
   "id": "d358e98f",
   "metadata": {},
   "outputs": [
    {
     "data": {
      "text/html": [
       "<div>\n",
       "<style scoped>\n",
       "    .dataframe tbody tr th:only-of-type {\n",
       "        vertical-align: middle;\n",
       "    }\n",
       "\n",
       "    .dataframe tbody tr th {\n",
       "        vertical-align: top;\n",
       "    }\n",
       "\n",
       "    .dataframe thead th {\n",
       "        text-align: right;\n",
       "    }\n",
       "</style>\n",
       "<table border=\"1\" class=\"dataframe\">\n",
       "  <thead>\n",
       "    <tr style=\"text-align: right;\">\n",
       "      <th></th>\n",
       "      <th>RID</th>\n",
       "      <th>COLPROT</th>\n",
       "      <th>ORIGPROT</th>\n",
       "      <th>PTID</th>\n",
       "      <th>SITE</th>\n",
       "      <th>VISCODE</th>\n",
       "      <th>EXAMDATE</th>\n",
       "      <th>DX_bl</th>\n",
       "      <th>AGE</th>\n",
       "      <th>PTGENDER</th>\n",
       "      <th>...</th>\n",
       "      <th>MidTemp_bl</th>\n",
       "      <th>ICV_bl</th>\n",
       "      <th>EcogSPTotal_bl</th>\n",
       "      <th>ABETA_bl</th>\n",
       "      <th>TAU_bl</th>\n",
       "      <th>PTAU_bl</th>\n",
       "      <th>FDG_bl</th>\n",
       "      <th>PIB_bl</th>\n",
       "      <th>AV45_bl</th>\n",
       "      <th>FBB_bl</th>\n",
       "    </tr>\n",
       "  </thead>\n",
       "  <tbody>\n",
       "    <tr>\n",
       "      <th>0</th>\n",
       "      <td>1122</td>\n",
       "      <td>ADNI1</td>\n",
       "      <td>ADNI1</td>\n",
       "      <td>003_S_1122</td>\n",
       "      <td>3</td>\n",
       "      <td>bl</td>\n",
       "      <td>1/12/07</td>\n",
       "      <td>LMCI</td>\n",
       "      <td>76.6</td>\n",
       "      <td>Female</td>\n",
       "      <td>...</td>\n",
       "      <td>15051.0</td>\n",
       "      <td>1191650.0</td>\n",
       "      <td>NaN</td>\n",
       "      <td>NaN</td>\n",
       "      <td>NaN</td>\n",
       "      <td>NaN</td>\n",
       "      <td>1.26522</td>\n",
       "      <td>NaN</td>\n",
       "      <td>NaN</td>\n",
       "      <td>NaN</td>\n",
       "    </tr>\n",
       "    <tr>\n",
       "      <th>1</th>\n",
       "      <td>221</td>\n",
       "      <td>ADNI1</td>\n",
       "      <td>ADNI1</td>\n",
       "      <td>005_S_0221</td>\n",
       "      <td>5</td>\n",
       "      <td>bl</td>\n",
       "      <td>3/23/06</td>\n",
       "      <td>AD</td>\n",
       "      <td>67.4</td>\n",
       "      <td>Male</td>\n",
       "      <td>...</td>\n",
       "      <td>18743.0</td>\n",
       "      <td>1775150.0</td>\n",
       "      <td>NaN</td>\n",
       "      <td>379.1</td>\n",
       "      <td>435.5</td>\n",
       "      <td>44.39</td>\n",
       "      <td>1.03931</td>\n",
       "      <td>NaN</td>\n",
       "      <td>NaN</td>\n",
       "      <td>NaN</td>\n",
       "    </tr>\n",
       "    <tr>\n",
       "      <th>2</th>\n",
       "      <td>221</td>\n",
       "      <td>ADNI1</td>\n",
       "      <td>ADNI1</td>\n",
       "      <td>005_S_0221</td>\n",
       "      <td>5</td>\n",
       "      <td>m24</td>\n",
       "      <td>4/3/08</td>\n",
       "      <td>AD</td>\n",
       "      <td>67.4</td>\n",
       "      <td>Male</td>\n",
       "      <td>...</td>\n",
       "      <td>18743.0</td>\n",
       "      <td>1775150.0</td>\n",
       "      <td>NaN</td>\n",
       "      <td>379.1</td>\n",
       "      <td>435.5</td>\n",
       "      <td>44.39</td>\n",
       "      <td>1.03931</td>\n",
       "      <td>NaN</td>\n",
       "      <td>NaN</td>\n",
       "      <td>NaN</td>\n",
       "    </tr>\n",
       "    <tr>\n",
       "      <th>3</th>\n",
       "      <td>221</td>\n",
       "      <td>ADNI1</td>\n",
       "      <td>ADNI1</td>\n",
       "      <td>005_S_0221</td>\n",
       "      <td>5</td>\n",
       "      <td>m06</td>\n",
       "      <td>9/19/06</td>\n",
       "      <td>AD</td>\n",
       "      <td>67.4</td>\n",
       "      <td>Male</td>\n",
       "      <td>...</td>\n",
       "      <td>18743.0</td>\n",
       "      <td>1775150.0</td>\n",
       "      <td>NaN</td>\n",
       "      <td>379.1</td>\n",
       "      <td>435.5</td>\n",
       "      <td>44.39</td>\n",
       "      <td>1.03931</td>\n",
       "      <td>NaN</td>\n",
       "      <td>NaN</td>\n",
       "      <td>NaN</td>\n",
       "    </tr>\n",
       "    <tr>\n",
       "      <th>4</th>\n",
       "      <td>221</td>\n",
       "      <td>ADNI1</td>\n",
       "      <td>ADNI1</td>\n",
       "      <td>005_S_0221</td>\n",
       "      <td>5</td>\n",
       "      <td>m12</td>\n",
       "      <td>3/14/07</td>\n",
       "      <td>AD</td>\n",
       "      <td>67.4</td>\n",
       "      <td>Male</td>\n",
       "      <td>...</td>\n",
       "      <td>18743.0</td>\n",
       "      <td>1775150.0</td>\n",
       "      <td>NaN</td>\n",
       "      <td>379.1</td>\n",
       "      <td>435.5</td>\n",
       "      <td>44.39</td>\n",
       "      <td>1.03931</td>\n",
       "      <td>NaN</td>\n",
       "      <td>NaN</td>\n",
       "      <td>NaN</td>\n",
       "    </tr>\n",
       "  </tbody>\n",
       "</table>\n",
       "<p>5 rows × 76 columns</p>\n",
       "</div>"
      ],
      "text/plain": [
       "    RID COLPROT ORIGPROT        PTID  SITE VISCODE EXAMDATE DX_bl   AGE  \\\n",
       "0  1122   ADNI1    ADNI1  003_S_1122     3      bl  1/12/07  LMCI  76.6   \n",
       "1   221   ADNI1    ADNI1  005_S_0221     5      bl  3/23/06    AD  67.4   \n",
       "2   221   ADNI1    ADNI1  005_S_0221     5     m24   4/3/08    AD  67.4   \n",
       "3   221   ADNI1    ADNI1  005_S_0221     5     m06  9/19/06    AD  67.4   \n",
       "4   221   ADNI1    ADNI1  005_S_0221     5     m12  3/14/07    AD  67.4   \n",
       "\n",
       "  PTGENDER  ...  MidTemp_bl     ICV_bl  EcogSPTotal_bl  ABETA_bl  TAU_bl  \\\n",
       "0   Female  ...     15051.0  1191650.0             NaN       NaN     NaN   \n",
       "1     Male  ...     18743.0  1775150.0             NaN     379.1   435.5   \n",
       "2     Male  ...     18743.0  1775150.0             NaN     379.1   435.5   \n",
       "3     Male  ...     18743.0  1775150.0             NaN     379.1   435.5   \n",
       "4     Male  ...     18743.0  1775150.0             NaN     379.1   435.5   \n",
       "\n",
       "   PTAU_bl   FDG_bl PIB_bl AV45_bl  FBB_bl  \n",
       "0      NaN  1.26522    NaN     NaN     NaN  \n",
       "1    44.39  1.03931    NaN     NaN     NaN  \n",
       "2    44.39  1.03931    NaN     NaN     NaN  \n",
       "3    44.39  1.03931    NaN     NaN     NaN  \n",
       "4    44.39  1.03931    NaN     NaN     NaN  \n",
       "\n",
       "[5 rows x 76 columns]"
      ]
     },
     "execution_count": 5,
     "metadata": {},
     "output_type": "execute_result"
    }
   ],
   "source": [
    "Adnimerge_df =  pd.read_csv(f\"{data_home}/ADNIMERGE_copy.csv\", low_memory=False)\n",
    "Adnimerge_df.head()"
   ]
  },
  {
   "cell_type": "code",
   "execution_count": 6,
   "id": "3b1ad2c4",
   "metadata": {},
   "outputs": [
    {
     "data": {
      "text/html": [
       "<div>\n",
       "<style scoped>\n",
       "    .dataframe tbody tr th:only-of-type {\n",
       "        vertical-align: middle;\n",
       "    }\n",
       "\n",
       "    .dataframe tbody tr th {\n",
       "        vertical-align: top;\n",
       "    }\n",
       "\n",
       "    .dataframe thead th {\n",
       "        text-align: right;\n",
       "    }\n",
       "</style>\n",
       "<table border=\"1\" class=\"dataframe\">\n",
       "  <thead>\n",
       "    <tr style=\"text-align: right;\">\n",
       "      <th></th>\n",
       "      <th>Subjects</th>\n",
       "      <th>sex</th>\n",
       "      <th>education_level</th>\n",
       "      <th>age_bl</th>\n",
       "      <th>diagnosis_sc</th>\n",
       "      <th>apoe4</th>\n",
       "      <th>mmse_bl</th>\n",
       "      <th>adas11_bl</th>\n",
       "      <th>adas13_bl</th>\n",
       "      <th>trabscor_bl</th>\n",
       "      <th>mpaccdigit_bl</th>\n",
       "      <th>mpacctrails_bl</th>\n",
       "      <th>CDRSB</th>\n",
       "      <th>ICV</th>\n",
       "      <th>ADASQ4_bl</th>\n",
       "      <th>Ventricles_bl</th>\n",
       "      <th>ABETA_bl</th>\n",
       "      <th>TAU_bl</th>\n",
       "      <th>PTAU_bl</th>\n",
       "      <th>FDG_bl</th>\n",
       "    </tr>\n",
       "  </thead>\n",
       "  <tbody>\n",
       "    <tr>\n",
       "      <th>0</th>\n",
       "      <td>sub-ADNI011S0003</td>\n",
       "      <td>M</td>\n",
       "      <td>18</td>\n",
       "      <td>81.3</td>\n",
       "      <td>AD</td>\n",
       "      <td>1</td>\n",
       "      <td>20</td>\n",
       "      <td>22.00</td>\n",
       "      <td>31.00</td>\n",
       "      <td>148.0</td>\n",
       "      <td>-16.29050</td>\n",
       "      <td>-15.87370</td>\n",
       "      <td>4.5</td>\n",
       "      <td>1920690.0</td>\n",
       "      <td>8.0</td>\n",
       "      <td>84599.0</td>\n",
       "      <td>741.5</td>\n",
       "      <td>239.7</td>\n",
       "      <td>22.83</td>\n",
       "      <td>1.10860</td>\n",
       "    </tr>\n",
       "    <tr>\n",
       "      <th>1</th>\n",
       "      <td>sub-ADNI011S0005</td>\n",
       "      <td>M</td>\n",
       "      <td>16</td>\n",
       "      <td>73.7</td>\n",
       "      <td>CN</td>\n",
       "      <td>0</td>\n",
       "      <td>29</td>\n",
       "      <td>8.67</td>\n",
       "      <td>14.67</td>\n",
       "      <td>90.0</td>\n",
       "      <td>-1.89018</td>\n",
       "      <td>-1.56702</td>\n",
       "      <td>0.0</td>\n",
       "      <td>1640770.0</td>\n",
       "      <td>4.0</td>\n",
       "      <td>34062.0</td>\n",
       "      <td>547.3</td>\n",
       "      <td>337</td>\n",
       "      <td>33.43</td>\n",
       "      <td>1.25956</td>\n",
       "    </tr>\n",
       "    <tr>\n",
       "      <th>2</th>\n",
       "      <td>sub-ADNI011S0010</td>\n",
       "      <td>F</td>\n",
       "      <td>12</td>\n",
       "      <td>73.9</td>\n",
       "      <td>AD</td>\n",
       "      <td>1</td>\n",
       "      <td>24</td>\n",
       "      <td>12.33</td>\n",
       "      <td>24.33</td>\n",
       "      <td>100.0</td>\n",
       "      <td>-13.69740</td>\n",
       "      <td>-12.54560</td>\n",
       "      <td>5.0</td>\n",
       "      <td>1471180.0</td>\n",
       "      <td>10.0</td>\n",
       "      <td>26820.0</td>\n",
       "      <td>357.4</td>\n",
       "      <td>329.9</td>\n",
       "      <td>31.26</td>\n",
       "      <td>1.03941</td>\n",
       "    </tr>\n",
       "    <tr>\n",
       "      <th>3</th>\n",
       "      <td>sub-ADNI022S0014</td>\n",
       "      <td>F</td>\n",
       "      <td>12</td>\n",
       "      <td>78.5</td>\n",
       "      <td>CN</td>\n",
       "      <td>0</td>\n",
       "      <td>29</td>\n",
       "      <td>4.33</td>\n",
       "      <td>8.33</td>\n",
       "      <td>101.0</td>\n",
       "      <td>-3.27424</td>\n",
       "      <td>-2.44011</td>\n",
       "      <td>0.0</td>\n",
       "      <td>1269540.0</td>\n",
       "      <td>4.0</td>\n",
       "      <td>46279.0</td>\n",
       "      <td>1582</td>\n",
       "      <td>203.6</td>\n",
       "      <td>16.68</td>\n",
       "      <td>1.25048</td>\n",
       "    </tr>\n",
       "    <tr>\n",
       "      <th>4</th>\n",
       "      <td>sub-ADNI011S0016</td>\n",
       "      <td>M</td>\n",
       "      <td>9</td>\n",
       "      <td>65.4</td>\n",
       "      <td>CN</td>\n",
       "      <td>1</td>\n",
       "      <td>28</td>\n",
       "      <td>10.33</td>\n",
       "      <td>14.33</td>\n",
       "      <td>79.0</td>\n",
       "      <td>-2.88343</td>\n",
       "      <td>-3.03600</td>\n",
       "      <td>0.0</td>\n",
       "      <td>1352000.0</td>\n",
       "      <td>4.0</td>\n",
       "      <td>17315.0</td>\n",
       "      <td>550.6</td>\n",
       "      <td>170.5</td>\n",
       "      <td>15.88</td>\n",
       "      <td>1.43716</td>\n",
       "    </tr>\n",
       "  </tbody>\n",
       "</table>\n",
       "</div>"
      ],
      "text/plain": [
       "           Subjects sex  education_level  age_bl diagnosis_sc  apoe4  mmse_bl  \\\n",
       "0  sub-ADNI011S0003   M               18    81.3           AD      1       20   \n",
       "1  sub-ADNI011S0005   M               16    73.7           CN      0       29   \n",
       "2  sub-ADNI011S0010   F               12    73.9           AD      1       24   \n",
       "3  sub-ADNI022S0014   F               12    78.5           CN      0       29   \n",
       "4  sub-ADNI011S0016   M                9    65.4           CN      1       28   \n",
       "\n",
       "   adas11_bl  adas13_bl  trabscor_bl  mpaccdigit_bl  mpacctrails_bl  CDRSB  \\\n",
       "0      22.00      31.00        148.0      -16.29050       -15.87370    4.5   \n",
       "1       8.67      14.67         90.0       -1.89018        -1.56702    0.0   \n",
       "2      12.33      24.33        100.0      -13.69740       -12.54560    5.0   \n",
       "3       4.33       8.33        101.0       -3.27424        -2.44011    0.0   \n",
       "4      10.33      14.33         79.0       -2.88343        -3.03600    0.0   \n",
       "\n",
       "         ICV  ADASQ4_bl  Ventricles_bl ABETA_bl TAU_bl PTAU_bl   FDG_bl  \n",
       "0  1920690.0        8.0        84599.0    741.5  239.7   22.83  1.10860  \n",
       "1  1640770.0        4.0        34062.0    547.3    337   33.43  1.25956  \n",
       "2  1471180.0       10.0        26820.0    357.4  329.9   31.26  1.03941  \n",
       "3  1269540.0        4.0        46279.0     1582  203.6   16.68  1.25048  \n",
       "4  1352000.0        4.0        17315.0    550.6  170.5   15.88  1.43716  "
      ]
     },
     "execution_count": 6,
     "metadata": {},
     "output_type": "execute_result"
    }
   ],
   "source": [
    "useful_features = [\"Subjects\",\"sex\",\"education_level\",\"age_bl\",\"diagnosis_sc\",\"apoe4\",\"mmse_bl\",\"adas11_bl\",\"adas13_bl\",\"trabscor_bl\",\\\n",
    "                  \"mpaccdigit_bl\",\"mpacctrails_bl\",\"CDRSB\",\"ICV\",\"ADASQ4_bl\",\"Ventricles_bl\",\"ABETA_bl\",\"TAU_bl\",\n",
    "                  \"PTAU_bl\",\"FDG_bl\"]\n",
    "\n",
    "participants_updated_df = participants_df.merge(Adnimerge_df,left_on=[\"alternative_id_1\",\"age_bl\",\"mmse_bl\",\"adas13_bl\",\"adas11_bl\"],\\\n",
    "                             right_on=[\"PTID\",\"AGE\",\"MMSE\",\"ADAS13\",\"ADAS11\"], how=\"left\")\n",
    "participants_updated_df = participants_updated_df[participants_updated_df.VISCODE==\"bl\"][useful_features]\n",
    "participants_updated_df.head()"
   ]
  },
  {
   "cell_type": "code",
   "execution_count": 7,
   "id": "8f37b220",
   "metadata": {},
   "outputs": [
    {
     "data": {
      "text/plain": [
       "Subjects            0\n",
       "sex                 0\n",
       "education_level     0\n",
       "age_bl              0\n",
       "diagnosis_sc        0\n",
       "apoe4               0\n",
       "mmse_bl             0\n",
       "adas11_bl           0\n",
       "adas13_bl           3\n",
       "trabscor_bl         3\n",
       "mpaccdigit_bl       0\n",
       "mpacctrails_bl      0\n",
       "CDRSB               0\n",
       "ICV                 0\n",
       "ADASQ4_bl           0\n",
       "Ventricles_bl       5\n",
       "ABETA_bl           84\n",
       "TAU_bl             84\n",
       "PTAU_bl            84\n",
       "FDG_bl              0\n",
       "dtype: int64"
      ]
     },
     "execution_count": 7,
     "metadata": {},
     "output_type": "execute_result"
    }
   ],
   "source": [
    "participants_updated_df.isna().sum()"
   ]
  },
  {
   "cell_type": "code",
   "execution_count": 8,
   "id": "3138737e",
   "metadata": {},
   "outputs": [
    {
     "data": {
      "text/html": [
       "<div>\n",
       "<style scoped>\n",
       "    .dataframe tbody tr th:only-of-type {\n",
       "        vertical-align: middle;\n",
       "    }\n",
       "\n",
       "    .dataframe tbody tr th {\n",
       "        vertical-align: top;\n",
       "    }\n",
       "\n",
       "    .dataframe thead th {\n",
       "        text-align: right;\n",
       "    }\n",
       "</style>\n",
       "<table border=\"1\" class=\"dataframe\">\n",
       "  <thead>\n",
       "    <tr style=\"text-align: right;\">\n",
       "      <th></th>\n",
       "      <th>education_level</th>\n",
       "      <th>age_bl</th>\n",
       "      <th>apoe4</th>\n",
       "      <th>mmse_bl</th>\n",
       "      <th>adas11_bl</th>\n",
       "      <th>adas13_bl</th>\n",
       "      <th>trabscor_bl</th>\n",
       "      <th>mpaccdigit_bl</th>\n",
       "      <th>mpacctrails_bl</th>\n",
       "      <th>CDRSB</th>\n",
       "      <th>ICV</th>\n",
       "      <th>ADASQ4_bl</th>\n",
       "      <th>Ventricles_bl</th>\n",
       "      <th>FDG_bl</th>\n",
       "    </tr>\n",
       "    <tr>\n",
       "      <th>diagnosis_sc</th>\n",
       "      <th></th>\n",
       "      <th></th>\n",
       "      <th></th>\n",
       "      <th></th>\n",
       "      <th></th>\n",
       "      <th></th>\n",
       "      <th></th>\n",
       "      <th></th>\n",
       "      <th></th>\n",
       "      <th></th>\n",
       "      <th></th>\n",
       "      <th></th>\n",
       "      <th></th>\n",
       "      <th></th>\n",
       "    </tr>\n",
       "  </thead>\n",
       "  <tbody>\n",
       "    <tr>\n",
       "      <th>AD</th>\n",
       "      <td>14.584906</td>\n",
       "      <td>75.664151</td>\n",
       "      <td>0.867925</td>\n",
       "      <td>23.150943</td>\n",
       "      <td>19.654151</td>\n",
       "      <td>30.633400</td>\n",
       "      <td>202.568627</td>\n",
       "      <td>-14.177942</td>\n",
       "      <td>-14.544119</td>\n",
       "      <td>4.698113</td>\n",
       "      <td>1.587791e+06</td>\n",
       "      <td>8.962264</td>\n",
       "      <td>53894.411765</td>\n",
       "      <td>1.033733</td>\n",
       "    </tr>\n",
       "    <tr>\n",
       "      <th>CN</th>\n",
       "      <td>15.533333</td>\n",
       "      <td>75.848333</td>\n",
       "      <td>0.316667</td>\n",
       "      <td>29.000000</td>\n",
       "      <td>6.893833</td>\n",
       "      <td>10.427167</td>\n",
       "      <td>88.450000</td>\n",
       "      <td>-0.565630</td>\n",
       "      <td>-0.804120</td>\n",
       "      <td>0.041667</td>\n",
       "      <td>1.542814e+06</td>\n",
       "      <td>3.033333</td>\n",
       "      <td>35584.830508</td>\n",
       "      <td>1.270001</td>\n",
       "    </tr>\n",
       "    <tr>\n",
       "      <th>LMCI</th>\n",
       "      <td>15.975309</td>\n",
       "      <td>74.735802</td>\n",
       "      <td>0.753086</td>\n",
       "      <td>27.283951</td>\n",
       "      <td>10.798148</td>\n",
       "      <td>18.008025</td>\n",
       "      <td>121.837500</td>\n",
       "      <td>-6.906474</td>\n",
       "      <td>-7.125831</td>\n",
       "      <td>1.444444</td>\n",
       "      <td>1.596197e+06</td>\n",
       "      <td>6.209877</td>\n",
       "      <td>40306.025316</td>\n",
       "      <td>1.179181</td>\n",
       "    </tr>\n",
       "  </tbody>\n",
       "</table>\n",
       "</div>"
      ],
      "text/plain": [
       "              education_level     age_bl     apoe4    mmse_bl  adas11_bl  \\\n",
       "diagnosis_sc                                                               \n",
       "AD                  14.584906  75.664151  0.867925  23.150943  19.654151   \n",
       "CN                  15.533333  75.848333  0.316667  29.000000   6.893833   \n",
       "LMCI                15.975309  74.735802  0.753086  27.283951  10.798148   \n",
       "\n",
       "              adas13_bl  trabscor_bl  mpaccdigit_bl  mpacctrails_bl     CDRSB  \\\n",
       "diagnosis_sc                                                                    \n",
       "AD            30.633400   202.568627     -14.177942      -14.544119  4.698113   \n",
       "CN            10.427167    88.450000      -0.565630       -0.804120  0.041667   \n",
       "LMCI          18.008025   121.837500      -6.906474       -7.125831  1.444444   \n",
       "\n",
       "                       ICV  ADASQ4_bl  Ventricles_bl    FDG_bl  \n",
       "diagnosis_sc                                                    \n",
       "AD            1.587791e+06   8.962264   53894.411765  1.033733  \n",
       "CN            1.542814e+06   3.033333   35584.830508  1.270001  \n",
       "LMCI          1.596197e+06   6.209877   40306.025316  1.179181  "
      ]
     },
     "execution_count": 8,
     "metadata": {},
     "output_type": "execute_result"
    }
   ],
   "source": [
    "participants_updated_df.select_dtypes(exclude=\"object\").groupby(participants_updated_df.diagnosis_sc).mean()"
   ]
  },
  {
   "cell_type": "code",
   "execution_count": 9,
   "id": "4210b140",
   "metadata": {},
   "outputs": [
    {
     "data": {
      "text/html": [
       "<div>\n",
       "<style scoped>\n",
       "    .dataframe tbody tr th:only-of-type {\n",
       "        vertical-align: middle;\n",
       "    }\n",
       "\n",
       "    .dataframe tbody tr th {\n",
       "        vertical-align: top;\n",
       "    }\n",
       "\n",
       "    .dataframe thead th {\n",
       "        text-align: right;\n",
       "    }\n",
       "</style>\n",
       "<table border=\"1\" class=\"dataframe\">\n",
       "  <thead>\n",
       "    <tr style=\"text-align: right;\">\n",
       "      <th></th>\n",
       "      <th>Subjects</th>\n",
       "      <th>sex</th>\n",
       "      <th>diagnosis_sc</th>\n",
       "      <th>age_bl</th>\n",
       "      <th>CDRSB</th>\n",
       "      <th>mmse_bl</th>\n",
       "      <th>apoe4</th>\n",
       "      <th>adas11_bl</th>\n",
       "      <th>mpaccdigit_bl</th>\n",
       "      <th>ICV</th>\n",
       "    </tr>\n",
       "  </thead>\n",
       "  <tbody>\n",
       "    <tr>\n",
       "      <th>0</th>\n",
       "      <td>sub-ADNI003S1122</td>\n",
       "      <td>F</td>\n",
       "      <td>LMCI</td>\n",
       "      <td>76.6</td>\n",
       "      <td>1.0</td>\n",
       "      <td>28</td>\n",
       "      <td>0</td>\n",
       "      <td>5.00</td>\n",
       "      <td>-5.394590</td>\n",
       "      <td>1191650.0</td>\n",
       "    </tr>\n",
       "    <tr>\n",
       "      <th>1</th>\n",
       "      <td>sub-ADNI005S0221</td>\n",
       "      <td>M</td>\n",
       "      <td>AD</td>\n",
       "      <td>67.4</td>\n",
       "      <td>7.0</td>\n",
       "      <td>20</td>\n",
       "      <td>2</td>\n",
       "      <td>24.00</td>\n",
       "      <td>-17.415900</td>\n",
       "      <td>1775150.0</td>\n",
       "    </tr>\n",
       "    <tr>\n",
       "      <th>2</th>\n",
       "      <td>sub-ADNI005S0223</td>\n",
       "      <td>F</td>\n",
       "      <td>CN</td>\n",
       "      <td>78.0</td>\n",
       "      <td>0.0</td>\n",
       "      <td>30</td>\n",
       "      <td>1</td>\n",
       "      <td>6.33</td>\n",
       "      <td>1.612570</td>\n",
       "      <td>1486300.0</td>\n",
       "    </tr>\n",
       "    <tr>\n",
       "      <th>3</th>\n",
       "      <td>sub-ADNI005S0546</td>\n",
       "      <td>M</td>\n",
       "      <td>LMCI</td>\n",
       "      <td>79.4</td>\n",
       "      <td>1.5</td>\n",
       "      <td>28</td>\n",
       "      <td>1</td>\n",
       "      <td>7.00</td>\n",
       "      <td>-5.216470</td>\n",
       "      <td>1486300.0</td>\n",
       "    </tr>\n",
       "    <tr>\n",
       "      <th>4</th>\n",
       "      <td>sub-ADNI005S0610</td>\n",
       "      <td>M</td>\n",
       "      <td>CN</td>\n",
       "      <td>79.0</td>\n",
       "      <td>0.0</td>\n",
       "      <td>29</td>\n",
       "      <td>0</td>\n",
       "      <td>4.00</td>\n",
       "      <td>0.319398</td>\n",
       "      <td>1557650.0</td>\n",
       "    </tr>\n",
       "  </tbody>\n",
       "</table>\n",
       "</div>"
      ],
      "text/plain": [
       "           Subjects sex diagnosis_sc  age_bl  CDRSB  mmse_bl  apoe4  \\\n",
       "0  sub-ADNI003S1122   F         LMCI    76.6    1.0       28      0   \n",
       "1  sub-ADNI005S0221   M           AD    67.4    7.0       20      2   \n",
       "2  sub-ADNI005S0223   F           CN    78.0    0.0       30      1   \n",
       "3  sub-ADNI005S0546   M         LMCI    79.4    1.5       28      1   \n",
       "4  sub-ADNI005S0610   M           CN    79.0    0.0       29      0   \n",
       "\n",
       "   adas11_bl  mpaccdigit_bl        ICV  \n",
       "0       5.00      -5.394590  1191650.0  \n",
       "1      24.00     -17.415900  1775150.0  \n",
       "2       6.33       1.612570  1486300.0  \n",
       "3       7.00      -5.216470  1486300.0  \n",
       "4       4.00       0.319398  1557650.0  "
      ]
     },
     "execution_count": 9,
     "metadata": {},
     "output_type": "execute_result"
    }
   ],
   "source": [
    "selected_features = [\"Subjects\",\"sex\",\"diagnosis_sc\",\"age_bl\",\"CDRSB\",\"mmse_bl\",\\\n",
    "                     \"apoe4\",\"adas11_bl\",\"mpaccdigit_bl\",\"ICV\"]\n",
    "#participants_updated_df[selected_features]\n",
    "participants_df_sorted=participants_updated_df[selected_features].sort_values(by=\"Subjects\").reset_index(drop=True)\n",
    "participants_df_sorted.head()"
   ]
  },
  {
   "cell_type": "code",
   "execution_count": 10,
   "id": "1f34c7cb",
   "metadata": {},
   "outputs": [
    {
     "data": {
      "text/plain": [
       "Text(0.5, 1.0, 'Distribution of participants age')"
      ]
     },
     "execution_count": 10,
     "metadata": {},
     "output_type": "execute_result"
    },
    {
     "data": {
      "image/png": "[encoded data removed]",
      "text/plain": [
       "<Figure size 640x480 with 1 Axes>"
      ]
     },
     "metadata": {},
     "output_type": "display_data"
    }
   ],
   "source": [
    "import matplotlib.pyplot as plt\n",
    "plt.hist(participants_df_sorted.age_bl,bins=50)\n",
    "plt.title(\"Distribution of participants age\")"
   ]
  },
  {
   "cell_type": "code",
   "execution_count": 11,
   "id": "5c333ecb",
   "metadata": {},
   "outputs": [],
   "source": [
    "mri_features_df = pd.concat([lhs_mri_df,rhs_mri_df], axis=1)\n",
    "pet_features_df =pd.concat([lhs_pet_df,rhs_pet_df], axis=1)\n",
    "GC_features_df = participants_df_sorted.loc[:,\"apoe4\":]"
   ]
  },
  {
   "cell_type": "code",
   "execution_count": 12,
   "id": "9c52ad40",
   "metadata": {},
   "outputs": [
    {
     "data": {
      "text/html": [
       "<div>\n",
       "<style scoped>\n",
       "    .dataframe tbody tr th:only-of-type {\n",
       "        vertical-align: middle;\n",
       "    }\n",
       "\n",
       "    .dataframe tbody tr th {\n",
       "        vertical-align: top;\n",
       "    }\n",
       "\n",
       "    .dataframe thead th {\n",
       "        text-align: right;\n",
       "    }\n",
       "</style>\n",
       "<table border=\"1\" class=\"dataframe\">\n",
       "  <thead>\n",
       "    <tr style=\"text-align: right;\">\n",
       "      <th></th>\n",
       "      <th>Subjects</th>\n",
       "      <th>sex</th>\n",
       "      <th>diagnosis_sc</th>\n",
       "      <th>age_bl</th>\n",
       "      <th>CDRSB</th>\n",
       "      <th>mmse_bl</th>\n",
       "      <th>apoe4</th>\n",
       "      <th>adas11_bl</th>\n",
       "      <th>mpaccdigit_bl</th>\n",
       "      <th>ICV</th>\n",
       "      <th>age_category</th>\n",
       "    </tr>\n",
       "  </thead>\n",
       "  <tbody>\n",
       "    <tr>\n",
       "      <th>0</th>\n",
       "      <td>sub-ADNI003S1122</td>\n",
       "      <td>F</td>\n",
       "      <td>LMCI</td>\n",
       "      <td>76.6</td>\n",
       "      <td>1.0</td>\n",
       "      <td>28</td>\n",
       "      <td>0</td>\n",
       "      <td>5.00</td>\n",
       "      <td>-5.394590</td>\n",
       "      <td>1191650.0</td>\n",
       "      <td>greater_than_76</td>\n",
       "    </tr>\n",
       "    <tr>\n",
       "      <th>1</th>\n",
       "      <td>sub-ADNI005S0221</td>\n",
       "      <td>M</td>\n",
       "      <td>AD</td>\n",
       "      <td>67.4</td>\n",
       "      <td>7.0</td>\n",
       "      <td>20</td>\n",
       "      <td>2</td>\n",
       "      <td>24.00</td>\n",
       "      <td>-17.415900</td>\n",
       "      <td>1775150.0</td>\n",
       "      <td>less_than_76</td>\n",
       "    </tr>\n",
       "    <tr>\n",
       "      <th>2</th>\n",
       "      <td>sub-ADNI005S0223</td>\n",
       "      <td>F</td>\n",
       "      <td>CN</td>\n",
       "      <td>78.0</td>\n",
       "      <td>0.0</td>\n",
       "      <td>30</td>\n",
       "      <td>1</td>\n",
       "      <td>6.33</td>\n",
       "      <td>1.612570</td>\n",
       "      <td>1486300.0</td>\n",
       "      <td>greater_than_76</td>\n",
       "    </tr>\n",
       "    <tr>\n",
       "      <th>3</th>\n",
       "      <td>sub-ADNI005S0546</td>\n",
       "      <td>M</td>\n",
       "      <td>LMCI</td>\n",
       "      <td>79.4</td>\n",
       "      <td>1.5</td>\n",
       "      <td>28</td>\n",
       "      <td>1</td>\n",
       "      <td>7.00</td>\n",
       "      <td>-5.216470</td>\n",
       "      <td>1486300.0</td>\n",
       "      <td>greater_than_76</td>\n",
       "    </tr>\n",
       "    <tr>\n",
       "      <th>4</th>\n",
       "      <td>sub-ADNI005S0610</td>\n",
       "      <td>M</td>\n",
       "      <td>CN</td>\n",
       "      <td>79.0</td>\n",
       "      <td>0.0</td>\n",
       "      <td>29</td>\n",
       "      <td>0</td>\n",
       "      <td>4.00</td>\n",
       "      <td>0.319398</td>\n",
       "      <td>1557650.0</td>\n",
       "      <td>greater_than_76</td>\n",
       "    </tr>\n",
       "  </tbody>\n",
       "</table>\n",
       "</div>"
      ],
      "text/plain": [
       "           Subjects sex diagnosis_sc  age_bl  CDRSB  mmse_bl  apoe4  \\\n",
       "0  sub-ADNI003S1122   F         LMCI    76.6    1.0       28      0   \n",
       "1  sub-ADNI005S0221   M           AD    67.4    7.0       20      2   \n",
       "2  sub-ADNI005S0223   F           CN    78.0    0.0       30      1   \n",
       "3  sub-ADNI005S0546   M         LMCI    79.4    1.5       28      1   \n",
       "4  sub-ADNI005S0610   M           CN    79.0    0.0       29      0   \n",
       "\n",
       "   adas11_bl  mpaccdigit_bl        ICV     age_category  \n",
       "0       5.00      -5.394590  1191650.0  greater_than_76  \n",
       "1      24.00     -17.415900  1775150.0     less_than_76  \n",
       "2       6.33       1.612570  1486300.0  greater_than_76  \n",
       "3       7.00      -5.216470  1486300.0  greater_than_76  \n",
       "4       4.00       0.319398  1557650.0  greater_than_76  "
      ]
     },
     "execution_count": 12,
     "metadata": {},
     "output_type": "execute_result"
    }
   ],
   "source": [
    "participants_df_sorted[\"age_category\"] = participants_df_sorted[\"age_bl\"].apply(lambda x: \"less_than_76\" \\\n",
    "                                                                if x< 76 else \"greater_than_76\")\n",
    "participants_df_sorted.head()"
   ]
  },
  {
   "cell_type": "code",
   "execution_count": null,
   "id": "9b3a8752",
   "metadata": {},
   "outputs": [],
   "source": []
  },
  {
   "cell_type": "code",
   "execution_count": 13,
   "id": "bb34659a",
   "metadata": {},
   "outputs": [
    {
     "data": {
      "text/plain": [
       "((194, 68), (194, 68), (194, 4))"
      ]
     },
     "execution_count": 13,
     "metadata": {},
     "output_type": "execute_result"
    }
   ],
   "source": [
    "mri_features_df.shape,pet_features_df.shape,GC_features_df.shape"
   ]
  },
  {
   "cell_type": "code",
   "execution_count": 14,
   "id": "0363e92b",
   "metadata": {},
   "outputs": [],
   "source": [
    "LHSMRI_RHSPET_GC_Features_df = pd.concat([lhs_mri_df, rhs_pet_df, GC_features_df], axis=1)\n",
    "LHSMRI_ALLPET_GC_Features_df = pd.concat([lhs_mri_df, all_pet_df, GC_features_df], axis=1)\n",
    "ALLMRI_ALLPET_GC_Features_df = pd.concat([mri_features_df, pet_features_df, GC_features_df], axis=1)"
   ]
  },
  {
   "cell_type": "code",
   "execution_count": 15,
   "id": "48196ac6",
   "metadata": {},
   "outputs": [
    {
     "data": {
      "text/plain": [
       "((194, 72), (194, 106), (194, 140))"
      ]
     },
     "execution_count": 15,
     "metadata": {},
     "output_type": "execute_result"
    }
   ],
   "source": [
    "LHSMRI_RHSPET_GC_Features_df.shape,LHSMRI_ALLPET_GC_Features_df.shape,ALLMRI_ALLPET_GC_Features_df.shape"
   ]
  },
  {
   "cell_type": "code",
   "execution_count": 16,
   "id": "9ccf6994",
   "metadata": {},
   "outputs": [],
   "source": [
    "LHS_MRI_RHS_PET_features_df = pd.concat([lhs_mri_df,rhs_pet_df], axis=1)\n",
    "LHS_MRI_ALL_PET_features_df = pd.concat([lhs_mri_df,lhs_pet_df,rhs_pet_df], axis=1)"
   ]
  },
  {
   "cell_type": "code",
   "execution_count": 17,
   "id": "148b31bc",
   "metadata": {},
   "outputs": [
    {
     "data": {
      "text/plain": [
       "((194, 68), (194, 102))"
      ]
     },
     "execution_count": 17,
     "metadata": {},
     "output_type": "execute_result"
    }
   ],
   "source": [
    "LHS_MRI_RHS_PET_features_df.shape, LHS_MRI_ALL_PET_features_df.shape"
   ]
  },
  {
   "cell_type": "code",
   "execution_count": 18,
   "id": "33a0c335",
   "metadata": {},
   "outputs": [],
   "source": [
    "seed=0"
   ]
  },
  {
   "cell_type": "code",
   "execution_count": 19,
   "id": "dab25b8e",
   "metadata": {},
   "outputs": [],
   "source": [
    "#create a training and testing split in the ration 80:20\n",
    "from sklearn.model_selection import train_test_split\n",
    "train, test = train_test_split(ALLMRI_ALLPET_GC_Features_df, test_size=0.2,\\\n",
    "     stratify=participants_df_sorted[[\"diagnosis_sc\",\"age_category\",\"sex\"]], random_state=seed)"
   ]
  },
  {
   "cell_type": "code",
   "execution_count": 20,
   "id": "fab40bdf",
   "metadata": {},
   "outputs": [],
   "source": [
    "X_train = train.copy()\n",
    "y_train=participants_df_sorted.loc[train.index].diagnosis_sc\n",
    "\n",
    "X_test = test.copy()\n",
    "y_test=participants_df_sorted.loc[test.index].diagnosis_sc"
   ]
  },
  {
   "cell_type": "code",
   "execution_count": 21,
   "id": "612dbbc1",
   "metadata": {},
   "outputs": [
    {
     "data": {
      "text/plain": [
       "((155, 140), (39, 140))"
      ]
     },
     "execution_count": 21,
     "metadata": {},
     "output_type": "execute_result"
    }
   ],
   "source": [
    "train.shape, test.shape"
   ]
  },
  {
   "cell_type": "code",
   "execution_count": 22,
   "id": "cea2f756",
   "metadata": {},
   "outputs": [
    {
     "data": {
      "text/plain": [
       "(diagnosis_sc\n",
       " LMCI    65\n",
       " CN      48\n",
       " AD      42\n",
       " Name: count, dtype: int64,\n",
       " diagnosis_sc\n",
       " LMCI    16\n",
       " CN      12\n",
       " AD      11\n",
       " Name: count, dtype: int64)"
      ]
     },
     "execution_count": 22,
     "metadata": {},
     "output_type": "execute_result"
    }
   ],
   "source": [
    "y_train.value_counts(), y_test.value_counts()"
   ]
  },
  {
   "cell_type": "code",
   "execution_count": 23,
   "id": "0b65c7aa",
   "metadata": {},
   "outputs": [],
   "source": [
    "#Normalize Features\n",
    "scaler = MinMaxScaler()\n",
    "X_train_scaled = scaler.fit_transform(X_train)\n",
    "X_test_scaled = scaler.transform(X_test)"
   ]
  },
  {
   "cell_type": "markdown",
   "id": "287d5536",
   "metadata": {},
   "source": [
    "### Determine the joint feature embeddings from MRI and PET ###"
   ]
  },
  {
   "cell_type": "code",
   "execution_count": 24,
   "id": "f36ab952",
   "metadata": {},
   "outputs": [],
   "source": [
    "def compute_weight_matrix(X, n_neighbors, t):\n",
    "    # X is the feature matrix for the v-th view with shape (N, M)\n",
    "    # k is the number of nearest neighbors\n",
    "    # t is the parameter in the Gaussian function\n",
    "\n",
    "    N = X.shape[0]  # Number of samples\n",
    "    W = np.zeros((N, N))  # Initialize the weight matrix with zeros\n",
    "\n",
    "    # Use NearestNeighbors from sklearn to find k nearest neighbors\n",
    "    nbrs = NearestNeighbors(n_neighbors=n_neighbors, algorithm='ball_tree').fit(X)\n",
    "    distances, indices = nbrs.kneighbors(X)\n",
    "\n",
    "    # Compute the weight matrix\n",
    "    for i in range(N):\n",
    "        for j in indices[i]:\n",
    "            if i != j :  # Exclude self-loops\n",
    "                W[i, j] = np.exp(-np.linalg.norm(X[i] - X[j])**2 / t)\n",
    "                W[j, i] = W[i, j]  # Ensure the matrix is symmetric\n",
    "\n",
    "    return W"
   ]
  },
  {
   "cell_type": "code",
   "execution_count": 25,
   "id": "7a5eac3a",
   "metadata": {},
   "outputs": [],
   "source": [
    "# mri_features = X_train_scaled[:,:lhs_mri_df.shape[1]]\n",
    "# pet_features = X_train_scaled[:,lhs_mri_df.shape[1]:-4]\n",
    "# GC_features =  X_train_scaled[:,-4:]\n",
    "# mri_features.shape, pet_features.shape,GC_features.shape"
   ]
  },
  {
   "cell_type": "code",
   "execution_count": 26,
   "id": "5d6089a7",
   "metadata": {},
   "outputs": [],
   "source": [
    "def calculate_Laplacian(X, n_neighbors, t, \\\n",
    "                        first_mod_dim,\n",
    "                        last_mod_dim\n",
    "                       ):\n",
    "    \n",
    "    \n",
    "    mri_features = X[:,:first_mod_dim]\n",
    "    pet_features = X[:,first_mod_dim:]\n",
    "    #GC_features =  X[:,last_mod_dim:]\n",
    "    \n",
    "    \n",
    "    W_MRI = compute_weight_matrix(mri_features, n_neighbors, t)\n",
    "    WMRI_sum = np.sum(W_MRI, axis=0)\n",
    "    D1= np.diag(WMRI_sum)\n",
    "    L1 = D1-W_MRI\n",
    "    \n",
    "    W_PET = compute_weight_matrix(pet_features, n_neighbors, t)\n",
    "    WPET_sum = np.sum(W_PET, axis=0)\n",
    "    D2= np.diag(WPET_sum)\n",
    "    L2 = D2-W_PET\n",
    "    L = np.array([L1,L2])\n",
    "    \n",
    "#     W_GC = compute_weight_matrix(GC_features, n_neighbors, t)\n",
    "#     WGC_sum = np.sum(W_GC, axis=0)\n",
    "#     D3= np.diag(WGC_sum)\n",
    "#     L3 = D3-W_GC\n",
    "    \n",
    "#     L = np.array([L1,L2,L3])\n",
    "    \n",
    "    return L"
   ]
  },
  {
   "cell_type": "code",
   "execution_count": 27,
   "id": "7480f7c3",
   "metadata": {},
   "outputs": [],
   "source": [
    "import numpy as np\n",
    "import pandas as pd\n",
    "\n",
    "def calculate_Obj(X_hat, X, Y,U,L,V, beta, lambda1, lambda2):\n",
    "    \n",
    "    term1 = np.linalg.norm(X_hat - U @ Y, 'fro')**2\n",
    "    term2=lambda1 * sum(beta[v]**r * np.trace(Y @ L[v] @ Y.T) for v in range(V))\n",
    "    term3 = lambda2* np.linalg.norm(X_hat- X, ord=2,axis=1).sum()\n",
    "    \n",
    "    obj = term1+term2+term3\n",
    "    \n",
    "    return obj\n",
    "\n",
    "\n",
    "def calculate_W_hat(X_hat, X):\n",
    "    \n",
    "    frobenius_norms = np.linalg.norm(X_hat - X, axis=1)\n",
    "    W_hat = np.diag(1 / (2 * frobenius_norms))\n",
    "    \n",
    "    return W_hat"
   ]
  },
  {
   "cell_type": "code",
   "execution_count": 28,
   "id": "7f5e9c3f",
   "metadata": {},
   "outputs": [],
   "source": [
    "import scipy"
   ]
  },
  {
   "cell_type": "code",
   "execution_count": 29,
   "id": "22aa2e1a",
   "metadata": {},
   "outputs": [],
   "source": [
    "labels = participants_df_sorted.diagnosis_sc.values"
   ]
  },
  {
   "cell_type": "code",
   "execution_count": 85,
   "id": "90b7371b",
   "metadata": {},
   "outputs": [],
   "source": [
    "def EMR_SLRA(X_arr,d,lambda1,lambda2,n_neighbors,r,Iter,\\\n",
    "             eps,t,first_mod_dim,last_mod_dim=-4,seed=0):\n",
    "    \n",
    "    L = calculate_Laplacian(X_arr, n_neighbors, t,first_mod_dim,last_mod_dim)\n",
    "    X = X_arr.T\n",
    "    m, N = X.shape\n",
    "    V = 2 #len(X)  #number of modalities\n",
    "    #3print(f\"X shape: {X.shape}\")\n",
    "    #calculate the laplacian\n",
    "    \n",
    "    #print(f\"L:{L.shape}\")\n",
    "    # Initialization\n",
    "    np.random.seed(seed)\n",
    "    Yt = np.random.rand(d, N)\n",
    "    X_hat = X + np.random.rand(m, N)\n",
    "    beta = np.array([1/V]*V)\n",
    "    #print(f\"Initial Beta: {beta}\")\n",
    "    W_hat = calculate_W_hat(X_hat, X) \n",
    "    #print(f\"W_hat: {W_hat.shape}\")\n",
    "    Objt=0\n",
    "    min_obj = np.inf\n",
    "    result = {}\n",
    "    \n",
    "    for t in range(Iter):\n",
    "        # SVD decomposition\n",
    "        #print(f\"Iter :{t+1}\")\n",
    "        #print(f\"\\n\")\n",
    "        #print(f\"Yt: {Yt.shape}\")\n",
    "        #print(f\"Xhat: {X_hat.shape}\")\n",
    "        Zt = X_hat @ Yt.T  # m x N x N x d == > m x d\n",
    "        #print(f\"Zt dim: {Zt.shape}\")\n",
    "        \n",
    "        try:\n",
    "            #print(Zt.shape)\n",
    "            Gt, Dt, Vt = scipy.linalg.svd(Zt,full_matrices=False)\n",
    "        except:\n",
    "            print(f\"No convergence for SVD....Skip\")\n",
    "            continue\n",
    "        # Update Ut+1\n",
    "        #print(f\"Gt: {Gt.shape}\") # m x d\n",
    "        #print(Gt)\n",
    "        #print(f\"Vt: {Vt.shape}\") # d x d\n",
    "        #print(f\"Dt: {Dt.shape}\") # d x d\n",
    "        #print(Dt)\n",
    "        Ut= Gt @ Vt.T #m x d\n",
    "        #print(f\"Ut: {Ut.shape}\") \n",
    "        \n",
    "        # Update Yt+1\n",
    "        Lt = sum([(beta[v]**r) * L[v] for v in range(V)])\n",
    "        #print(f\"Lt shape: {Lt.shape}\")\n",
    "        Psi_t = np.eye(N) + lambda1 * Lt # N x N\n",
    "        #print(f\"Psi_t shape: {Psi_t.shape}\")\n",
    "        #Yt_next = Ut_next.T @ np.linalg.inv(Psi_t) @ X_hat\n",
    "        Yt_next = Ut.T @ X_hat @ np.linalg.inv(Psi_t)  # N x N # it should be Ut.T instead of Ut_next.T\n",
    "        #print(f\"Yt_next:{Yt_next.shape}\")\n",
    "        \n",
    "        # Update beta\n",
    "        p_t = np.array([np.trace(Yt@ L[v] @ Yt.T) for v in range(V)]) #\n",
    "        #print(f\"p_t shape: {p_t.shape}\")\n",
    "        #beta = (r * p_t)**(1 / (1 - r)) / sum((r * p_t)**(1 / (1 - r)))\n",
    "\n",
    "        beta = [(r * p_t[v])**(1 / (1 - r)) for v in range(V)]\n",
    "        beta /= sum(beta)\n",
    "        #print(f\"beta shape: {beta.shape}\")\n",
    "        #print(f\"Iter{t+1}: beta:{beta}\")\n",
    "        \n",
    "        \n",
    "        # Update X_hat and W_hat\n",
    "        #X_hat_next = np.linalg.inv(np.eye(d) + lambda2 * W_hat) @ (Ut_next @ Yt_next + lambda2 * W_hat @ X)\n",
    "        #print(f\"W_hat: {W_hat.shape}\")\n",
    "        #(Ut @ Yt)==> 68 x194\n",
    "        a=np.linalg.inv(np.eye(m) + lambda2 * W_hat)\n",
    "        b=(Ut @ Yt) + (lambda2 *W_hat@X)#np.linalg.inv(np.eye(d) + lambda2 * W_hat) @ (U @ Y + lambda2 * W_hat @ X)#\n",
    "        #print(f\"a:{a.shape}\")\n",
    "        #print(f\"b:{b.shape}\")\n",
    "        X_hat_next = a @ b\n",
    "        #X_hat_next = (np.eye(m) + lambda2 * W_hat) @ np.linalg.pinv((Ut @ Yt) + (lambda2 *W_hat@X)).T\n",
    "        #X_hat_next=X_hat_next.T\n",
    "        #print(f\"X_hat_next  shape: {X_hat_next.shape}\")\n",
    "        \n",
    "        W_hat_next = calculate_W_hat(X_hat_next, X)\n",
    "        \n",
    "        # Calculate Objt+1 and check for convergence\n",
    "        Objt_next = calculate_Obj(X_hat_next,X, Yt_next,Ut,L,V,beta, lambda1, lambda2) \n",
    "        \n",
    "        if Objt_next < min_obj:\n",
    "            #print(\"Best Minimum.....Storing results\")\n",
    "            result[\"loss\"]=Objt_next\n",
    "            result[\"Yt\"]=Yt_next\n",
    "            result[\"Ut\"]=Ut\n",
    "            result[\"iter\"]=t+1\n",
    "            min_obj=Objt_next\n",
    "        \n",
    "        #print(Objt_next)\n",
    "        \n",
    "        if abs(Objt_next - Objt) < eps:\n",
    "            break\n",
    "        \n",
    "        # Update variables for the next iteration\n",
    "        Yt, X_hat, W_hat, Objt = Yt_next, X_hat_next, W_hat_next, Objt_next\n",
    "        #print(\"\\n\")\n",
    "        #print(\"\\n\")\n",
    "    \n",
    "    return result"
   ]
  },
  {
   "cell_type": "code",
   "execution_count": null,
   "id": "0a3e97d9",
   "metadata": {},
   "outputs": [],
   "source": []
  },
  {
   "cell_type": "code",
   "execution_count": 86,
   "id": "b170e032",
   "metadata": {},
   "outputs": [],
   "source": [
    "first_mod_dim=mri_features_df.shape[1]\n",
    "last_mod_dim = -GC_features_df.shape[1]\n",
    "\n",
    "Input_arr=X_train_scaled[:,:last_mod_dim]\n",
    "d=60\n",
    "lambda1=0.2\n",
    "lambda2=0.1\n",
    "n_neighbors=10# num neighbors\n",
    "r=1.5\n",
    "Iter = 500\n",
    "eps=0.5\n",
    "t=1\n"
   ]
  },
  {
   "cell_type": "code",
   "execution_count": 87,
   "id": "87af4b38",
   "metadata": {},
   "outputs": [],
   "source": [
    "result=EMR_SLRA(X_arr=Input_arr,\n",
    "                 d=d, \n",
    "                 lambda1=lambda1, \n",
    "                 lambda2=lambda2, \n",
    "                 n_neighbors=n_neighbors, \n",
    "                 r=r, \n",
    "                 Iter=Iter,\n",
    "                 eps=eps,\n",
    "                 t=t,\n",
    "                 first_mod_dim=first_mod_dim,\n",
    "                last_mod_dim=last_mod_dim\n",
    "                \n",
    "                )"
   ]
  },
  {
   "cell_type": "code",
   "execution_count": null,
   "id": "98353a39",
   "metadata": {},
   "outputs": [],
   "source": []
  },
  {
   "cell_type": "code",
   "execution_count": 33,
   "id": "6aee6d49",
   "metadata": {},
   "outputs": [
    {
     "data": {
      "text/plain": [
       "((136, 60), (60, 155))"
      ]
     },
     "execution_count": 33,
     "metadata": {},
     "output_type": "execute_result"
    }
   ],
   "source": [
    "result[\"Ut\"].shape, result[\"Yt\"].shape"
   ]
  },
  {
   "cell_type": "code",
   "execution_count": 34,
   "id": "56a21371",
   "metadata": {},
   "outputs": [
    {
     "data": {
      "text/plain": [
       "(221, 964.8971404862872)"
      ]
     },
     "execution_count": 34,
     "metadata": {},
     "output_type": "execute_result"
    }
   ],
   "source": [
    "result[\"iter\"], result[\"loss\"]"
   ]
  },
  {
   "cell_type": "code",
   "execution_count": 35,
   "id": "b2d293c9",
   "metadata": {},
   "outputs": [
    {
     "data": {
      "text/plain": [
       "<matplotlib.image.AxesImage at 0x154b42690>"
      ]
     },
     "execution_count": 35,
     "metadata": {},
     "output_type": "execute_result"
    },
    {
     "data": {
      "image/png": "[encoded data removed]",
      "text/plain": [
       "<Figure size 640x480 with 1 Axes>"
      ]
     },
     "metadata": {},
     "output_type": "display_data"
    }
   ],
   "source": [
    "import matplotlib.pyplot as plt\n",
    "plt.imshow(result[\"Yt\"])"
   ]
  },
  {
   "cell_type": "code",
   "execution_count": 36,
   "id": "22a871c0",
   "metadata": {},
   "outputs": [
    {
     "data": {
      "text/plain": [
       "<matplotlib.image.AxesImage at 0x154bb8450>"
      ]
     },
     "execution_count": 36,
     "metadata": {},
     "output_type": "execute_result"
    },
    {
     "data": {
      "image/png": "[encoded data removed]",
      "text/plain": [
       "<Figure size 640x480 with 1 Axes>"
      ]
     },
     "metadata": {},
     "output_type": "display_data"
    }
   ],
   "source": [
    "plt.imshow(result[\"Ut\"])"
   ]
  },
  {
   "cell_type": "markdown",
   "id": "4a2bbb1a",
   "metadata": {},
   "source": [
    "## Test the MRI and PET Joint Embeddings on A single Kernel SVM ##"
   ]
  },
  {
   "cell_type": "code",
   "execution_count": 37,
   "id": "a7112d1b",
   "metadata": {},
   "outputs": [],
   "source": [
    "from sklearn.svm import SVC\n",
    "from sklearn.metrics import accuracy_score, balanced_accuracy_score, classification_report"
   ]
  },
  {
   "cell_type": "code",
   "execution_count": 38,
   "id": "29097c5b",
   "metadata": {},
   "outputs": [],
   "source": [
    "X_train_embedding=result[\"Yt\"].T\n",
    "X_test_embedding = X_test_scaled[:,:last_mod_dim]@ result[\"Ut\"] "
   ]
  },
  {
   "cell_type": "code",
   "execution_count": 39,
   "id": "752aac9f",
   "metadata": {},
   "outputs": [
    {
     "data": {
      "text/plain": [
       "((155, 60), (39, 60))"
      ]
     },
     "execution_count": 39,
     "metadata": {},
     "output_type": "execute_result"
    }
   ],
   "source": [
    "X_train_embedding.shape, X_test_embedding.shape"
   ]
  },
  {
   "cell_type": "code",
   "execution_count": 40,
   "id": "85a4a249",
   "metadata": {},
   "outputs": [
    {
     "data": {
      "text/html": [
       "<style>#sk-container-id-1 {color: black;}#sk-container-id-1 pre{padding: 0;}#sk-container-id-1 div.sk-toggleable {background-color: white;}#sk-container-id-1 label.sk-toggleable__label {cursor: pointer;display: block;width: 100%;margin-bottom: 0;padding: 0.3em;box-sizing: border-box;text-align: center;}#sk-container-id-1 label.sk-toggleable__label-arrow:before {content: \"▸\";float: left;margin-right: 0.25em;color: #696969;}#sk-container-id-1 label.sk-toggleable__label-arrow:hover:before {color: black;}#sk-container-id-1 div.sk-estimator:hover label.sk-toggleable__label-arrow:before {color: black;}#sk-container-id-1 div.sk-toggleable__content {max-height: 0;max-width: 0;overflow: hidden;text-align: left;background-color: #f0f8ff;}#sk-container-id-1 div.sk-toggleable__content pre {margin: 0.2em;color: black;border-radius: 0.25em;background-color: #f0f8ff;}#sk-container-id-1 input.sk-toggleable__control:checked~div.sk-toggleable__content {max-height: 200px;max-width: 100%;overflow: auto;}#sk-container-id-1 input.sk-toggleable__control:checked~label.sk-toggleable__label-arrow:before {content: \"▾\";}#sk-container-id-1 div.sk-estimator input.sk-toggleable__control:checked~label.sk-toggleable__label {background-color: #d4ebff;}#sk-container-id-1 div.sk-label input.sk-toggleable__control:checked~label.sk-toggleable__label {background-color: #d4ebff;}#sk-container-id-1 input.sk-hidden--visually {border: 0;clip: rect(1px 1px 1px 1px);clip: rect(1px, 1px, 1px, 1px);height: 1px;margin: -1px;overflow: hidden;padding: 0;position: absolute;width: 1px;}#sk-container-id-1 div.sk-estimator {font-family: monospace;background-color: #f0f8ff;border: 1px dotted black;border-radius: 0.25em;box-sizing: border-box;margin-bottom: 0.5em;}#sk-container-id-1 div.sk-estimator:hover {background-color: #d4ebff;}#sk-container-id-1 div.sk-parallel-item::after {content: \"\";width: 100%;border-bottom: 1px solid gray;flex-grow: 1;}#sk-container-id-1 div.sk-label:hover label.sk-toggleable__label {background-color: #d4ebff;}#sk-container-id-1 div.sk-serial::before {content: \"\";position: absolute;border-left: 1px solid gray;box-sizing: border-box;top: 0;bottom: 0;left: 50%;z-index: 0;}#sk-container-id-1 div.sk-serial {display: flex;flex-direction: column;align-items: center;background-color: white;padding-right: 0.2em;padding-left: 0.2em;position: relative;}#sk-container-id-1 div.sk-item {position: relative;z-index: 1;}#sk-container-id-1 div.sk-parallel {display: flex;align-items: stretch;justify-content: center;background-color: white;position: relative;}#sk-container-id-1 div.sk-item::before, #sk-container-id-1 div.sk-parallel-item::before {content: \"\";position: absolute;border-left: 1px solid gray;box-sizing: border-box;top: 0;bottom: 0;left: 50%;z-index: -1;}#sk-container-id-1 div.sk-parallel-item {display: flex;flex-direction: column;z-index: 1;position: relative;background-color: white;}#sk-container-id-1 div.sk-parallel-item:first-child::after {align-self: flex-end;width: 50%;}#sk-container-id-1 div.sk-parallel-item:last-child::after {align-self: flex-start;width: 50%;}#sk-container-id-1 div.sk-parallel-item:only-child::after {width: 0;}#sk-container-id-1 div.sk-dashed-wrapped {border: 1px dashed gray;margin: 0 0.4em 0.5em 0.4em;box-sizing: border-box;padding-bottom: 0.4em;background-color: white;}#sk-container-id-1 div.sk-label label {font-family: monospace;font-weight: bold;display: inline-block;line-height: 1.2em;}#sk-container-id-1 div.sk-label-container {text-align: center;}#sk-container-id-1 div.sk-container {/* jupyter's `normalize.less` sets `[hidden] { display: none; }` but bootstrap.min.css set `[hidden] { display: none !important; }` so we also need the `!important` here to be able to override the default hidden behavior on the sphinx rendered scikit-learn.org. See: https://github.com/scikit-learn/scikit-learn/issues/21755 */display: inline-block !important;position: relative;}#sk-container-id-1 div.sk-text-repr-fallback {display: none;}</style><div id=\"sk-container-id-1\" class=\"sk-top-container\"><div class=\"sk-text-repr-fallback\"><pre>SVC(C=100, class_weight=&#x27;balanced&#x27;, probability=True, random_state=0)</pre><b>In a Jupyter environment, please rerun this cell to show the HTML representation or trust the notebook. <br />On GitHub, the HTML representation is unable to render, please try loading this page with nbviewer.org.</b></div><div class=\"sk-container\" hidden><div class=\"sk-item\"><div class=\"sk-estimator sk-toggleable\"><input class=\"sk-toggleable__control sk-hidden--visually\" id=\"sk-estimator-id-1\" type=\"checkbox\" checked><label for=\"sk-estimator-id-1\" class=\"sk-toggleable__label sk-toggleable__label-arrow\">SVC</label><div class=\"sk-toggleable__content\"><pre>SVC(C=100, class_weight=&#x27;balanced&#x27;, probability=True, random_state=0)</pre></div></div></div></div></div>"
      ],
      "text/plain": [
       "SVC(C=100, class_weight='balanced', probability=True, random_state=0)"
      ]
     },
     "execution_count": 40,
     "metadata": {},
     "output_type": "execute_result"
    }
   ],
   "source": [
    "svm = SVC(random_state=seed, class_weight=\"balanced\", probability=True, C=100)\n",
    "svm.fit(X_train_embedding, y_train.values)"
   ]
  },
  {
   "cell_type": "code",
   "execution_count": 41,
   "id": "9767f4de",
   "metadata": {},
   "outputs": [],
   "source": [
    "y_pred_train= svm.predict(X_train_embedding)\n",
    "y_pred_test= svm.predict(X_test_embedding)"
   ]
  },
  {
   "cell_type": "code",
   "execution_count": 42,
   "id": "21cdafcb",
   "metadata": {},
   "outputs": [
    {
     "data": {
      "text/plain": [
       "0.4774193548387097"
      ]
     },
     "execution_count": 42,
     "metadata": {},
     "output_type": "execute_result"
    }
   ],
   "source": [
    "accuracy_score(y_train, y_pred_train)"
   ]
  },
  {
   "cell_type": "code",
   "execution_count": 43,
   "id": "f9692e05",
   "metadata": {},
   "outputs": [
    {
     "data": {
      "text/plain": [
       "0.28205128205128205"
      ]
     },
     "execution_count": 43,
     "metadata": {},
     "output_type": "execute_result"
    }
   ],
   "source": [
    "accuracy_score(y_test, y_pred_test)"
   ]
  },
  {
   "cell_type": "code",
   "execution_count": 44,
   "id": "e905f670",
   "metadata": {},
   "outputs": [
    {
     "name": "stdout",
     "output_type": "stream",
     "text": [
      "              precision    recall  f1-score   support\n",
      "\n",
      "          AD       0.28      1.00      0.44        11\n",
      "          CN       0.00      0.00      0.00        12\n",
      "        LMCI       0.00      0.00      0.00        16\n",
      "\n",
      "    accuracy                           0.28        39\n",
      "   macro avg       0.09      0.33      0.15        39\n",
      "weighted avg       0.08      0.28      0.12        39\n",
      "\n"
     ]
    },
    {
     "name": "stderr",
     "output_type": "stream",
     "text": [
      "/Users/oyekanmiolatunde/miniconda3/envs/cvxpy_env/lib/python3.11/site-packages/sklearn/metrics/_classification.py:1469: UndefinedMetricWarning: Precision and F-score are ill-defined and being set to 0.0 in labels with no predicted samples. Use `zero_division` parameter to control this behavior.\n",
      "  _warn_prf(average, modifier, msg_start, len(result))\n",
      "/Users/oyekanmiolatunde/miniconda3/envs/cvxpy_env/lib/python3.11/site-packages/sklearn/metrics/_classification.py:1469: UndefinedMetricWarning: Precision and F-score are ill-defined and being set to 0.0 in labels with no predicted samples. Use `zero_division` parameter to control this behavior.\n",
      "  _warn_prf(average, modifier, msg_start, len(result))\n",
      "/Users/oyekanmiolatunde/miniconda3/envs/cvxpy_env/lib/python3.11/site-packages/sklearn/metrics/_classification.py:1469: UndefinedMetricWarning: Precision and F-score are ill-defined and being set to 0.0 in labels with no predicted samples. Use `zero_division` parameter to control this behavior.\n",
      "  _warn_prf(average, modifier, msg_start, len(result))\n"
     ]
    }
   ],
   "source": [
    "print(classification_report(y_test, y_pred_test))"
   ]
  },
  {
   "cell_type": "code",
   "execution_count": null,
   "id": "13c4ec66",
   "metadata": {},
   "outputs": [],
   "source": []
  },
  {
   "cell_type": "markdown",
   "id": "4accec0b",
   "metadata": {},
   "source": [
    "## Tune the Feature Embedding Params ##"
   ]
  },
  {
   "cell_type": "code",
   "execution_count": 45,
   "id": "b25dbebb",
   "metadata": {},
   "outputs": [],
   "source": [
    "from hyperopt import hp, fmin, tpe,Trials,STATUS_OK\n",
    "param_space={\n",
    "        \"X_arr\":Input_arr,\n",
    "        \"d\":60,\n",
    "        \"lambda1\":hp.loguniform(\"lambda1\",np.log(10e-3),np.log(10e2)),\n",
    "        \"lambda2\":hp.loguniform(\"lambda2\",np.log(10e-3),np.log(10e2)),\n",
    "        \"n_neighbors\":8,\n",
    "        \"r\":hp.randint(\"r\",5,15),\n",
    "        \"Iter\":350,\n",
    "        \"eps\":0.5,\n",
    "        \"t\":1.5,\n",
    "        \"first_mod_dim\":first_mod_dim,\n",
    "        \"last_mod_dim\":last_mod_dim\n",
    "        }"
   ]
  },
  {
   "cell_type": "code",
   "execution_count": 46,
   "id": "5100c01e",
   "metadata": {},
   "outputs": [],
   "source": [
    "def tune_EMR_SLRAparams(params_space):\n",
    " \n",
    "    #print(f'inside EMR_TUN:{params_space[\"X\"].shape}')\n",
    "    \n",
    "    def objective(space):\n",
    "        \n",
    "        scores = EMR_SLRA(**space)\n",
    "        \n",
    "                                 \n",
    "        #get the mean for all k folds acc\n",
    "        loss = scores[\"loss\"]\n",
    "        \n",
    "       \n",
    "        return {'loss': loss,\"status\":STATUS_OK}\n",
    "\n",
    "    trials_ = Trials()\n",
    "    best_params= fmin(fn= objective,\n",
    "                space= params_space,\n",
    "                algo= tpe.suggest,\n",
    "                max_evals =300,\n",
    "                trials= trials_)\n",
    "    \n",
    "    return best_params, trials_"
   ]
  },
  {
   "cell_type": "code",
   "execution_count": 47,
   "id": "f3335dc6",
   "metadata": {},
   "outputs": [
    {
     "name": "stdout",
     "output_type": "stream",
     "text": [
      "100%|████████| 300/300 [06:09<00:00,  1.23s/trial, best loss: 18.78535847560839]\n"
     ]
    }
   ],
   "source": [
    "result1 = tune_EMR_SLRAparams(param_space)"
   ]
  },
  {
   "cell_type": "code",
   "execution_count": 48,
   "id": "39e1699b",
   "metadata": {},
   "outputs": [
    {
     "data": {
      "text/plain": [
       "({'lambda1': 0.01001733201391301, 'lambda2': 233.4190194360768, 'r': 5},\n",
       " <hyperopt.base.Trials at 0x154c201d0>)"
      ]
     },
     "execution_count": 48,
     "metadata": {},
     "output_type": "execute_result"
    }
   ],
   "source": [
    "result1"
   ]
  },
  {
   "cell_type": "code",
   "execution_count": 49,
   "id": "6d59e65b",
   "metadata": {},
   "outputs": [
    {
     "data": {
      "text/plain": [
       "array([<Axes: >, <Axes: >], dtype=object)"
      ]
     },
     "execution_count": 49,
     "metadata": {},
     "output_type": "execute_result"
    },
    {
     "data": {
      "image/png": "[encoded data removed]",
      "text/plain": [
       "<Figure size 1000x800 with 2 Axes>"
      ]
     },
     "metadata": {},
     "output_type": "display_data"
    }
   ],
   "source": [
    "tpe_results=np.array([[x['result']['loss'],\\\n",
    "                       x['misc']['vals']['r'][0],\n",
    "                          ]for x in result1[1].trials])\n",
    "results_df=pd.DataFrame(tpe_results, columns=[\"loss\",\"r\"])\n",
    "results_df.plot(subplots=True,figsize=(10, 8))"
   ]
  },
  {
   "cell_type": "code",
   "execution_count": 50,
   "id": "2cae705a",
   "metadata": {},
   "outputs": [],
   "source": [
    "result1_ = result1[0]\n",
    "\n",
    "result_best= EMR_SLRA(\n",
    "                      X_arr=param_space[\"X_arr\"],\n",
    "                      d=param_space[\"d\"],\n",
    "                      lambda1=result1_[\"lambda1\"],\n",
    "                      lambda2=result1_[\"lambda2\"],\n",
    "                      n_neighbors=param_space[\"n_neighbors\"],\n",
    "                      r=result1_[\"r\"],\n",
    "                      Iter=param_space[\"Iter\"],\n",
    "                      eps=param_space[\"eps\"],\n",
    "                      t=param_space[\"t\"],\n",
    "                      first_mod_dim=first_mod_dim,\n",
    "                    last_mod_dim = last_mod_dim\n",
    "              \n",
    "                     )"
   ]
  },
  {
   "cell_type": "code",
   "execution_count": 51,
   "id": "89767d85",
   "metadata": {},
   "outputs": [
    {
     "data": {
      "text/plain": [
       "(18.78535847560839, 5)"
      ]
     },
     "execution_count": 51,
     "metadata": {},
     "output_type": "execute_result"
    }
   ],
   "source": [
    "result_best[\"loss\"],result1_[\"r\"],#result1_[\"n_neighbors\"]"
   ]
  },
  {
   "cell_type": "code",
   "execution_count": 52,
   "id": "14e398d1",
   "metadata": {},
   "outputs": [
    {
     "data": {
      "text/plain": [
       "<matplotlib.image.AxesImage at 0x15557ded0>"
      ]
     },
     "execution_count": 52,
     "metadata": {},
     "output_type": "execute_result"
    },
    {
     "data": {
      "image/png": "[encoded data removed]",
      "text/plain": [
       "<Figure size 640x480 with 1 Axes>"
      ]
     },
     "metadata": {},
     "output_type": "display_data"
    }
   ],
   "source": [
    "plt.imshow(result_best[\"Yt\"])"
   ]
  },
  {
   "cell_type": "code",
   "execution_count": 53,
   "id": "7418a41c",
   "metadata": {},
   "outputs": [
    {
     "data": {
      "text/plain": [
       "<matplotlib.image.AxesImage at 0x155885490>"
      ]
     },
     "execution_count": 53,
     "metadata": {},
     "output_type": "execute_result"
    },
    {
     "data": {
      "image/png": "[encoded data removed]",
      "text/plain": [
       "<Figure size 640x480 with 1 Axes>"
      ]
     },
     "metadata": {},
     "output_type": "display_data"
    }
   ],
   "source": [
    "plt.imshow(result_best[\"Ut\"])"
   ]
  },
  {
   "cell_type": "code",
   "execution_count": 54,
   "id": "166ca985",
   "metadata": {},
   "outputs": [],
   "source": [
    "new_X_train=result_best[\"Yt\"].T\n",
    "new_X_test = X_test_scaled[:,:last_mod_dim]@ result_best[\"Ut\"] "
   ]
  },
  {
   "cell_type": "code",
   "execution_count": 55,
   "id": "ed2db1f0",
   "metadata": {},
   "outputs": [
    {
     "data": {
      "text/plain": [
       "((155, 60), (39, 60))"
      ]
     },
     "execution_count": 55,
     "metadata": {},
     "output_type": "execute_result"
    }
   ],
   "source": [
    "new_X_train.shape, new_X_test.shape"
   ]
  },
  {
   "cell_type": "markdown",
   "id": "5f2b7f08",
   "metadata": {},
   "source": [
    "## Training Single Kernel SVM with the Embeddings ##"
   ]
  },
  {
   "cell_type": "code",
   "execution_count": 56,
   "id": "22eaa6eb",
   "metadata": {},
   "outputs": [
    {
     "data": {
      "text/html": [
       "<style>#sk-container-id-2 {color: black;}#sk-container-id-2 pre{padding: 0;}#sk-container-id-2 div.sk-toggleable {background-color: white;}#sk-container-id-2 label.sk-toggleable__label {cursor: pointer;display: block;width: 100%;margin-bottom: 0;padding: 0.3em;box-sizing: border-box;text-align: center;}#sk-container-id-2 label.sk-toggleable__label-arrow:before {content: \"▸\";float: left;margin-right: 0.25em;color: #696969;}#sk-container-id-2 label.sk-toggleable__label-arrow:hover:before {color: black;}#sk-container-id-2 div.sk-estimator:hover label.sk-toggleable__label-arrow:before {color: black;}#sk-container-id-2 div.sk-toggleable__content {max-height: 0;max-width: 0;overflow: hidden;text-align: left;background-color: #f0f8ff;}#sk-container-id-2 div.sk-toggleable__content pre {margin: 0.2em;color: black;border-radius: 0.25em;background-color: #f0f8ff;}#sk-container-id-2 input.sk-toggleable__control:checked~div.sk-toggleable__content {max-height: 200px;max-width: 100%;overflow: auto;}#sk-container-id-2 input.sk-toggleable__control:checked~label.sk-toggleable__label-arrow:before {content: \"▾\";}#sk-container-id-2 div.sk-estimator input.sk-toggleable__control:checked~label.sk-toggleable__label {background-color: #d4ebff;}#sk-container-id-2 div.sk-label input.sk-toggleable__control:checked~label.sk-toggleable__label {background-color: #d4ebff;}#sk-container-id-2 input.sk-hidden--visually {border: 0;clip: rect(1px 1px 1px 1px);clip: rect(1px, 1px, 1px, 1px);height: 1px;margin: -1px;overflow: hidden;padding: 0;position: absolute;width: 1px;}#sk-container-id-2 div.sk-estimator {font-family: monospace;background-color: #f0f8ff;border: 1px dotted black;border-radius: 0.25em;box-sizing: border-box;margin-bottom: 0.5em;}#sk-container-id-2 div.sk-estimator:hover {background-color: #d4ebff;}#sk-container-id-2 div.sk-parallel-item::after {content: \"\";width: 100%;border-bottom: 1px solid gray;flex-grow: 1;}#sk-container-id-2 div.sk-label:hover label.sk-toggleable__label {background-color: #d4ebff;}#sk-container-id-2 div.sk-serial::before {content: \"\";position: absolute;border-left: 1px solid gray;box-sizing: border-box;top: 0;bottom: 0;left: 50%;z-index: 0;}#sk-container-id-2 div.sk-serial {display: flex;flex-direction: column;align-items: center;background-color: white;padding-right: 0.2em;padding-left: 0.2em;position: relative;}#sk-container-id-2 div.sk-item {position: relative;z-index: 1;}#sk-container-id-2 div.sk-parallel {display: flex;align-items: stretch;justify-content: center;background-color: white;position: relative;}#sk-container-id-2 div.sk-item::before, #sk-container-id-2 div.sk-parallel-item::before {content: \"\";position: absolute;border-left: 1px solid gray;box-sizing: border-box;top: 0;bottom: 0;left: 50%;z-index: -1;}#sk-container-id-2 div.sk-parallel-item {display: flex;flex-direction: column;z-index: 1;position: relative;background-color: white;}#sk-container-id-2 div.sk-parallel-item:first-child::after {align-self: flex-end;width: 50%;}#sk-container-id-2 div.sk-parallel-item:last-child::after {align-self: flex-start;width: 50%;}#sk-container-id-2 div.sk-parallel-item:only-child::after {width: 0;}#sk-container-id-2 div.sk-dashed-wrapped {border: 1px dashed gray;margin: 0 0.4em 0.5em 0.4em;box-sizing: border-box;padding-bottom: 0.4em;background-color: white;}#sk-container-id-2 div.sk-label label {font-family: monospace;font-weight: bold;display: inline-block;line-height: 1.2em;}#sk-container-id-2 div.sk-label-container {text-align: center;}#sk-container-id-2 div.sk-container {/* jupyter's `normalize.less` sets `[hidden] { display: none; }` but bootstrap.min.css set `[hidden] { display: none !important; }` so we also need the `!important` here to be able to override the default hidden behavior on the sphinx rendered scikit-learn.org. See: https://github.com/scikit-learn/scikit-learn/issues/21755 */display: inline-block !important;position: relative;}#sk-container-id-2 div.sk-text-repr-fallback {display: none;}</style><div id=\"sk-container-id-2\" class=\"sk-top-container\"><div class=\"sk-text-repr-fallback\"><pre>SVC(C=10, class_weight=&#x27;balanced&#x27;, probability=True, random_state=0)</pre><b>In a Jupyter environment, please rerun this cell to show the HTML representation or trust the notebook. <br />On GitHub, the HTML representation is unable to render, please try loading this page with nbviewer.org.</b></div><div class=\"sk-container\" hidden><div class=\"sk-item\"><div class=\"sk-estimator sk-toggleable\"><input class=\"sk-toggleable__control sk-hidden--visually\" id=\"sk-estimator-id-2\" type=\"checkbox\" checked><label for=\"sk-estimator-id-2\" class=\"sk-toggleable__label sk-toggleable__label-arrow\">SVC</label><div class=\"sk-toggleable__content\"><pre>SVC(C=10, class_weight=&#x27;balanced&#x27;, probability=True, random_state=0)</pre></div></div></div></div></div>"
      ],
      "text/plain": [
       "SVC(C=10, class_weight='balanced', probability=True, random_state=0)"
      ]
     },
     "execution_count": 56,
     "metadata": {},
     "output_type": "execute_result"
    }
   ],
   "source": [
    "from sklearn.svm import SVC\n",
    "from sklearn.metrics import accuracy_score, balanced_accuracy_score, classification_report\n",
    "svm = SVC(random_state=seed, class_weight=\"balanced\", probability=True, C=10)\n",
    "svm.fit(new_X_train, y_train.values)"
   ]
  },
  {
   "cell_type": "code",
   "execution_count": 57,
   "id": "0d34e2a5",
   "metadata": {},
   "outputs": [],
   "source": [
    "y_pred_train= svm.predict(new_X_train)\n",
    "y_pred_test= svm.predict(new_X_test)"
   ]
  },
  {
   "cell_type": "code",
   "execution_count": 58,
   "id": "e41338af",
   "metadata": {},
   "outputs": [
    {
     "data": {
      "text/plain": [
       "0.7806451612903226"
      ]
     },
     "execution_count": 58,
     "metadata": {},
     "output_type": "execute_result"
    }
   ],
   "source": [
    "accuracy_score(y_train, y_pred_train)"
   ]
  },
  {
   "cell_type": "code",
   "execution_count": 59,
   "id": "0592ae42",
   "metadata": {},
   "outputs": [
    {
     "name": "stdout",
     "output_type": "stream",
     "text": [
      "              precision    recall  f1-score   support\n",
      "\n",
      "          AD       0.78      0.93      0.85        42\n",
      "          CN       0.72      0.85      0.78        48\n",
      "        LMCI       0.85      0.63      0.73        65\n",
      "\n",
      "    accuracy                           0.78       155\n",
      "   macro avg       0.78      0.80      0.78       155\n",
      "weighted avg       0.79      0.78      0.78       155\n",
      "\n"
     ]
    }
   ],
   "source": [
    "print(classification_report(y_train, y_pred_train))"
   ]
  },
  {
   "cell_type": "code",
   "execution_count": 60,
   "id": "34fe4075",
   "metadata": {},
   "outputs": [
    {
     "data": {
      "text/plain": [
       "0.6153846153846154"
      ]
     },
     "execution_count": 60,
     "metadata": {},
     "output_type": "execute_result"
    }
   ],
   "source": [
    "accuracy_score(y_test, y_pred_test)"
   ]
  },
  {
   "cell_type": "code",
   "execution_count": 61,
   "id": "8910b62b",
   "metadata": {},
   "outputs": [
    {
     "name": "stdout",
     "output_type": "stream",
     "text": [
      "              precision    recall  f1-score   support\n",
      "\n",
      "          AD       0.53      0.82      0.64        11\n",
      "          CN       0.70      0.58      0.64        12\n",
      "        LMCI       0.67      0.50      0.57        16\n",
      "\n",
      "    accuracy                           0.62        39\n",
      "   macro avg       0.63      0.63      0.62        39\n",
      "weighted avg       0.64      0.62      0.61        39\n",
      "\n"
     ]
    }
   ],
   "source": [
    "print(classification_report(y_test, y_pred_test))"
   ]
  },
  {
   "cell_type": "markdown",
   "id": "d43c0614",
   "metadata": {},
   "source": [
    "## Add the GC Features to the MRI and PET Embeddings ##"
   ]
  },
  {
   "cell_type": "markdown",
   "id": "dbf7fcdb",
   "metadata": {},
   "source": [
    "### Method 1: Concatenate the Embeddings with GC Features ###"
   ]
  },
  {
   "cell_type": "code",
   "execution_count": 62,
   "id": "bd34cd65",
   "metadata": {},
   "outputs": [],
   "source": [
    "GC_train_features = X_train_scaled[:,last_mod_dim:]\n",
    "GC_test_features = X_test_scaled[:,last_mod_dim:]\n",
    "\n",
    "MRI_PET_GC_Embedding_Train = np.concatenate((new_X_train,GC_train_features), axis=1)\n",
    "MRI_PET_GC_Embedding_Test = np.concatenate((new_X_test,GC_test_features), axis=1)"
   ]
  },
  {
   "cell_type": "code",
   "execution_count": 63,
   "id": "6977ff09",
   "metadata": {},
   "outputs": [
    {
     "data": {
      "text/plain": [
       "((155, 64), (39, 64))"
      ]
     },
     "execution_count": 63,
     "metadata": {},
     "output_type": "execute_result"
    }
   ],
   "source": [
    "MRI_PET_GC_Embedding_Train.shape,MRI_PET_GC_Embedding_Test.shape"
   ]
  },
  {
   "cell_type": "code",
   "execution_count": 64,
   "id": "5b6bec56",
   "metadata": {},
   "outputs": [
    {
     "data": {
      "text/html": [
       "<style>#sk-container-id-3 {color: black;}#sk-container-id-3 pre{padding: 0;}#sk-container-id-3 div.sk-toggleable {background-color: white;}#sk-container-id-3 label.sk-toggleable__label {cursor: pointer;display: block;width: 100%;margin-bottom: 0;padding: 0.3em;box-sizing: border-box;text-align: center;}#sk-container-id-3 label.sk-toggleable__label-arrow:before {content: \"▸\";float: left;margin-right: 0.25em;color: #696969;}#sk-container-id-3 label.sk-toggleable__label-arrow:hover:before {color: black;}#sk-container-id-3 div.sk-estimator:hover label.sk-toggleable__label-arrow:before {color: black;}#sk-container-id-3 div.sk-toggleable__content {max-height: 0;max-width: 0;overflow: hidden;text-align: left;background-color: #f0f8ff;}#sk-container-id-3 div.sk-toggleable__content pre {margin: 0.2em;color: black;border-radius: 0.25em;background-color: #f0f8ff;}#sk-container-id-3 input.sk-toggleable__control:checked~div.sk-toggleable__content {max-height: 200px;max-width: 100%;overflow: auto;}#sk-container-id-3 input.sk-toggleable__control:checked~label.sk-toggleable__label-arrow:before {content: \"▾\";}#sk-container-id-3 div.sk-estimator input.sk-toggleable__control:checked~label.sk-toggleable__label {background-color: #d4ebff;}#sk-container-id-3 div.sk-label input.sk-toggleable__control:checked~label.sk-toggleable__label {background-color: #d4ebff;}#sk-container-id-3 input.sk-hidden--visually {border: 0;clip: rect(1px 1px 1px 1px);clip: rect(1px, 1px, 1px, 1px);height: 1px;margin: -1px;overflow: hidden;padding: 0;position: absolute;width: 1px;}#sk-container-id-3 div.sk-estimator {font-family: monospace;background-color: #f0f8ff;border: 1px dotted black;border-radius: 0.25em;box-sizing: border-box;margin-bottom: 0.5em;}#sk-container-id-3 div.sk-estimator:hover {background-color: #d4ebff;}#sk-container-id-3 div.sk-parallel-item::after {content: \"\";width: 100%;border-bottom: 1px solid gray;flex-grow: 1;}#sk-container-id-3 div.sk-label:hover label.sk-toggleable__label {background-color: #d4ebff;}#sk-container-id-3 div.sk-serial::before {content: \"\";position: absolute;border-left: 1px solid gray;box-sizing: border-box;top: 0;bottom: 0;left: 50%;z-index: 0;}#sk-container-id-3 div.sk-serial {display: flex;flex-direction: column;align-items: center;background-color: white;padding-right: 0.2em;padding-left: 0.2em;position: relative;}#sk-container-id-3 div.sk-item {position: relative;z-index: 1;}#sk-container-id-3 div.sk-parallel {display: flex;align-items: stretch;justify-content: center;background-color: white;position: relative;}#sk-container-id-3 div.sk-item::before, #sk-container-id-3 div.sk-parallel-item::before {content: \"\";position: absolute;border-left: 1px solid gray;box-sizing: border-box;top: 0;bottom: 0;left: 50%;z-index: -1;}#sk-container-id-3 div.sk-parallel-item {display: flex;flex-direction: column;z-index: 1;position: relative;background-color: white;}#sk-container-id-3 div.sk-parallel-item:first-child::after {align-self: flex-end;width: 50%;}#sk-container-id-3 div.sk-parallel-item:last-child::after {align-self: flex-start;width: 50%;}#sk-container-id-3 div.sk-parallel-item:only-child::after {width: 0;}#sk-container-id-3 div.sk-dashed-wrapped {border: 1px dashed gray;margin: 0 0.4em 0.5em 0.4em;box-sizing: border-box;padding-bottom: 0.4em;background-color: white;}#sk-container-id-3 div.sk-label label {font-family: monospace;font-weight: bold;display: inline-block;line-height: 1.2em;}#sk-container-id-3 div.sk-label-container {text-align: center;}#sk-container-id-3 div.sk-container {/* jupyter's `normalize.less` sets `[hidden] { display: none; }` but bootstrap.min.css set `[hidden] { display: none !important; }` so we also need the `!important` here to be able to override the default hidden behavior on the sphinx rendered scikit-learn.org. See: https://github.com/scikit-learn/scikit-learn/issues/21755 */display: inline-block !important;position: relative;}#sk-container-id-3 div.sk-text-repr-fallback {display: none;}</style><div id=\"sk-container-id-3\" class=\"sk-top-container\"><div class=\"sk-text-repr-fallback\"><pre>SVC(C=10, class_weight=&#x27;balanced&#x27;, probability=True, random_state=0)</pre><b>In a Jupyter environment, please rerun this cell to show the HTML representation or trust the notebook. <br />On GitHub, the HTML representation is unable to render, please try loading this page with nbviewer.org.</b></div><div class=\"sk-container\" hidden><div class=\"sk-item\"><div class=\"sk-estimator sk-toggleable\"><input class=\"sk-toggleable__control sk-hidden--visually\" id=\"sk-estimator-id-3\" type=\"checkbox\" checked><label for=\"sk-estimator-id-3\" class=\"sk-toggleable__label sk-toggleable__label-arrow\">SVC</label><div class=\"sk-toggleable__content\"><pre>SVC(C=10, class_weight=&#x27;balanced&#x27;, probability=True, random_state=0)</pre></div></div></div></div></div>"
      ],
      "text/plain": [
       "SVC(C=10, class_weight='balanced', probability=True, random_state=0)"
      ]
     },
     "execution_count": 64,
     "metadata": {},
     "output_type": "execute_result"
    }
   ],
   "source": [
    "svm_updated = SVC(random_state=seed, class_weight=\"balanced\", probability=True, C=10)\n",
    "svm_updated.fit(MRI_PET_GC_Embedding_Train, y_train.values)"
   ]
  },
  {
   "cell_type": "code",
   "execution_count": 65,
   "id": "82181002",
   "metadata": {},
   "outputs": [],
   "source": [
    "y_pred_train_updated= svm_updated.predict(MRI_PET_GC_Embedding_Train)\n",
    "y_pred_test_updated= svm_updated.predict(MRI_PET_GC_Embedding_Test)"
   ]
  },
  {
   "cell_type": "code",
   "execution_count": 66,
   "id": "35116ada",
   "metadata": {},
   "outputs": [
    {
     "name": "stdout",
     "output_type": "stream",
     "text": [
      "              precision    recall  f1-score   support\n",
      "\n",
      "          AD       0.77      0.91      0.83        11\n",
      "          CN       0.92      0.92      0.92        12\n",
      "        LMCI       0.86      0.75      0.80        16\n",
      "\n",
      "    accuracy                           0.85        39\n",
      "   macro avg       0.85      0.86      0.85        39\n",
      "weighted avg       0.85      0.85      0.85        39\n",
      "\n"
     ]
    }
   ],
   "source": [
    "print(classification_report(y_test, y_pred_test_updated))"
   ]
  },
  {
   "cell_type": "code",
   "execution_count": null,
   "id": "de8cbc76",
   "metadata": {},
   "outputs": [],
   "source": []
  },
  {
   "cell_type": "markdown",
   "id": "9ef67c7e",
   "metadata": {},
   "source": [
    "### Method 3: Combine the Embeddings with GC Features using MKSVM ###"
   ]
  },
  {
   "cell_type": "code",
   "execution_count": 67,
   "id": "0e8c6c93",
   "metadata": {},
   "outputs": [],
   "source": [
    "from scipy.optimize import minimize, LinearConstraint\n",
    "\n",
    "class SimpleMKL_Multiclass:\n",
    "    def __init__(self, \n",
    "                 kernels, \n",
    "                 C,\n",
    "                 tol,\n",
    "                 d_min,\n",
    "                 random_state=0\n",
    "                ):\n",
    "        self.kernels = kernels  # List of precomputed kernel matrices\n",
    "        self.C = C              # Regularization parameter\n",
    "        self.tol = tol\n",
    "        self.d = None           # Kernel weights\n",
    "        self.svm = None         # SVM model\n",
    "        self.random_state=random_state\n",
    "        self.d_min=d_min\n",
    "\n",
    "    def fit(self, X, y):\n",
    "        M = len(self.kernels)\n",
    "        N = X.shape[0]\n",
    "        \n",
    "        # Initialize kernel weights\n",
    "        d = np.ones(M) / M\n",
    "        \n",
    "        # Define objective function J(d)\n",
    "        def J(d):\n",
    "            # Compute combined kernel\n",
    "            K_combined = sum(d[m] * self.kernels[m] for m in range(M))\n",
    "            \n",
    "            # Train SVM and get dual coefficients\n",
    "            self.svm = SVC(C=self.C, kernel='precomputed',\n",
    "                           class_weight=\"balanced\",\n",
    "                           random_state=self.random_state\n",
    "                          )\n",
    "            self.svm.fit(K_combined, y)\n",
    "            \n",
    "            #number of estimators\n",
    "            self.num_estimators = len(self.svm.dual_coef_)\n",
    "            \n",
    "            J_list = []\n",
    "            \n",
    "            for i in range(self.num_estimators):\n",
    "            \n",
    "                dual_coef = self.svm.dual_coef_[i]\n",
    "                support_vectors = self.svm.support_\n",
    "                \n",
    "                J_temp = -0.5 * np.dot(dual_coef, np.dot(K_combined[support_vectors][:, support_vectors], dual_coef)) + np.sum(np.abs(dual_coef))\n",
    "                \n",
    "                J_list.append(J_temp)\n",
    "            # Compute objective value\n",
    "            return np.array(J_list).sum()\n",
    "        \n",
    "        \n",
    "        # Define gradient of J(d)\n",
    "        def grad_J(d):\n",
    "            \n",
    "            grad = np.zeros((self.num_estimators,M))\n",
    "            \n",
    "            for m in range(M):\n",
    "                \n",
    "                K_m = self.kernels[m]\n",
    "                \n",
    "                for i in range(self.num_estimators):\n",
    "                    \n",
    "                    dual_coef = self.svm.dual_coef_[i]\n",
    "                    support_vectors = self.svm.support_\n",
    "                    grad[i][m] = -0.5 * np.dot(dual_coef, np.dot(K_m[support_vectors][:, support_vectors], dual_coef))\n",
    "            \n",
    "            #print(f\"grad:{grad}\")\n",
    "            #print(f\"grad_sum;{grad.sum(axis=0)}\")\n",
    "            \n",
    "            return grad.sum(axis=0)\n",
    "\n",
    "        # Optimization problem to minimize J(d) subject to constraints\n",
    "        constraints = ({'type': 'eq', 'fun': lambda d: np.sum(d) - 1},  # Sum of weights must be 1\n",
    "                       {'type': 'ineq', 'fun': lambda d: d})            # Weights must be non-negative\n",
    "        \n",
    "        \n",
    "       \n",
    "        bounds = [(self.d_min, 1-self.d_min)] * len(self.kernels)\n",
    "        \n",
    "        # Solve optimization problem\n",
    "        opt_res = minimize(J, d, method='SLSQP', jac=grad_J, constraints=constraints,\n",
    "                           tol=self.tol,bounds=bounds\n",
    "                          )\n",
    "        \n",
    "        \n",
    "        self.d = opt_res.x  # Store the optimal kernel weights\n",
    "        \n",
    "        #print(self.d)\n",
    "\n",
    "    def predict(self, kernels):\n",
    "        # Compute combined kernel using the learned weights\n",
    "        K_combined = sum(self.d[m] * kernels[m] for m in range(len(kernels)))\n",
    "        return self.svm.predict(K_combined)\n"
   ]
  },
  {
   "cell_type": "code",
   "execution_count": 68,
   "id": "ccf2e09f",
   "metadata": {},
   "outputs": [],
   "source": [
    "from sklearn.metrics.pairwise import pairwise_kernels\n",
    "\n",
    "class ConstructKernelMatrix:\n",
    "    \n",
    "    def __init__(self,\n",
    "                 first_mod_feature_len, \n",
    "                 last_mod_feature_len,\n",
    "                 kernel1,kernel2,\n",
    "                 gamma1,gamma2,\n",
    "                 coef1,coef2,\n",
    "                 degree1,degree2\n",
    "        ):\n",
    "        \n",
    "        self.first_mod_feature_len = first_mod_feature_len\n",
    "        self.last_mod_feature_len = last_mod_feature_len\n",
    "        \n",
    "        self.kernel1 = kernel1\n",
    "        self.kernel2 = kernel2\n",
    "        self.gamma1=gamma1\n",
    "        self.gamma2=gamma2\n",
    "        self.coef1=coef1\n",
    "        self.coef2=coef2\n",
    "        self.degree1 = degree1\n",
    "        self.degree2 = degree2\n",
    "\n",
    "        \n",
    "        \n",
    "    def construct_kernel_matrix(self, X,Z,kernel, gamma, coef, degree):\n",
    "        \n",
    "        if kernel ==\"rbf\":\n",
    "            \n",
    "            return pairwise_kernels(X,Z, metric=kernel, gamma=gamma)\n",
    "        \n",
    "        elif kernel ==\"poly\":\n",
    "            \n",
    "            return pairwise_kernels(X,Z, metric=kernel, coef0=coef, degree=degree)\n",
    "        \n",
    "        else:\n",
    "            return pairwise_kernels(X,Z, metric=kernel)\n",
    "        \n",
    "        \n",
    "    def train_kernel_matrix(self, train_data):\n",
    "        \n",
    "        \n",
    "        #slice data for modality 1\n",
    "        self.data_m1_train = train_data[:,:self.first_mod_feature_len]\n",
    "        \n",
    "        #slice data for source/modality 2\n",
    "        self.data_m2_train = train_data[:,self.first_mod_feature_len:]\n",
    "        \n",
    "        \n",
    "        Kernel_matrix1 = self.construct_kernel_matrix(self.data_m1_train,self.data_m1_train,\n",
    "                                                      self.kernel1, self.gamma1,\n",
    "                                                      self.coef1, self.degree1\n",
    "                                                     )\n",
    "        \n",
    "        \n",
    "        Kernel_matrix2 = self.construct_kernel_matrix(self.data_m2_train,self.data_m2_train,\n",
    "                                                      self.kernel2, self.gamma2,\n",
    "                                                      self.coef2, self.degree2\n",
    "                                                     )\n",
    "        \n",
    "        return np.array([Kernel_matrix1,Kernel_matrix2])\n",
    "    \n",
    "    \n",
    "    \n",
    "    def test_kernel_matrix(self, test_data):\n",
    "        \n",
    "        #slice data for modality 1\n",
    "        data_m1_test = test_data[:,:self.first_mod_feature_len]\n",
    "        \n",
    "        #slice data for source/modality 2\n",
    "        data_m2_test = test_data[:,self.first_mod_feature_len:]\n",
    "        \n",
    "        \n",
    "        Kernel_matrix1 = self.construct_kernel_matrix(data_m1_test,self.data_m1_train,\n",
    "                                                      self.kernel1, self.gamma1,\n",
    "                                                      self.coef1, self.degree1\n",
    "                                                     )\n",
    "        \n",
    "        \n",
    "        Kernel_matrix2 = self.construct_kernel_matrix(data_m2_test,self.data_m2_train,\n",
    "                                                      self.kernel2, self.gamma2,\n",
    "                                                      self.coef2, self.degree2\n",
    "                                                     )\n",
    "        \n",
    "        \n",
    "        return np.array([Kernel_matrix1,Kernel_matrix2])"
   ]
  },
  {
   "cell_type": "code",
   "execution_count": 69,
   "id": "9140c47b",
   "metadata": {},
   "outputs": [],
   "source": [
    "from sklearn.utils.multiclass import unique_labels\n",
    "from sklearn.base import BaseEstimator,ClassifierMixin\n",
    "class Multikernel_SVM(ConstructKernelMatrix,\n",
    "                      BaseEstimator, ClassifierMixin):\n",
    "    \n",
    "    def __init__(self,\n",
    "                 first_mod_feature_len,\n",
    "                 last_mod_feature_len,\n",
    "                 d_min,\n",
    "                 kernel1,\n",
    "                 kernel2,\n",
    "                 gamma1,\n",
    "                 gamma2,\n",
    "                 coef1,\n",
    "                 coef2,\n",
    "                 degree1,\n",
    "                 degree2,\n",
    "                 tol=1e-3,\n",
    "                 C=1.0,\n",
    "                 random_state=0   \n",
    "        ):\n",
    "        \n",
    "        self.tol=tol\n",
    "        self.C=C\n",
    "        self.first_mod_feature_len=first_mod_feature_len\n",
    "        self.last_mod_feature_len=last_mod_feature_len\n",
    "        self.kernel1=kernel1\n",
    "        self.kernel2=kernel2\n",
    "        self.gamma1=gamma1\n",
    "        self.gamma2=gamma2\n",
    "        self.coef1=coef1\n",
    "        self.coef2=coef2\n",
    "        self.degree1=degree1\n",
    "        self.degree2=degree2\n",
    "        self.tol=tol\n",
    "        self.C=C\n",
    "        self.random_state=random_state  \n",
    "        self.model = None\n",
    "        self.d = None\n",
    "        self.d_min=d_min\n",
    "         \n",
    "        super(). __init__(\n",
    "            first_mod_feature_len=first_mod_feature_len,\n",
    "            last_mod_feature_len=last_mod_feature_len,\n",
    "            kernel1=kernel1,\n",
    "            kernel2=kernel2,\n",
    "            gamma1=gamma1,\n",
    "            gamma2=gamma2,\n",
    "            coef1=coef1,\n",
    "            coef2=coef2,\n",
    "            degree1=degree1,\n",
    "            degree2=degree2,\n",
    "\n",
    "        )\n",
    "        \n",
    "        \n",
    "    def fit(self, train_data, y_train):\n",
    "        \n",
    "        self.classes_ = unique_labels(y_train)\n",
    "        \n",
    "        \n",
    "        self.Kernel_Matrix_Obj = ConstructKernelMatrix(\n",
    "                                   first_mod_feature_len=self.first_mod_feature_len,\n",
    "                                   last_mod_feature_len=self.last_mod_feature_len,\n",
    "                                   kernel1=self.kernel1, \n",
    "                                   kernel2= self.kernel2,\n",
    "                                    gamma1=self.gamma1,\n",
    "                                    gamma2=self.gamma2,\n",
    "                                    coef1=self.coef1,\n",
    "                                    coef2=self.coef2,\n",
    "                                    degree1=self.degree1,\n",
    "                                    degree2=self.degree2,\n",
    "                                  )\n",
    "        self.train_kernel_matrices = self.Kernel_Matrix_Obj.train_kernel_matrix(train_data)\n",
    "        \n",
    "        \n",
    "        self.model = SimpleMKL_Multiclass(kernels=self.train_kernel_matrices, \n",
    "                                        C=self.C,\n",
    "                                        tol=self.tol,\n",
    "                                        random_state=self.random_state,\n",
    "                                        d_min=self.d_min\n",
    "                                       )\n",
    "        \n",
    "        \n",
    "        self.model.fit(self.train_kernel_matrices, y_train)\n",
    "        \n",
    "        self.d = self.model.d\n",
    "        \n",
    "        \n",
    "        return self\n",
    "        \n",
    "        \n",
    "        \n",
    "    def predict(self, test_data):\n",
    "        \n",
    "        self.test_kernel_matrices = self.Kernel_Matrix_Obj.test_kernel_matrix(test_data)\n",
    "        \n",
    "        predictions = self.model.predict(self.test_kernel_matrices)\n",
    "        \n",
    "        return predictions"
   ]
  },
  {
   "cell_type": "code",
   "execution_count": 70,
   "id": "7021723d",
   "metadata": {},
   "outputs": [],
   "source": [
    "kernel_params = {\"d_min\":0.2,\"kernel1\":\"rbf\",\"kernel2\":\"rbf\",\n",
    "               \"degree1\":2,\"degree2\":2,\n",
    "                \"gamma1\":0.15, \"gamma2\":0.3,\n",
    "                \"coef1\":0.5, \"coef2\":0.5,\n",
    "                 \"first_mod_feature_len\":new_X_train.shape[1],\n",
    "                 \"last_mod_feature_len\":last_mod_dim,\n",
    "                 \"C\":10.0, \"tol\":1e-3,\"random_state\":0\n",
    "                 \n",
    "                }\n"
   ]
  },
  {
   "cell_type": "code",
   "execution_count": 71,
   "id": "f4570638",
   "metadata": {},
   "outputs": [],
   "source": [
    "model = Multikernel_SVM(**kernel_params)"
   ]
  },
  {
   "cell_type": "code",
   "execution_count": 72,
   "id": "7bc400e6",
   "metadata": {},
   "outputs": [
    {
     "data": {
      "text/html": [
       "<style>#sk-container-id-4 {color: black;}#sk-container-id-4 pre{padding: 0;}#sk-container-id-4 div.sk-toggleable {background-color: white;}#sk-container-id-4 label.sk-toggleable__label {cursor: pointer;display: block;width: 100%;margin-bottom: 0;padding: 0.3em;box-sizing: border-box;text-align: center;}#sk-container-id-4 label.sk-toggleable__label-arrow:before {content: \"▸\";float: left;margin-right: 0.25em;color: #696969;}#sk-container-id-4 label.sk-toggleable__label-arrow:hover:before {color: black;}#sk-container-id-4 div.sk-estimator:hover label.sk-toggleable__label-arrow:before {color: black;}#sk-container-id-4 div.sk-toggleable__content {max-height: 0;max-width: 0;overflow: hidden;text-align: left;background-color: #f0f8ff;}#sk-container-id-4 div.sk-toggleable__content pre {margin: 0.2em;color: black;border-radius: 0.25em;background-color: #f0f8ff;}#sk-container-id-4 input.sk-toggleable__control:checked~div.sk-toggleable__content {max-height: 200px;max-width: 100%;overflow: auto;}#sk-container-id-4 input.sk-toggleable__control:checked~label.sk-toggleable__label-arrow:before {content: \"▾\";}#sk-container-id-4 div.sk-estimator input.sk-toggleable__control:checked~label.sk-toggleable__label {background-color: #d4ebff;}#sk-container-id-4 div.sk-label input.sk-toggleable__control:checked~label.sk-toggleable__label {background-color: #d4ebff;}#sk-container-id-4 input.sk-hidden--visually {border: 0;clip: rect(1px 1px 1px 1px);clip: rect(1px, 1px, 1px, 1px);height: 1px;margin: -1px;overflow: hidden;padding: 0;position: absolute;width: 1px;}#sk-container-id-4 div.sk-estimator {font-family: monospace;background-color: #f0f8ff;border: 1px dotted black;border-radius: 0.25em;box-sizing: border-box;margin-bottom: 0.5em;}#sk-container-id-4 div.sk-estimator:hover {background-color: #d4ebff;}#sk-container-id-4 div.sk-parallel-item::after {content: \"\";width: 100%;border-bottom: 1px solid gray;flex-grow: 1;}#sk-container-id-4 div.sk-label:hover label.sk-toggleable__label {background-color: #d4ebff;}#sk-container-id-4 div.sk-serial::before {content: \"\";position: absolute;border-left: 1px solid gray;box-sizing: border-box;top: 0;bottom: 0;left: 50%;z-index: 0;}#sk-container-id-4 div.sk-serial {display: flex;flex-direction: column;align-items: center;background-color: white;padding-right: 0.2em;padding-left: 0.2em;position: relative;}#sk-container-id-4 div.sk-item {position: relative;z-index: 1;}#sk-container-id-4 div.sk-parallel {display: flex;align-items: stretch;justify-content: center;background-color: white;position: relative;}#sk-container-id-4 div.sk-item::before, #sk-container-id-4 div.sk-parallel-item::before {content: \"\";position: absolute;border-left: 1px solid gray;box-sizing: border-box;top: 0;bottom: 0;left: 50%;z-index: -1;}#sk-container-id-4 div.sk-parallel-item {display: flex;flex-direction: column;z-index: 1;position: relative;background-color: white;}#sk-container-id-4 div.sk-parallel-item:first-child::after {align-self: flex-end;width: 50%;}#sk-container-id-4 div.sk-parallel-item:last-child::after {align-self: flex-start;width: 50%;}#sk-container-id-4 div.sk-parallel-item:only-child::after {width: 0;}#sk-container-id-4 div.sk-dashed-wrapped {border: 1px dashed gray;margin: 0 0.4em 0.5em 0.4em;box-sizing: border-box;padding-bottom: 0.4em;background-color: white;}#sk-container-id-4 div.sk-label label {font-family: monospace;font-weight: bold;display: inline-block;line-height: 1.2em;}#sk-container-id-4 div.sk-label-container {text-align: center;}#sk-container-id-4 div.sk-container {/* jupyter's `normalize.less` sets `[hidden] { display: none; }` but bootstrap.min.css set `[hidden] { display: none !important; }` so we also need the `!important` here to be able to override the default hidden behavior on the sphinx rendered scikit-learn.org. See: https://github.com/scikit-learn/scikit-learn/issues/21755 */display: inline-block !important;position: relative;}#sk-container-id-4 div.sk-text-repr-fallback {display: none;}</style><div id=\"sk-container-id-4\" class=\"sk-top-container\"><div class=\"sk-text-repr-fallback\"><pre>Multikernel_SVM(C=10.0, coef1=0.5, coef2=0.5, d_min=0.2, degree1=2, degree2=2,\n",
       "                first_mod_feature_len=60, gamma1=0.15, gamma2=0.3,\n",
       "                kernel1=&#x27;rbf&#x27;, kernel2=&#x27;rbf&#x27;, last_mod_feature_len=-4)</pre><b>In a Jupyter environment, please rerun this cell to show the HTML representation or trust the notebook. <br />On GitHub, the HTML representation is unable to render, please try loading this page with nbviewer.org.</b></div><div class=\"sk-container\" hidden><div class=\"sk-item\"><div class=\"sk-estimator sk-toggleable\"><input class=\"sk-toggleable__control sk-hidden--visually\" id=\"sk-estimator-id-4\" type=\"checkbox\" checked><label for=\"sk-estimator-id-4\" class=\"sk-toggleable__label sk-toggleable__label-arrow\">Multikernel_SVM</label><div class=\"sk-toggleable__content\"><pre>Multikernel_SVM(C=10.0, coef1=0.5, coef2=0.5, d_min=0.2, degree1=2, degree2=2,\n",
       "                first_mod_feature_len=60, gamma1=0.15, gamma2=0.3,\n",
       "                kernel1=&#x27;rbf&#x27;, kernel2=&#x27;rbf&#x27;, last_mod_feature_len=-4)</pre></div></div></div></div></div>"
      ],
      "text/plain": [
       "Multikernel_SVM(C=10.0, coef1=0.5, coef2=0.5, d_min=0.2, degree1=2, degree2=2,\n",
       "                first_mod_feature_len=60, gamma1=0.15, gamma2=0.3,\n",
       "                kernel1='rbf', kernel2='rbf', last_mod_feature_len=-4)"
      ]
     },
     "execution_count": 72,
     "metadata": {},
     "output_type": "execute_result"
    }
   ],
   "source": [
    "model.fit(MRI_PET_GC_Embedding_Train, y_train)"
   ]
  },
  {
   "cell_type": "code",
   "execution_count": 73,
   "id": "4851868c",
   "metadata": {},
   "outputs": [],
   "source": [
    "y_pred3=model.predict(MRI_PET_GC_Embedding_Test)"
   ]
  },
  {
   "cell_type": "code",
   "execution_count": 74,
   "id": "18370470",
   "metadata": {},
   "outputs": [
    {
     "name": "stdout",
     "output_type": "stream",
     "text": [
      "              precision    recall  f1-score   support\n",
      "\n",
      "          AD       0.92      1.00      0.96        11\n",
      "          CN       0.92      0.92      0.92        12\n",
      "        LMCI       0.93      0.88      0.90        16\n",
      "\n",
      "    accuracy                           0.92        39\n",
      "   macro avg       0.92      0.93      0.93        39\n",
      "weighted avg       0.92      0.92      0.92        39\n",
      "\n"
     ]
    }
   ],
   "source": [
    "print(classification_report(y_test, y_pred3))"
   ]
  },
  {
   "cell_type": "code",
   "execution_count": null,
   "id": "4d5e544d",
   "metadata": {},
   "outputs": [],
   "source": []
  },
  {
   "cell_type": "code",
   "execution_count": null,
   "id": "13269d24",
   "metadata": {},
   "outputs": [],
   "source": []
  },
  {
   "cell_type": "markdown",
   "id": "50944218",
   "metadata": {},
   "source": [
    "## Tune Hyperparams ##"
   ]
  },
  {
   "cell_type": "code",
   "execution_count": 82,
   "id": "4a1052b2",
   "metadata": {},
   "outputs": [],
   "source": [
    "from sklearn.model_selection import cross_validate,StratifiedKFold\n",
    "kfold = StratifiedKFold(n_splits=5)"
   ]
  },
  {
   "cell_type": "code",
   "execution_count": 83,
   "id": "200f9f77",
   "metadata": {},
   "outputs": [],
   "source": [
    "degree_space=[2,3,4]\n",
    "kernel_space=[\"linear\",\"rbf\",\"poly\"]\n",
    "\n",
    "\n",
    "svm_space={\n",
    "            \"d_min\":0.2,\n",
    "            \"C\":hp.loguniform(\"C\",np.log(2e-3), np.log(2e3)),\n",
    "            \"gamma1\":hp.uniform(\"gamma1\",0, 1),\n",
    "             \"gamma2\":hp.uniform(\"gamma2\",0, 1),\n",
    "            \"kernel1\":hp.choice(\"kernel1\",kernel_space),\n",
    "            \"kernel2\":hp.choice(\"kernel2\",kernel_space),\n",
    "            \"degree1\":hp.randint(\"degree1\",2,5),\n",
    "             \"degree2\":hp.randint(\"degree2\",2,5),\n",
    "            \"coef1\":hp.uniform(\"coef1\",0,10),\n",
    "            \"coef2\":hp.uniform(\"coef2\",0,10),\n",
    "             \"first_mod_feature_len\":new_X_train.shape[1],\n",
    "             \"last_mod_feature_len\":last_mod_dim,\n",
    "             \"tol\":1e-3,\"random_state\":0\n",
    "        } \n",
    "\n",
    "def tune_MKSVM(X_train, y_train, param_space):\n",
    "    \n",
    "\n",
    "    def objective(space):\n",
    "\n",
    "        model = Multikernel_SVM(**space)\n",
    "\n",
    "        scores = cross_validate(model,X_train, y_train, cv=kfold, \\\n",
    "                                scoring=(\"accuracy\"),return_train_score=True\\\n",
    "                                    ,return_estimator=True, n_jobs=-1)\n",
    "\n",
    "        #get the mean for all k folds acc\n",
    "        accuracy = scores[\"test_score\"].mean()\n",
    "        # We aim to maximize accuracy, therefore we return it as a negative value\n",
    "        return {'loss': -accuracy,\"status\":STATUS_OK}\n",
    "\n",
    "    trials = Trials()\n",
    "    \n",
    "    best_params = fmin(fn= objective,\n",
    "                space= param_space,\n",
    "                algo= tpe.suggest,\n",
    "                max_evals = 750,\n",
    "                trials= trials)\n",
    "    \n",
    "    return best_params, trials"
   ]
  },
  {
   "cell_type": "code",
   "execution_count": 84,
   "id": "5d39801f",
   "metadata": {},
   "outputs": [
    {
     "name": "stdout",
     "output_type": "stream",
     "text": [
      " 75%|████▌ | 565/750 [00:18<00:05, 33.83trial/s, best loss: -0.8387096774193548]"
     ]
    },
    {
     "name": "stderr",
     "output_type": "stream",
     "text": [
      "/Users/oyekanmiolatunde/miniconda3/envs/cvxpy_env/lib/python3.11/site-packages/scipy/optimize/_optimize.py:404: RuntimeWarning: Values in x were outside bounds during a minimize step, clipping to bounds\n",
      "  warnings.warn(\"Values in x were outside bounds during a \"\n",
      "/Users/oyekanmiolatunde/miniconda3/envs/cvxpy_env/lib/python3.11/site-packages/scipy/optimize/_optimize.py:404: RuntimeWarning: Values in x were outside bounds during a minimize step, clipping to bounds\n",
      "  warnings.warn(\"Values in x were outside bounds during a \"\n"
     ]
    },
    {
     "name": "stdout",
     "output_type": "stream",
     "text": [
      "100%|██████| 750/750 [00:24<00:00, 31.06trial/s, best loss: -0.8387096774193548]\n"
     ]
    }
   ],
   "source": [
    "best_params, trials = tune_MKSVM( MRI_PET_GC_Embedding_Train, \n",
    "                                           y_train,svm_space\n",
    "                                          )"
   ]
  },
  {
   "cell_type": "code",
   "execution_count": 85,
   "id": "e6bf2c71",
   "metadata": {},
   "outputs": [
    {
     "data": {
      "text/plain": [
       "{'C': 1.0307700114468668,\n",
       " 'coef1': 7.986292093362605,\n",
       " 'coef2': 9.971963822041,\n",
       " 'degree1': 2,\n",
       " 'degree2': 2,\n",
       " 'gamma1': 0.4973699925057741,\n",
       " 'gamma2': 0.08928523721166726,\n",
       " 'kernel1': 2,\n",
       " 'kernel2': 2}"
      ]
     },
     "execution_count": 85,
     "metadata": {},
     "output_type": "execute_result"
    }
   ],
   "source": [
    "best_params"
   ]
  },
  {
   "cell_type": "code",
   "execution_count": 86,
   "id": "91f7582e",
   "metadata": {},
   "outputs": [
    {
     "data": {
      "text/plain": [
       "{'C': 1.0307700114468668,\n",
       " 'coef1': 7.986292093362605,\n",
       " 'coef2': 9.971963822041,\n",
       " 'degree1': 2,\n",
       " 'degree2': 2,\n",
       " 'gamma1': 0.4973699925057741,\n",
       " 'gamma2': 0.08928523721166726,\n",
       " 'kernel1': 'poly',\n",
       " 'kernel2': 'poly',\n",
       " 'd_min': 0.2}"
      ]
     },
     "execution_count": 86,
     "metadata": {},
     "output_type": "execute_result"
    }
   ],
   "source": [
    "best_params_ = best_params.copy()\n",
    "best_params_[\"kernel1\"] = kernel_space[best_params[\"kernel1\"]]\n",
    "best_params_[\"kernel2\"] = kernel_space[best_params[\"kernel2\"]]\n",
    "best_params_[\"d_min\"] = svm_space[\"d_min\"]\n",
    "best_params_"
   ]
  },
  {
   "cell_type": "code",
   "execution_count": 87,
   "id": "dd6ea535",
   "metadata": {},
   "outputs": [
    {
     "data": {
      "text/html": [
       "<style>#sk-container-id-5 {color: black;}#sk-container-id-5 pre{padding: 0;}#sk-container-id-5 div.sk-toggleable {background-color: white;}#sk-container-id-5 label.sk-toggleable__label {cursor: pointer;display: block;width: 100%;margin-bottom: 0;padding: 0.3em;box-sizing: border-box;text-align: center;}#sk-container-id-5 label.sk-toggleable__label-arrow:before {content: \"▸\";float: left;margin-right: 0.25em;color: #696969;}#sk-container-id-5 label.sk-toggleable__label-arrow:hover:before {color: black;}#sk-container-id-5 div.sk-estimator:hover label.sk-toggleable__label-arrow:before {color: black;}#sk-container-id-5 div.sk-toggleable__content {max-height: 0;max-width: 0;overflow: hidden;text-align: left;background-color: #f0f8ff;}#sk-container-id-5 div.sk-toggleable__content pre {margin: 0.2em;color: black;border-radius: 0.25em;background-color: #f0f8ff;}#sk-container-id-5 input.sk-toggleable__control:checked~div.sk-toggleable__content {max-height: 200px;max-width: 100%;overflow: auto;}#sk-container-id-5 input.sk-toggleable__control:checked~label.sk-toggleable__label-arrow:before {content: \"▾\";}#sk-container-id-5 div.sk-estimator input.sk-toggleable__control:checked~label.sk-toggleable__label {background-color: #d4ebff;}#sk-container-id-5 div.sk-label input.sk-toggleable__control:checked~label.sk-toggleable__label {background-color: #d4ebff;}#sk-container-id-5 input.sk-hidden--visually {border: 0;clip: rect(1px 1px 1px 1px);clip: rect(1px, 1px, 1px, 1px);height: 1px;margin: -1px;overflow: hidden;padding: 0;position: absolute;width: 1px;}#sk-container-id-5 div.sk-estimator {font-family: monospace;background-color: #f0f8ff;border: 1px dotted black;border-radius: 0.25em;box-sizing: border-box;margin-bottom: 0.5em;}#sk-container-id-5 div.sk-estimator:hover {background-color: #d4ebff;}#sk-container-id-5 div.sk-parallel-item::after {content: \"\";width: 100%;border-bottom: 1px solid gray;flex-grow: 1;}#sk-container-id-5 div.sk-label:hover label.sk-toggleable__label {background-color: #d4ebff;}#sk-container-id-5 div.sk-serial::before {content: \"\";position: absolute;border-left: 1px solid gray;box-sizing: border-box;top: 0;bottom: 0;left: 50%;z-index: 0;}#sk-container-id-5 div.sk-serial {display: flex;flex-direction: column;align-items: center;background-color: white;padding-right: 0.2em;padding-left: 0.2em;position: relative;}#sk-container-id-5 div.sk-item {position: relative;z-index: 1;}#sk-container-id-5 div.sk-parallel {display: flex;align-items: stretch;justify-content: center;background-color: white;position: relative;}#sk-container-id-5 div.sk-item::before, #sk-container-id-5 div.sk-parallel-item::before {content: \"\";position: absolute;border-left: 1px solid gray;box-sizing: border-box;top: 0;bottom: 0;left: 50%;z-index: -1;}#sk-container-id-5 div.sk-parallel-item {display: flex;flex-direction: column;z-index: 1;position: relative;background-color: white;}#sk-container-id-5 div.sk-parallel-item:first-child::after {align-self: flex-end;width: 50%;}#sk-container-id-5 div.sk-parallel-item:last-child::after {align-self: flex-start;width: 50%;}#sk-container-id-5 div.sk-parallel-item:only-child::after {width: 0;}#sk-container-id-5 div.sk-dashed-wrapped {border: 1px dashed gray;margin: 0 0.4em 0.5em 0.4em;box-sizing: border-box;padding-bottom: 0.4em;background-color: white;}#sk-container-id-5 div.sk-label label {font-family: monospace;font-weight: bold;display: inline-block;line-height: 1.2em;}#sk-container-id-5 div.sk-label-container {text-align: center;}#sk-container-id-5 div.sk-container {/* jupyter's `normalize.less` sets `[hidden] { display: none; }` but bootstrap.min.css set `[hidden] { display: none !important; }` so we also need the `!important` here to be able to override the default hidden behavior on the sphinx rendered scikit-learn.org. See: https://github.com/scikit-learn/scikit-learn/issues/21755 */display: inline-block !important;position: relative;}#sk-container-id-5 div.sk-text-repr-fallback {display: none;}</style><div id=\"sk-container-id-5\" class=\"sk-top-container\"><div class=\"sk-text-repr-fallback\"><pre>Multikernel_SVM(C=10.0, coef1=0.5, coef2=0.5, d_min=0.2, degree1=2, degree2=2,\n",
       "                first_mod_feature_len=60, gamma1=0.15, gamma2=0.3,\n",
       "                kernel1=&#x27;rbf&#x27;, kernel2=&#x27;rbf&#x27;, last_mod_feature_len=-4)</pre><b>In a Jupyter environment, please rerun this cell to show the HTML representation or trust the notebook. <br />On GitHub, the HTML representation is unable to render, please try loading this page with nbviewer.org.</b></div><div class=\"sk-container\" hidden><div class=\"sk-item\"><div class=\"sk-estimator sk-toggleable\"><input class=\"sk-toggleable__control sk-hidden--visually\" id=\"sk-estimator-id-5\" type=\"checkbox\" checked><label for=\"sk-estimator-id-5\" class=\"sk-toggleable__label sk-toggleable__label-arrow\">Multikernel_SVM</label><div class=\"sk-toggleable__content\"><pre>Multikernel_SVM(C=10.0, coef1=0.5, coef2=0.5, d_min=0.2, degree1=2, degree2=2,\n",
       "                first_mod_feature_len=60, gamma1=0.15, gamma2=0.3,\n",
       "                kernel1=&#x27;rbf&#x27;, kernel2=&#x27;rbf&#x27;, last_mod_feature_len=-4)</pre></div></div></div></div></div>"
      ],
      "text/plain": [
       "Multikernel_SVM(C=10.0, coef1=0.5, coef2=0.5, d_min=0.2, degree1=2, degree2=2,\n",
       "                first_mod_feature_len=60, gamma1=0.15, gamma2=0.3,\n",
       "                kernel1='rbf', kernel2='rbf', last_mod_feature_len=-4)"
      ]
     },
     "execution_count": 87,
     "metadata": {},
     "output_type": "execute_result"
    }
   ],
   "source": [
    "MKSVM_best = Multikernel_SVM(**kernel_params)\n",
    "MKSVM_best.fit(MRI_PET_GC_Embedding_Train, y_train.values)"
   ]
  },
  {
   "cell_type": "code",
   "execution_count": 88,
   "id": "8c6daa30",
   "metadata": {},
   "outputs": [],
   "source": [
    "y_pred_train_best= MKSVM_best.predict(MRI_PET_GC_Embedding_Train)\n",
    "y_pred_test_best= MKSVM_best.predict(MRI_PET_GC_Embedding_Test)"
   ]
  },
  {
   "cell_type": "code",
   "execution_count": 89,
   "id": "cf38825d",
   "metadata": {},
   "outputs": [
    {
     "data": {
      "text/plain": [
       "0.9290322580645162"
      ]
     },
     "execution_count": 89,
     "metadata": {},
     "output_type": "execute_result"
    }
   ],
   "source": [
    "accuracy_score(y_train, y_pred_train_best)"
   ]
  },
  {
   "cell_type": "code",
   "execution_count": 90,
   "id": "4c620520",
   "metadata": {},
   "outputs": [
    {
     "data": {
      "text/plain": [
       "0.9230769230769231"
      ]
     },
     "execution_count": 90,
     "metadata": {},
     "output_type": "execute_result"
    }
   ],
   "source": [
    "accuracy_score(y_test, y_pred_test_best)"
   ]
  },
  {
   "cell_type": "code",
   "execution_count": 91,
   "id": "225f4efe",
   "metadata": {},
   "outputs": [
    {
     "name": "stdout",
     "output_type": "stream",
     "text": [
      "              precision    recall  f1-score   support\n",
      "\n",
      "          AD       0.92      1.00      0.96        11\n",
      "          CN       0.92      0.92      0.92        12\n",
      "        LMCI       0.93      0.88      0.90        16\n",
      "\n",
      "    accuracy                           0.92        39\n",
      "   macro avg       0.92      0.93      0.93        39\n",
      "weighted avg       0.92      0.92      0.92        39\n",
      "\n"
     ]
    }
   ],
   "source": [
    "print(classification_report(y_test, y_pred_test_best))"
   ]
  },
  {
   "cell_type": "code",
   "execution_count": 92,
   "id": "513dc135",
   "metadata": {},
   "outputs": [],
   "source": [
    "\n",
    "from sklearn.metrics import precision_score, recall_score, f1_score, accuracy_score,balanced_accuracy_score,confusion_matrix\n",
    "\n",
    "model_measures={\"train\":{\"Precision\":[],\n",
    "                   \"Recall\":[],\n",
    "                   \"F1_Score\":[],\n",
    "                   \"Accuracy\":[]},\n",
    "                \n",
    "              \"test\":{\"Precision\":[],\n",
    "                   \"Recall\":[],\n",
    "                   \"F1_Score\":[],\n",
    "                   \"Accuracy\":[]}\n",
    "               }\n",
    "\n",
    "\n",
    "def calculate_metrics(true_labels, predicted_labels):\n",
    "    \"\"\"\n",
    "    Calculate precision, recall, F1 score, and accuracy scores for a multiclass classification model.\n",
    "    \n",
    "    Parameters:\n",
    "        true_labels (array-like): True labels.\n",
    "        predicted_labels (array-like): Predicted labels.\n",
    "        \n",
    "    Returns:\n",
    "        dict: A dictionary containing precision, recall, F1 score, and accuracy scores.\n",
    "    \"\"\"\n",
    "    precision = precision_score(true_labels, predicted_labels, average='weighted')\n",
    "    recall = recall_score(true_labels, predicted_labels, average='weighted')\n",
    "    f1 = f1_score(true_labels, predicted_labels, average='weighted')\n",
    "    accuracy = accuracy_score(true_labels, predicted_labels)\n",
    "    \n",
    "    metrics = {\n",
    "        'Precision': precision,\n",
    "        'Recall': recall,\n",
    "        'F1_Score': f1,\n",
    "        'Accuracy': accuracy\n",
    "    }\n",
    "    \n",
    "    return metrics"
   ]
  },
  {
   "cell_type": "code",
   "execution_count": 93,
   "id": "25b048b6",
   "metadata": {},
   "outputs": [],
   "source": [
    "random_seed_list = [20, 35, 86, 89, 95, 66,  1, 89, 5, 0]"
   ]
  },
  {
   "cell_type": "code",
   "execution_count": 94,
   "id": "3f73582a",
   "metadata": {},
   "outputs": [],
   "source": [
    "# Train and evaluate the algorithms\n",
    "from itertools import combinations\n",
    "\n",
    "def perform_experiment_replication(features_df, \n",
    "                                   participants_df,\n",
    "                                   d_min,\n",
    "                                   embedding_dim,\n",
    "                                   first_mod_dim, \n",
    "                                   last_mod_dim,\n",
    "                                   number_of_run=10\n",
    "                                  ):\n",
    "\n",
    "    model_acc_dict={\"train\":{\"Precision\":[],\n",
    "                   \"Recall\":[],\n",
    "                   \"F1_Score\":[],\n",
    "                   \"Accuracy\":[]},\n",
    "                \n",
    "              \"test\":{\"Precision\":[],\n",
    "                   \"Recall\":[],\n",
    "                   \"F1_Score\":[],\n",
    "                   \"Accuracy\":[]}\n",
    "               }\n",
    "\n",
    "\n",
    "    kernel_space=[\"linear\",\"rbf\",\"poly\"]\n",
    "    svm_space={\n",
    "            \"d_min\":d_min,\n",
    "            \"C\":hp.loguniform(\"C\",np.log(2e-3), np.log(2e3)),\n",
    "            \"gamma1\":hp.uniform(\"gamma1\",0, 1),\n",
    "             \"gamma2\":hp.uniform(\"gamma2\",0, 1),\n",
    "            \"kernel1\":hp.choice(\"kernel1\",kernel_space),\n",
    "            \"kernel2\":hp.choice(\"kernel2\",kernel_space),\n",
    "            \"degree1\":hp.randint(\"degree1\",2,5),\n",
    "             \"degree2\":hp.randint(\"degree2\",2,5),\n",
    "            \"coef1\":hp.uniform(\"coef1\",0,10),\n",
    "            \"coef2\":hp.uniform(\"coef2\",0,10),\n",
    "             \"first_mod_feature_len\":embedding_dim,\n",
    "             \"last_mod_feature_len\":last_mod_dim,\n",
    "             \"tol\":1e-3,\"random_state\":0\n",
    "            } \n",
    "    \n",
    "    SLRA_space={\n",
    "        #\"X_arr\":Input_arr,\n",
    "        \"d\":embedding_dim, #60\n",
    "        \"lambda1\":hp.loguniform(\"lambda1\",np.log(10e-3),np.log(10e2)),\n",
    "        \"lambda2\":hp.loguniform(\"lambda2\",np.log(10e-3),np.log(10e2)),\n",
    "        \"n_neighbors\":8,\n",
    "        \"r\":hp.randint(\"r\",5,15),\n",
    "        \"Iter\":350,\n",
    "        \"eps\":0.5,\n",
    "        \"t\":1.5,\n",
    "        \"first_mod_dim\":first_mod_dim,\n",
    "        \"last_mod_dim\":last_mod_dim\n",
    "        }\n",
    "    \n",
    "\n",
    "    model_accs={}\n",
    "\n",
    "    for run in range(number_of_run):\n",
    "\n",
    "        # Split the data into training and testing sets\n",
    "        train, test = train_test_split(features_df, test_size=0.2, \\\n",
    "                                       stratify=participants_df[[\"diagnosis_sc\",\"age_category\",\"sex\"]],\\\n",
    "                                           random_state=random_seed_list[run])\n",
    "        \n",
    "        X_train = train.copy()\n",
    "        y_train=participants_df_sorted.loc[train.index].diagnosis_sc\n",
    "\n",
    "        X_test = test.copy()\n",
    "        y_test=participants_df_sorted.loc[test.index].diagnosis_sc\n",
    "\n",
    "        #prepare data\n",
    "        scaler = MinMaxScaler()\n",
    "        X_train_scaled= scaler.fit_transform(X_train)\n",
    "        #X_train_scaled = pd.DataFrame(X_train_scaled_, columns=X_train.columns)\n",
    "        \n",
    "        X_test_scaled=scaler.transform(X_test)\n",
    "        #X_test_scaled = pd.DataFrame(X_test_scaled_, columns=X_test.columns)\n",
    "        \n",
    "        #Dim Reduction section\n",
    "        #Get the reduced features\n",
    "        SLRA_space[\"X_arr\"]=X_train_scaled[:,:last_mod_dim]\n",
    "        \n",
    "        \n",
    "        \n",
    "        #print(\"Dic X shape\")\n",
    "        #print(SLRA_space[\"X\"].shape)\n",
    "        \n",
    "        #print(f\" first dim: {first_dim}\")\n",
    "        SLRA_bestparams,_= tune_EMR_SLRAparams(SLRA_space)\n",
    "        \n",
    "        \n",
    "        #print(SLRA_space)\n",
    "        result_best= EMR_SLRA(\n",
    "                      X_arr=SLRA_space[\"X_arr\"],\n",
    "                      d=SLRA_space[\"d\"],\n",
    "                      lambda1=SLRA_bestparams[\"lambda1\"],\n",
    "                      lambda2=SLRA_bestparams[\"lambda2\"],\n",
    "                      n_neighbors=SLRA_space[\"n_neighbors\"],\n",
    "                      r=SLRA_bestparams[\"r\"],\n",
    "                      Iter=SLRA_space[\"Iter\"],\n",
    "                      eps=SLRA_space[\"eps\"],\n",
    "                      t=SLRA_space[\"t\"],\n",
    "                      first_mod_dim=first_mod_dim,\n",
    "                      last_mod_dim=last_mod_dim\n",
    "                     )\n",
    "        \n",
    "        #create embeddings from MRI and PET features\n",
    "        new_X_train=result_best[\"Yt\"].T\n",
    "        new_X_test = X_test_scaled[:,:last_mod_dim]@result_best[\"Ut\"]\n",
    "        \n",
    "        #Extract the GC Features\n",
    "        GC_train_features = X_train_scaled[:,last_mod_dim:]\n",
    "        GC_test_features = X_test_scaled[:,last_mod_dim:]\n",
    "        \n",
    "        #merge the embeddings from SLRA and GC Features\n",
    "        MRI_PET_GC_Embedding_Train = np.concatenate((new_X_train,GC_train_features), axis=1)\n",
    "        \n",
    "        MRI_PET_GC_Embedding_Test = np.concatenate((new_X_test,GC_test_features), axis=1)\n",
    "        \n",
    "        \n",
    "        best_params, trials = tune_MKSVM(MRI_PET_GC_Embedding_Train, \n",
    "                                           y_train,svm_space\n",
    "                                          )\n",
    "        \n",
    "        \n",
    "        #replace the kernel index with the kernel type\n",
    "        best_params_ = best_params.copy()\n",
    "        best_params_[\"kernel1\"] = kernel_space[best_params[\"kernel1\"]]\n",
    "        best_params_[\"kernel2\"] = kernel_space[best_params[\"kernel2\"]]\n",
    "        best_params_[\"d_min\"] = d_min\n",
    "        best_params_[\"first_mod_feature_len\"]=embedding_dim\n",
    "        best_params_[\"last_mod_feature_len\"]=last_mod_dim\n",
    "        \n",
    "        print(\"\\n\")\n",
    "        print(f\"{run+1}th iter : Best Params: {best_params_}\")\n",
    "        \n",
    "        \n",
    "        #retrain the MKSVM with the best params\n",
    "        model = Multikernel_SVM(**best_params_)\n",
    "        \n",
    "        model.fit(MRI_PET_GC_Embedding_Train,y_train)\n",
    "        \n",
    "        \n",
    "        #make predictions\n",
    "        train_pred = model.predict(MRI_PET_GC_Embedding_Train)\n",
    "        test_pred = model.predict(MRI_PET_GC_Embedding_Test)\n",
    "\n",
    "        #calculate train metrics\n",
    "        performance_train = calculate_metrics(y_train,train_pred)\n",
    "\n",
    "        model_acc_dict[\"train\"][\"Precision\"].append(performance_train[\"Precision\"])\n",
    "        model_acc_dict[\"train\"]['Recall'].append(performance_train['Recall'])\n",
    "        model_acc_dict[\"train\"][\"F1_Score\"].append(performance_train[\"F1_Score\"])\n",
    "        model_acc_dict[\"train\"][\"Accuracy\"].append(performance_train[\"Accuracy\"])\n",
    "        \n",
    "        #calculate test metrics\n",
    "        performance_test = calculate_metrics(y_test,test_pred)\n",
    "        model_acc_dict[\"test\"][\"Precision\"].append(performance_test[\"Precision\"])\n",
    "        model_acc_dict[\"test\"]['Recall'].append(performance_test['Recall'])\n",
    "        model_acc_dict[\"test\"][\"F1_Score\"].append(performance_test[\"F1_Score\"])\n",
    "        model_acc_dict[\"test\"][\"Accuracy\"].append(performance_test[\"Accuracy\"])\n",
    "\n",
    "        print(f\"{run+1} iter completed\")\n",
    "        print(f\"Train Scores:{performance_train}\")\n",
    "        print(f\"Test Scores:{performance_test}\")\n",
    "        print(\"\\n\")\n",
    "        \n",
    "    \n",
    "    return model_acc_dict\n"
   ]
  },
  {
   "cell_type": "code",
   "execution_count": 95,
   "id": "7f831266",
   "metadata": {},
   "outputs": [],
   "source": [
    "LHSMRI_RHSPET_GC_Features_df = pd.concat([lhs_mri_df, rhs_pet_df, GC_features_df], axis=1)\n",
    "LHSMRI_ALLPET_GC_Features_df = pd.concat([lhs_mri_df, all_pet_df, GC_features_df], axis=1)\n",
    "ALLMRI_ALLPET_GC_Features_df = pd.concat([mri_features_df, all_pet_df, GC_features_df], axis=1)"
   ]
  },
  {
   "cell_type": "code",
   "execution_count": 96,
   "id": "8316a515",
   "metadata": {},
   "outputs": [
    {
     "data": {
      "text/plain": [
       "((194, 72), (194, 106), (194, 140))"
      ]
     },
     "execution_count": 96,
     "metadata": {},
     "output_type": "execute_result"
    }
   ],
   "source": [
    "LHSMRI_RHSPET_GC_Features_df.shape,LHSMRI_ALLPET_GC_Features_df .shape,ALLMRI_ALLPET_GC_Features_df.shape"
   ]
  },
  {
   "cell_type": "code",
   "execution_count": 113,
   "id": "fc4b6d48",
   "metadata": {},
   "outputs": [],
   "source": [
    "d_min_list = np.linspace(0.05,0.45,10)"
   ]
  },
  {
   "cell_type": "code",
   "execution_count": 116,
   "id": "9c10e001",
   "metadata": {},
   "outputs": [],
   "source": [
    "d_min_list = np.array([0, 0.05      , 0.09444444, 0.13888889, 0.18333333, 0.22777778,\n",
    "                   0.27222222, 0.31666667, 0.36111111, 0.40555556, 0.45      ])"
   ]
  },
  {
   "cell_type": "code",
   "execution_count": 99,
   "id": "b5744094",
   "metadata": {},
   "outputs": [
    {
     "name": "stdout",
     "output_type": "stream",
     "text": [
      "100%|████████| 300/300 [50:29<00:00, 10.10s/trial, best loss: 18.74018290286907]\n",
      "100%|██████| 750/750 [00:22<00:00, 33.92trial/s, best loss: -0.8129032258064516]\n",
      "\n",
      "\n",
      "1th iter : Best Params: {'C': 7.10461545532645, 'coef1': 8.356798580155134, 'coef2': 3.849769230074588, 'degree1': 3, 'degree2': 2, 'gamma1': 0.6651748386877796, 'gamma2': 0.2843873586521876, 'kernel1': 'rbf', 'kernel2': 'rbf', 'd_min': 0, 'first_mod_feature_len': 60, 'last_mod_feature_len': -4}\n",
      "1 iter completed\n",
      "Train Scores:{'Precision': 0.8216617790811339, 'Recall': 0.8193548387096774, 'F1_Score': 0.8167784413461919, 'Accuracy': 0.8193548387096774}\n",
      "Test Scores:{'Precision': 0.8726495726495725, 'Recall': 0.8717948717948718, 'F1_Score': 0.8713992879490775, 'Accuracy': 0.8717948717948718}\n",
      "\n",
      "\n",
      "100%|███████| 300/300 [08:03<00:00,  1.61s/trial, best loss: 20.405946932743813]\n",
      "100%|██████| 750/750 [00:23<00:00, 31.77trial/s, best loss: -0.8774193548387096]\n",
      "\n",
      "\n",
      "2th iter : Best Params: {'C': 322.14313917212246, 'coef1': 9.2280701990581, 'coef2': 8.043346327118362, 'degree1': 3, 'degree2': 3, 'gamma1': 0.8922572539548246, 'gamma2': 0.8998602719552743, 'kernel1': 'rbf', 'kernel2': 'poly', 'd_min': 0, 'first_mod_feature_len': 60, 'last_mod_feature_len': -4}\n",
      "2 iter completed\n",
      "Train Scores:{'Precision': 1.0, 'Recall': 1.0, 'F1_Score': 1.0, 'Accuracy': 1.0}\n",
      "Test Scores:{'Precision': 0.744153282614821, 'Recall': 0.7435897435897436, 'F1_Score': 0.7353010237625622, 'Accuracy': 0.7435897435897436}\n",
      "\n",
      "\n",
      "100%|███████| 300/300 [08:45<00:00,  1.75s/trial, best loss: 18.946023727257867]\n",
      "100%|███████| 750/750 [00:27<00:00, 26.93trial/s, best loss: -0.864516129032258]\n",
      "\n",
      "\n",
      "3th iter : Best Params: {'C': 1045.140729457522, 'coef1': 5.767563208322731, 'coef2': 7.5895509260977745, 'degree1': 3, 'degree2': 2, 'gamma1': 0.5770346378982469, 'gamma2': 0.8949493055403052, 'kernel1': 'rbf', 'kernel2': 'poly', 'd_min': 0, 'first_mod_feature_len': 60, 'last_mod_feature_len': -4}\n",
      "3 iter completed\n",
      "Train Scores:{'Precision': 0.8537596919738548, 'Recall': 0.8516129032258064, 'F1_Score': 0.8496366645462201, 'Accuracy': 0.8516129032258064}\n",
      "Test Scores:{'Precision': 0.7794513179128564, 'Recall': 0.7692307692307693, 'F1_Score': 0.7599715099715099, 'Accuracy': 0.7692307692307693}\n",
      "\n",
      "\n",
      "100%|███████| 300/300 [07:45<00:00,  1.55s/trial, best loss: 19.314737640645763]\n",
      "100%|██████| 750/750 [00:22<00:00, 33.37trial/s, best loss: -0.8451612903225806]\n",
      "\n",
      "\n",
      "4th iter : Best Params: {'C': 4.231989089174797, 'coef1': 6.303130667690135, 'coef2': 6.085309623431991, 'degree1': 3, 'degree2': 3, 'gamma1': 0.18887757075954414, 'gamma2': 0.804004873493547, 'kernel1': 'rbf', 'kernel2': 'poly', 'd_min': 0, 'first_mod_feature_len': 60, 'last_mod_feature_len': -4}\n",
      "4 iter completed\n",
      "Train Scores:{'Precision': 0.9482697947214077, 'Recall': 0.9419354838709677, 'F1_Score': 0.9414607041794951, 'Accuracy': 0.9419354838709677}\n",
      "Test Scores:{'Precision': 0.9384615384615385, 'Recall': 0.9230769230769231, 'F1_Score': 0.9233716475095785, 'Accuracy': 0.9230769230769231}\n",
      "\n",
      "\n",
      "100%|███████| 300/300 [08:02<00:00,  1.61s/trial, best loss: 19.025043051233386]\n",
      "100%|██████| 750/750 [00:23<00:00, 32.45trial/s, best loss: -0.8387096774193548]\n",
      "\n",
      "\n",
      "5th iter : Best Params: {'C': 0.09314214441814134, 'coef1': 4.658131683930773, 'coef2': 3.374920139620301, 'degree1': 2, 'degree2': 3, 'gamma1': 0.4108574912233247, 'gamma2': 0.8454862659215644, 'kernel1': 'linear', 'kernel2': 'poly', 'd_min': 0, 'first_mod_feature_len': 60, 'last_mod_feature_len': -4}\n",
      "5 iter completed\n",
      "Train Scores:{'Precision': 0.8343185870159507, 'Recall': 0.8258064516129032, 'F1_Score': 0.8211799080315682, 'Accuracy': 0.8258064516129032}\n",
      "Test Scores:{'Precision': 0.769565477257785, 'Recall': 0.7692307692307693, 'F1_Score': 0.7669951211325684, 'Accuracy': 0.7692307692307693}\n",
      "\n",
      "\n",
      "100%|███████| 300/300 [08:15<00:00,  1.65s/trial, best loss: 18.940634892038055]\n",
      "100%|██████| 750/750 [00:33<00:00, 22.45trial/s, best loss: -0.8580645161290322]\n",
      "\n",
      "\n",
      "6th iter : Best Params: {'C': 114.67864045982125, 'coef1': 7.470433203094583, 'coef2': 7.177378217449023, 'degree1': 2, 'degree2': 2, 'gamma1': 0.3737470068669276, 'gamma2': 0.07100866114409106, 'kernel1': 'rbf', 'kernel2': 'poly', 'd_min': 0, 'first_mod_feature_len': 60, 'last_mod_feature_len': -4}\n",
      "6 iter completed\n",
      "Train Scores:{'Precision': 0.8408806963645673, 'Recall': 0.8387096774193549, 'F1_Score': 0.8367484424707838, 'Accuracy': 0.8387096774193549}\n",
      "Test Scores:{'Precision': 0.8196581196581197, 'Recall': 0.8205128205128205, 'F1_Score': 0.8192901068076384, 'Accuracy': 0.8205128205128205}\n",
      "\n",
      "\n",
      "100%|████████| 300/300 [07:55<00:00,  1.58s/trial, best loss: 20.21980111663085]\n",
      "100%|██████| 750/750 [00:25<00:00, 29.85trial/s, best loss: -0.8838709677419354]\n",
      "\n",
      "\n",
      "7th iter : Best Params: {'C': 15.854680379305966, 'coef1': 5.801066289883269, 'coef2': 9.148033701057235, 'degree1': 3, 'degree2': 3, 'gamma1': 0.33253678864652964, 'gamma2': 0.8356384987711486, 'kernel1': 'rbf', 'kernel2': 'poly', 'd_min': 0, 'first_mod_feature_len': 60, 'last_mod_feature_len': -4}\n",
      "7 iter completed\n",
      "Train Scores:{'Precision': 1.0, 'Recall': 1.0, 'F1_Score': 1.0, 'Accuracy': 1.0}\n",
      "Test Scores:{'Precision': 0.7549857549857549, 'Recall': 0.7435897435897436, 'F1_Score': 0.7460030165912519, 'Accuracy': 0.7435897435897436}\n",
      "\n",
      "\n",
      "100%|███████| 300/300 [08:24<00:00,  1.68s/trial, best loss: 19.042599532834473]\n",
      "100%|███████| 750/750 [00:23<00:00, 31.75trial/s, best loss: -0.832258064516129]\n",
      "\n",
      "\n",
      "8th iter : Best Params: {'C': 1.813352365846407, 'coef1': 4.826040286068348, 'coef2': 1.9698001681721318, 'degree1': 4, 'degree2': 2, 'gamma1': 0.13293090949030226, 'gamma2': 0.9091057284143447, 'kernel1': 'rbf', 'kernel2': 'rbf', 'd_min': 0, 'first_mod_feature_len': 60, 'last_mod_feature_len': -4}\n",
      "8 iter completed\n",
      "Train Scores:{'Precision': 0.8958418175972565, 'Recall': 0.8903225806451613, 'F1_Score': 0.8894110891695849, 'Accuracy': 0.8903225806451613}\n",
      "Test Scores:{'Precision': 0.8859979889391655, 'Recall': 0.8461538461538461, 'F1_Score': 0.8400119466893773, 'Accuracy': 0.8461538461538461}\n",
      "\n",
      "\n",
      "100%|████████| 300/300 [08:22<00:00,  1.67s/trial, best loss: 19.42061173856493]\n",
      "100%|██████| 750/750 [00:24<00:00, 30.06trial/s, best loss: -0.8709677419354838]\n",
      "\n",
      "\n",
      "9th iter : Best Params: {'C': 134.58967260948253, 'coef1': 9.810262828241134, 'coef2': 8.893624665207657, 'degree1': 3, 'degree2': 2, 'gamma1': 0.16441719221240444, 'gamma2': 0.08730083943822559, 'kernel1': 'rbf', 'kernel2': 'poly', 'd_min': 0, 'first_mod_feature_len': 60, 'last_mod_feature_len': -4}\n",
      "9 iter completed\n",
      "Train Scores:{'Precision': 1.0, 'Recall': 1.0, 'F1_Score': 1.0, 'Accuracy': 1.0}\n",
      "Test Scores:{'Precision': 0.7549857549857549, 'Recall': 0.7435897435897436, 'F1_Score': 0.7460030165912519, 'Accuracy': 0.7435897435897436}\n",
      "\n",
      "\n",
      "100%|███████| 300/300 [07:41<00:00,  1.54s/trial, best loss: 18.938338674136197]\n",
      "100%|██████| 750/750 [00:23<00:00, 32.47trial/s, best loss: -0.8387096774193548]\n",
      "\n",
      "\n",
      "10th iter : Best Params: {'C': 0.018608721090285725, 'coef1': 5.590602146898098, 'coef2': 5.896765828251548, 'degree1': 4, 'degree2': 4, 'gamma1': 0.6874752805578567, 'gamma2': 0.24797822821239432, 'kernel1': 'poly', 'kernel2': 'poly', 'd_min': 0, 'first_mod_feature_len': 60, 'last_mod_feature_len': -4}\n",
      "10 iter completed\n",
      "Train Scores:{'Precision': 0.8574179828848758, 'Recall': 0.8516129032258064, 'F1_Score': 0.8495022915392713, 'Accuracy': 0.8516129032258064}\n",
      "Test Scores:{'Precision': 0.8823612285150747, 'Recall': 0.8717948717948718, 'F1_Score': 0.8697789566755083, 'Accuracy': 0.8717948717948718}\n",
      "\n",
      "\n"
     ]
    }
   ],
   "source": [
    "multiclass_experiment_scores = perform_experiment_replication(ALLMRI_ALLPET_GC_Features_df, \n",
    "                                                                  participants_df_sorted,\n",
    "                                                                  d_min=0,\n",
    "                                                                  embedding_dim=60,\n",
    "                                                                  number_of_run=10,\\\n",
    "                                                                  first_mod_dim=mri_features_df.shape[1], \n",
    "                                                                  last_mod_dim = -4\n",
    "                                                                  )"
   ]
  },
  {
   "cell_type": "code",
   "execution_count": 101,
   "id": "708f86f2",
   "metadata": {},
   "outputs": [
    {
     "data": {
      "text/plain": [
       "array([{'train': {'Precision': [1.0, 1.0, 0.8736750216262199, 1.0, 0.9936984246061515, 1.0, 1.0, 0.9592898224556138, 1.0, 0.9302890657729367], 'Recall': [1.0, 1.0, 0.8709677419354839, 1.0, 0.9935483870967742, 1.0, 1.0, 0.9548387096774194, 1.0, 0.9225806451612903], 'F1_Score': [1.0, 1.0, 0.8694902572859327, 1.0, 0.9935613315093479, 1.0, 1.0, 0.954730102898752, 1.0, 0.9219862657972185], 'Accuracy': [1.0, 1.0, 0.8709677419354839, 1.0, 0.9935483870967742, 1.0, 1.0, 0.9548387096774194, 1.0, 0.9225806451612903]}, 'test': {'Precision': [0.9260935143288085, 0.7939090823706209, 0.8055555555555555, 0.9091575091575091, 0.8528878528878528, 0.8461538461538461, 0.7549857549857549, 0.9384615384615385, 0.8218839983545866, 0.9016624401239787], 'Recall': [0.9230769230769231, 0.7948717948717948, 0.7948717948717948, 0.8974358974358975, 0.8461538461538461, 0.8461538461538461, 0.7435897435897436, 0.9230769230769231, 0.8205128205128205, 0.8974358974358975], 'F1_Score': [0.9236850106415324, 0.7921813452248235, 0.7907487037921822, 0.8976800976800978, 0.8472811644167143, 0.8461538461538461, 0.7460030165912519, 0.9233716475095785, 0.8204452552278639, 0.8961538461538461], 'Accuracy': [0.9230769230769231, 0.7948717948717948, 0.7948717948717948, 0.8974358974358975, 0.8461538461538461, 0.8461538461538461, 0.7435897435897436, 0.9230769230769231, 0.8205128205128205, 0.8974358974358975]}},\n",
       "       {'train': {'Precision': [0.9698770846557794, 0.9532746823069403, 0.9463247995907023, 0.9936800526662277, 1.0, 1.0, 1.0, 1.0, 1.0, 0.8412065354000839], 'Recall': [0.967741935483871, 0.9483870967741935, 0.9419354838709677, 0.9935483870967742, 1.0, 1.0, 1.0, 1.0, 1.0, 0.8387096774193549], 'F1_Score': [0.9676508538899432, 0.9479834278723973, 0.9418392187716943, 0.9935566365818259, 1.0, 1.0, 1.0, 1.0, 1.0, 0.8367499080097794], 'Accuracy': [0.967741935483871, 0.9483870967741935, 0.9419354838709677, 0.9935483870967742, 1.0, 1.0, 1.0, 1.0, 1.0, 0.8387096774193549]}, 'test': {'Precision': [0.9260935143288085, 0.7794513179128564, 0.7939090823706209, 0.956043956043956, 0.83306342780027, 0.8461538461538461, 0.7742081447963801, 0.9091575091575091, 0.801890701890702, 0.815510878010878], 'Recall': [0.9230769230769231, 0.7692307692307693, 0.7948717948717948, 0.9487179487179487, 0.8205128205128205, 0.8461538461538461, 0.7692307692307693, 0.8974358974358975, 0.7948717948717948, 0.7948717948717948], 'F1_Score': [0.9236850106415324, 0.7599715099715099, 0.7921813452248235, 0.9489809335963182, 0.8217116217116217, 0.8461538461538461, 0.7708957708957709, 0.8976800976800978, 0.7962864075396044, 0.7904183846212831], 'Accuracy': [0.9230769230769231, 0.7692307692307693, 0.7948717948717948, 0.9487179487179487, 0.8205128205128205, 0.8461538461538461, 0.7692307692307693, 0.8974358974358975, 0.7948717948717948, 0.7948717948717948]}},\n",
       "       {'train': {'Precision': [1.0, 1.0, 0.8820517629407351, 1.0, 0.9813633371237058, 1.0, 1.0, 1.0, 1.0, 0.9153221319683987], 'Recall': [1.0, 1.0, 0.8774193548387097, 1.0, 0.9806451612903225, 1.0, 1.0, 1.0, 1.0, 0.9096774193548387], 'F1_Score': [1.0, 1.0, 0.8761038926572824, 1.0, 0.9805998540791137, 1.0, 1.0, 1.0, 1.0, 0.909603958272994], 'Accuracy': [1.0, 1.0, 0.8774193548387097, 1.0, 0.9806451612903225, 1.0, 1.0, 1.0, 1.0, 0.9096774193548387]}, 'test': {'Precision': [0.9544159544159544, 0.767258382642998, 0.8055555555555555, 0.8837606837606838, 0.8304993252361674, 0.8461538461538461, 0.7742081447963801, 0.8837606837606838, 0.7742081447963801, 0.9016624401239787], 'Recall': [0.9487179487179487, 0.7692307692307693, 0.7948717948717948, 0.8717948717948718, 0.8205128205128205, 0.8461538461538461, 0.7692307692307693, 0.8717948717948718, 0.7692307692307693, 0.8974358974358975], 'F1_Score': [0.9490583301324989, 0.7630209254347184, 0.7907487037921822, 0.8714364488558038, 0.8206016206016205, 0.8461538461538461, 0.7708957708957709, 0.8714364488558038, 0.7708957708957709, 0.8961538461538461], 'Accuracy': [0.9487179487179487, 0.7692307692307693, 0.7948717948717948, 0.8717948717948718, 0.8205128205128205, 0.8461538461538461, 0.7692307692307693, 0.8717948717948718, 0.7692307692307693, 0.8974358974358975]}},\n",
       "       {'train': {'Precision': [1.0, 1.0, 0.9744021039273423, 1.0, 0.9873784772723793, 1.0, 1.0, 1.0, 1.0, 0.920394753860879], 'Recall': [1.0, 1.0, 0.9741935483870968, 1.0, 0.9870967741935484, 1.0, 1.0, 1.0, 1.0, 0.9161290322580645], 'F1_Score': [1.0, 1.0, 0.9741296533578513, 1.0, 0.9870671741426866, 1.0, 1.0, 1.0, 1.0, 0.916057450517579], 'Accuracy': [1.0, 1.0, 0.9741935483870968, 1.0, 0.9870967741935484, 1.0, 1.0, 1.0, 1.0, 0.9161290322580645]}, 'test': {'Precision': [0.9544159544159544, 0.767258382642998, 0.8254672677749602, 0.9091575091575091, 0.8528878528878528, 0.8461538461538461, 0.7742081447963801, 0.9091575091575091, 0.801890701890702, 0.8823612285150747], 'Recall': [0.9487179487179487, 0.7692307692307693, 0.8205128205128205, 0.8974358974358975, 0.8461538461538461, 0.8461538461538461, 0.7692307692307693, 0.8974358974358975, 0.7948717948717948, 0.8717948717948718], 'F1_Score': [0.9490583301324989, 0.7630209254347184, 0.8177035742483788, 0.8976800976800978, 0.8472811644167143, 0.8461538461538461, 0.7708957708957709, 0.8976800976800978, 0.7962864075396044, 0.8697789566755083], 'Accuracy': [0.9487179487179487, 0.7692307692307693, 0.8205128205128205, 0.8974358974358975, 0.8461538461538461, 0.8461538461538461, 0.7692307692307693, 0.8974358974358975, 0.7948717948717948, 0.8717948717948718]}},\n",
       "       {'train': {'Precision': [0.9230233161867218, 1.0, 0.9744021039273423, 0.8219103477167993, 0.9873784772723793, 1.0, 1.0, 1.0, 0.9936800526662277, 0.8735632183908045], 'Recall': [0.9225806451612903, 1.0, 0.9741935483870968, 0.8193548387096774, 0.9870967741935484, 1.0, 1.0, 1.0, 0.9935483870967742, 0.864516129032258], 'F1_Score': [0.9221601318697022, 1.0, 0.9741296533578513, 0.8166984053705734, 0.9870671741426866, 1.0, 1.0, 1.0, 0.9935566365818259, 0.8620283893354601], 'Accuracy': [0.9225806451612903, 1.0, 0.9741935483870968, 0.8193548387096774, 0.9870967741935484, 1.0, 1.0, 1.0, 0.9935483870967742, 0.864516129032258]}, 'test': {'Precision': [0.9508547008547007, 0.744153282614821, 0.8254672677749602, 0.16831032215647598, 0.8304993252361674, 0.8739887563416974, 0.7742081447963801, 0.9091575091575091, 0.7549857549857549, 0.9016624401239787], 'Recall': [0.9487179487179487, 0.7435897435897436, 0.8205128205128205, 0.41025641025641024, 0.8205128205128205, 0.8717948717948718, 0.7692307692307693, 0.8974358974358975, 0.7435897435897436, 0.8974358974358975], 'F1_Score': [0.9487179487179487, 0.7353010237625622, 0.8177035742483788, 0.23869463869463872, 0.8206016206016205, 0.8720651329346981, 0.7708957708957709, 0.8976800976800978, 0.7460030165912519, 0.8961538461538461], 'Accuracy': [0.9487179487179487, 0.7435897435897436, 0.8205128205128205, 0.41025641025641024, 0.8205128205128205, 0.8717948717948718, 0.7692307692307693, 0.8974358974358975, 0.7435897435897436, 0.8974358974358975]}},\n",
       "       {'train': {'Precision': [0.9564056120982117, 1.0, 0.9340438871473353, 1.0, 0.9873784772723793, 1.0, 1.0, 1.0, 1.0, 0.8780680696952627], 'Recall': [0.9548387096774194, 1.0, 0.9290322580645162, 1.0, 0.9870967741935484, 1.0, 1.0, 1.0, 1.0, 0.8709677419354839], 'F1_Score': [0.9545742799336198, 1.0, 0.9289859168557235, 1.0, 0.9870671741426866, 1.0, 1.0, 1.0, 1.0, 0.8687604904663407], 'Accuracy': [0.9548387096774194, 1.0, 0.9290322580645162, 1.0, 0.9870967741935484, 1.0, 1.0, 1.0, 1.0, 0.8709677419354839]}, 'test': {'Precision': [0.9758672699849171, 0.7177822177822178, 0.7865190365190364, 0.9091575091575091, 0.8085470085470086, 0.8461538461538461, 0.7549857549857549, 0.9091575091575091, 0.7549857549857549, 0.864957264957265], 'Recall': [0.9743589743589743, 0.717948717948718, 0.7692307692307693, 0.8974358974358975, 0.7948717948717948, 0.8461538461538461, 0.7435897435897436, 0.8974358974358975, 0.7435897435897436, 0.8461538461538461], 'F1_Score': [0.9741900611465829, 0.7043377894659946, 0.7630726761161544, 0.8976800976800978, 0.7928367928367928, 0.8461538461538461, 0.7460030165912519, 0.8976800976800978, 0.7460030165912519, 0.8430543815159199], 'Accuracy': [0.9743589743589743, 0.717948717948718, 0.7692307692307693, 0.8974358974358975, 0.7948717948717948, 0.8461538461538461, 0.7435897435897436, 0.8974358974358975, 0.7435897435897436, 0.8461538461538461]}},\n",
       "       {'train': {'Precision': [0.9694669656718992, 1.0, 0.921930677911578, 1.0, 0.9873784772723793, 1.0, 1.0, 1.0, 1.0, 0.8780680696952627], 'Recall': [0.967741935483871, 1.0, 0.9161290322580645, 1.0, 0.9870967741935484, 1.0, 1.0, 1.0, 1.0, 0.8709677419354839], 'F1_Score': [0.9675400668348907, 1.0, 0.9161072541694952, 1.0, 0.9870671741426866, 1.0, 1.0, 1.0, 1.0, 0.8687604904663407], 'Accuracy': [0.967741935483871, 1.0, 0.9161290322580645, 1.0, 0.9870967741935484, 1.0, 1.0, 1.0, 1.0, 0.8709677419354839]}, 'test': {'Precision': [0.9758672699849171, 0.771931060392599, 0.7677476118652589, 0.9286935286935286, 0.8085470085470086, 0.8461538461538461, 0.7742081447963801, 0.8915187376725839, 0.7549857549857549, 0.864957264957265], 'Recall': [0.9743589743589743, 0.7692307692307693, 0.7435897435897436, 0.9230769230769231, 0.7948717948717948, 0.8461538461538461, 0.7692307692307693, 0.8717948717948718, 0.7435897435897436, 0.8461538461538461], 'F1_Score': [0.9741900611465829, 0.7657413896601996, 0.7344552575783114, 0.9231981142651119, 0.7928367928367928, 0.8461538461538461, 0.7708957708957709, 0.8718790787756304, 0.7460030165912519, 0.8430543815159199], 'Accuracy': [0.9743589743589743, 0.7692307692307693, 0.7435897435897436, 0.9230769230769231, 0.7948717948717948, 0.8461538461538461, 0.7692307692307693, 0.8717948717948718, 0.7435897435897436, 0.8461538461538461]}},\n",
       "       {'train': {'Precision': [0.9936800526662277, 1.0, 0.9592898224556138, 1.0, 0.9873784772723793, 1.0, 1.0, 1.0, 1.0, 0.8780680696952627], 'Recall': [0.9935483870967742, 1.0, 0.9548387096774194, 1.0, 0.9870967741935484, 1.0, 1.0, 1.0, 1.0, 0.8709677419354839], 'F1_Score': [0.9935566365818259, 1.0, 0.954730102898752, 1.0, 0.9870671741426866, 1.0, 1.0, 1.0, 1.0, 0.8687604904663407], 'Accuracy': [0.9935483870967742, 1.0, 0.9548387096774194, 1.0, 0.9870967741935484, 1.0, 1.0, 1.0, 1.0, 0.8709677419354839]}, 'test': {'Precision': [0.9544159544159544, 0.771931060392599, 0.7865190365190364, 0.9091575091575091, 0.8085470085470086, 0.8461538461538461, 0.7549857549857549, 0.9091575091575091, 0.7549857549857549, 0.864957264957265], 'Recall': [0.9487179487179487, 0.7692307692307693, 0.7692307692307693, 0.8974358974358975, 0.7948717948717948, 0.8461538461538461, 0.7435897435897436, 0.8974358974358975, 0.7435897435897436, 0.8461538461538461], 'F1_Score': [0.9490583301324989, 0.7657413896601996, 0.7630726761161544, 0.8976800976800978, 0.7928367928367928, 0.8461538461538461, 0.7460030165912519, 0.8976800976800978, 0.7460030165912519, 0.8430543815159199], 'Accuracy': [0.9487179487179487, 0.7692307692307693, 0.7692307692307693, 0.8974358974358975, 0.7948717948717948, 0.8461538461538461, 0.7435897435897436, 0.8974358974358975, 0.7435897435897436, 0.8461538461538461]}},\n",
       "       {'train': {'Precision': [1.0, 0.9873784772723793, 0.9592898224556138, 1.0, 0.9936984246061515, 1.0, 1.0, 1.0, 1.0, 0.8780680696952627], 'Recall': [1.0, 0.9870967741935484, 0.9548387096774194, 1.0, 0.9935483870967742, 1.0, 1.0, 1.0, 1.0, 0.8709677419354839], 'F1_Score': [1.0, 0.9870671741426866, 0.954730102898752, 1.0, 0.9935613315093479, 1.0, 1.0, 1.0, 1.0, 0.8687604904663407], 'Accuracy': [1.0, 0.9870967741935484, 0.9548387096774194, 1.0, 0.9935483870967742, 1.0, 1.0, 1.0, 1.0, 0.8709677419354839]}, 'test': {'Precision': [0.9544159544159544, 0.8055555555555555, 0.7865190365190364, 0.9286935286935286, 0.8304993252361674, 0.8461538461538461, 0.7549857549857549, 0.9091575091575091, 0.7549857549857549, 0.864957264957265], 'Recall': [0.9487179487179487, 0.7948717948717948, 0.7692307692307693, 0.9230769230769231, 0.8205128205128205, 0.8461538461538461, 0.7435897435897436, 0.8974358974358975, 0.7435897435897436, 0.8461538461538461], 'F1_Score': [0.9490583301324989, 0.7907487037921822, 0.7630726761161544, 0.9231981142651119, 0.8206016206016205, 0.8461538461538461, 0.7460030165912519, 0.8976800976800978, 0.7460030165912519, 0.8430543815159199], 'Accuracy': [0.9487179487179487, 0.7948717948717948, 0.7692307692307693, 0.9230769230769231, 0.8205128205128205, 0.8461538461538461, 0.7435897435897436, 0.8974358974358975, 0.7435897435897436, 0.8461538461538461]}},\n",
       "       {'train': {'Precision': [1.0, 1.0, 0.9270239150226882, 1.0, 0.9453952075586176, 1.0, 1.0, 1.0, 1.0, 0.8780680696952627], 'Recall': [1.0, 1.0, 0.9225806451612903, 1.0, 0.9419354838709677, 1.0, 1.0, 1.0, 1.0, 0.8709677419354839], 'F1_Score': [1.0, 1.0, 0.922564066922043, 1.0, 0.9415511327723262, 1.0, 1.0, 1.0, 1.0, 0.8687604904663407], 'Accuracy': [1.0, 1.0, 0.9225806451612903, 1.0, 0.9419354838709677, 1.0, 1.0, 1.0, 1.0, 0.8709677419354839]}, 'test': {'Precision': [0.9544159544159544, 0.771931060392599, 0.7794513179128564, 0.9091575091575091, 0.690883190883191, 0.8461538461538461, 0.7742081447963801, 0.9091575091575091, 0.7549857549857549, 0.864957264957265], 'Recall': [0.9487179487179487, 0.7692307692307693, 0.7692307692307693, 0.8974358974358975, 0.6923076923076923, 0.8461538461538461, 0.7692307692307693, 0.8974358974358975, 0.7435897435897436, 0.8461538461538461], 'F1_Score': [0.9490583301324989, 0.7657413896601996, 0.7599715099715099, 0.8976800976800978, 0.6865461903825075, 0.8461538461538461, 0.7708957708957709, 0.8976800976800978, 0.7460030165912519, 0.8430543815159199], 'Accuracy': [0.9487179487179487, 0.7692307692307693, 0.7692307692307693, 0.8974358974358975, 0.6923076923076923, 0.8461538461538461, 0.7692307692307693, 0.8974358974358975, 0.7435897435897436, 0.8461538461538461]}}],\n",
       "      dtype=object)"
      ]
     },
     "execution_count": 101,
     "metadata": {},
     "output_type": "execute_result"
    }
   ],
   "source": [
    "results_arr= np.load(\"regularization_result.npy\", allow_pickle=True)\n",
    "results_arr"
   ]
  },
  {
   "cell_type": "code",
   "execution_count": 109,
   "id": "d1ac616c",
   "metadata": {},
   "outputs": [],
   "source": [
    "multiclass_experiment_scores_ = multiclass_experiment_scores.copy()"
   ]
  },
  {
   "cell_type": "code",
   "execution_count": 111,
   "id": "ab8afc57",
   "metadata": {},
   "outputs": [],
   "source": [
    "results_arr_= results_arr.copy()\n",
    "updated_array = np.insert(results_arr_, 0, multiclass_experiment_scores_)\n",
    "#results_arr_.insert(0, multiclass_experiment_scores_)"
   ]
  },
  {
   "cell_type": "code",
   "execution_count": 152,
   "id": "cd2ed028",
   "metadata": {},
   "outputs": [],
   "source": [
    "#np.save(\"regularization_result_updated.npy\",updated_array)"
   ]
  },
  {
   "cell_type": "code",
   "execution_count": 106,
   "id": "e273e9b2",
   "metadata": {
    "scrolled": false
   },
   "outputs": [],
   "source": [
    "# results = []\n",
    "# #dataset= [LHSMRI_RHSPET_GC_Features_df, LHSMRI_ALLPET_GC_Features_df,ALLMRI_ALLPET_GC_Features_df] #,\n",
    "# #first_dim = [lhs_mri_df.shape[1],lhs_mri_df.shape[1],mri_features_df.shape[1]] #\n",
    "\n",
    "# #embedding_dim = [40,50,60] #69\n",
    "\n",
    "# import time\n",
    "# start_time = time.time()\n",
    "\n",
    "\n",
    "# for d_min in d_min_list:\n",
    "    \n",
    "#     multiclass_experiment_scores = perform_experiment_replication(ALLMRI_ALLPET_GC_Features_df, \n",
    "#                                                                   participants_df_sorted,\n",
    "#                                                                   d_min=d_min,\n",
    "#                                                                   embedding_dim=60,\n",
    "#                                                                   number_of_run=10,\\\n",
    "#                                                                   first_mod_dim=mri_features_df.shape[1], \n",
    "#                                                                   last_mod_dim = -4\n",
    "#                                                                   )\n",
    "#     results.append(multiclass_experiment_scores)\n",
    "    \n",
    "# end_time = time.time()\n",
    "\n",
    "# print(f\"Total Run Time: {(end_time-start_time)/60}\")"
   ]
  },
  {
   "cell_type": "code",
   "execution_count": 97,
   "id": "92b6961e",
   "metadata": {},
   "outputs": [],
   "source": [
    "#np.save(\"regularization_result_.npy\",np.array(results))"
   ]
  },
  {
   "cell_type": "code",
   "execution_count": 125,
   "id": "b87c581f",
   "metadata": {},
   "outputs": [
    {
     "data": {
      "text/html": [
       "<div>\n",
       "<style scoped>\n",
       "    .dataframe tbody tr th:only-of-type {\n",
       "        vertical-align: middle;\n",
       "    }\n",
       "\n",
       "    .dataframe tbody tr th {\n",
       "        vertical-align: top;\n",
       "    }\n",
       "\n",
       "    .dataframe thead th {\n",
       "        text-align: right;\n",
       "    }\n",
       "</style>\n",
       "<table border=\"1\" class=\"dataframe\">\n",
       "  <thead>\n",
       "    <tr style=\"text-align: right;\">\n",
       "      <th></th>\n",
       "      <th>Precision_Test</th>\n",
       "      <th>Recall_Test</th>\n",
       "      <th>F1_Score_Test</th>\n",
       "      <th>Accuracy_Test</th>\n",
       "    </tr>\n",
       "  </thead>\n",
       "  <tbody>\n",
       "    <tr>\n",
       "      <th>0</th>\n",
       "      <td>0.872650</td>\n",
       "      <td>0.871795</td>\n",
       "      <td>0.871399</td>\n",
       "      <td>0.871795</td>\n",
       "    </tr>\n",
       "    <tr>\n",
       "      <th>1</th>\n",
       "      <td>0.744153</td>\n",
       "      <td>0.743590</td>\n",
       "      <td>0.735301</td>\n",
       "      <td>0.743590</td>\n",
       "    </tr>\n",
       "    <tr>\n",
       "      <th>2</th>\n",
       "      <td>0.779451</td>\n",
       "      <td>0.769231</td>\n",
       "      <td>0.759972</td>\n",
       "      <td>0.769231</td>\n",
       "    </tr>\n",
       "    <tr>\n",
       "      <th>3</th>\n",
       "      <td>0.938462</td>\n",
       "      <td>0.923077</td>\n",
       "      <td>0.923372</td>\n",
       "      <td>0.923077</td>\n",
       "    </tr>\n",
       "    <tr>\n",
       "      <th>4</th>\n",
       "      <td>0.769565</td>\n",
       "      <td>0.769231</td>\n",
       "      <td>0.766995</td>\n",
       "      <td>0.769231</td>\n",
       "    </tr>\n",
       "  </tbody>\n",
       "</table>\n",
       "</div>"
      ],
      "text/plain": [
       "   Precision_Test  Recall_Test  F1_Score_Test  Accuracy_Test\n",
       "0        0.872650     0.871795       0.871399       0.871795\n",
       "1        0.744153     0.743590       0.735301       0.743590\n",
       "2        0.779451     0.769231       0.759972       0.769231\n",
       "3        0.938462     0.923077       0.923372       0.923077\n",
       "4        0.769565     0.769231       0.766995       0.769231"
      ]
     },
     "execution_count": 125,
     "metadata": {},
     "output_type": "execute_result"
    }
   ],
   "source": [
    "from itertools import chain\n",
    "results_df_ =  pd.concat([pd.DataFrame(multiclass_experiment_scores[each]) for each in [\"train\",\"test\"]], axis=1)\n",
    "col_labels= [[f\"Precision_{each}\", f\"Recall_{each}\",f\"F1_Score_{each}\", f\"Accuracy_{each}\"] for each in [\"Train\",\"Test\"]]\n",
    "col_labels = list(chain(*col_labels))\n",
    "results_df_.columns = col_labels\n",
    "sub_cols = [col for col in results_df_.columns if col.endswith(\"Test\")]\n",
    "results_df_ =results_df_[sub_cols]\n",
    "results_df_.head()"
   ]
  },
  {
   "cell_type": "code",
   "execution_count": 126,
   "id": "3a504fbe",
   "metadata": {},
   "outputs": [
    {
     "data": {
      "text/plain": [
       "Precision_Test    0.820227\n",
       "Recall_Test       0.810256\n",
       "F1_Score_Test     0.807813\n",
       "Accuracy_Test     0.810256\n",
       "dtype: float64"
      ]
     },
     "execution_count": 126,
     "metadata": {},
     "output_type": "execute_result"
    }
   ],
   "source": [
    "results_df_.mean(axis=0)"
   ]
  },
  {
   "cell_type": "code",
   "execution_count": 281,
   "id": "9ddad9da",
   "metadata": {},
   "outputs": [
    {
     "data": {
      "text/plain": [
       "{'Precision_Test': 0.8495208495208495,\n",
       " 'Recall_Test': 0.8461538461538461,\n",
       " 'F1_Score_Test': 0.8467175052852802,\n",
       " 'Accuracy_Test': 0.8461538461538461}"
      ]
     },
     "execution_count": 281,
     "metadata": {},
     "output_type": "execute_result"
    }
   ],
   "source": [
    "results_df_.median(axis=0).to_dict()"
   ]
  },
  {
   "cell_type": "code",
   "execution_count": 127,
   "id": "e11ddfa7",
   "metadata": {},
   "outputs": [],
   "source": [
    "scores_dict= {}\n",
    "\n",
    "for i in range(len(updated_array)):\n",
    "    \n",
    "    from itertools import chain\n",
    "    results_df_ =  pd.concat([pd.DataFrame(updated_array[i][each]) for each in [\"train\",\"test\"]], axis=1)\n",
    "    col_labels= [[f\"Precision_{each}\", f\"Recall_{each}\",f\"F1_Score_{each}\", f\"Accuracy_{each}\"] for each in [\"Train\",\"Test\"]]\n",
    "    col_labels = list(chain(*col_labels))\n",
    "    results_df_.columns = col_labels\n",
    "    sub_cols = [col for col in results_df_.columns if col.endswith(\"Test\")]\n",
    "    scores_dict[f\"β={d_min_list[i]:.2f}\"]=results_df_[\"Accuracy_Test\"]\n",
    "    #scores.append(results_)\n",
    "    "
   ]
  },
  {
   "cell_type": "markdown",
   "id": "307a4426",
   "metadata": {},
   "source": [
    "## Plot Results ##"
   ]
  },
  {
   "cell_type": "code",
   "execution_count": 138,
   "id": "58def395",
   "metadata": {},
   "outputs": [],
   "source": [
    "#df.to_csv(\"regularization_effect.csv\")"
   ]
  },
  {
   "cell_type": "code",
   "execution_count": 135,
   "id": "fde08fa7",
   "metadata": {},
   "outputs": [
    {
     "name": "stderr",
     "output_type": "stream",
     "text": [
      "/var/folders/tk/6bnd7ryn65s_zkcb9yggf_zc0000gn/T/ipykernel_3215/698823100.py:14: FutureWarning: Series.__getitem__ treating keys as positions is deprecated. In a future version, integer keys will always be treated as labels (consistent with DataFrame behavior). To access a value by position, use `ser.iloc[pos]`\n",
      "  plt.plot([i + 1], [means[i]], marker='o', markersize=5, color='red')\n",
      "/var/folders/tk/6bnd7ryn65s_zkcb9yggf_zc0000gn/T/ipykernel_3215/698823100.py:29: FutureWarning: Series.__getitem__ treating keys as positions is deprecated. In a future version, integer keys will always be treated as labels (consistent with DataFrame behavior). To access a value by position, use `ser.iloc[pos]`\n",
      "  color = 'red' if means[i] == max(means) else 'black'\n",
      "/var/folders/tk/6bnd7ryn65s_zkcb9yggf_zc0000gn/T/ipykernel_3215/698823100.py:31: FutureWarning: Series.__getitem__ treating keys as positions is deprecated. In a future version, integer keys will always be treated as labels (consistent with DataFrame behavior). To access a value by position, use `ser.iloc[pos]`\n",
      "  plt.annotate(f'{means[i]:.2f}', (i + 1, means[i]), textcoords=\"offset points\", xytext=(0,xysize[i]), ha='center', color=color)\n"
     ]
    },
    {
     "data": {
      "image/png": "[encoded data removed]",
      "text/plain": [
       "<Figure size 900x400 with 1 Axes>"
      ]
     },
     "metadata": {},
     "output_type": "display_data"
    }
   ],
   "source": [
    "# Create a box plot with blue boxes\n",
    "\n",
    "df = pd.DataFrame.from_dict(scores_dict)\n",
    "\n",
    "box = df.boxplot(color=dict(boxes='blue', whiskers='blue', medians='blue', caps='blue'),figsize=(9,4),\n",
    "                 grid=True\n",
    "        )\n",
    "\n",
    "# Calculate the mean values for each column\n",
    "means = df.mean()\n",
    "\n",
    "# Draw a line connecting the mean lines of the box plot\n",
    "for i in range(len(means)):\n",
    "    plt.plot([i + 1], [means[i]], marker='o', markersize=5, color='red')\n",
    "    \n",
    "plt.plot(range(1, len(df.columns) + 1), means.values, marker='o', markersize=5, color='red', linestyle='--')\n",
    "\n",
    "plt.xticks(rotation=90)\n",
    "plt.ylabel(\"Accuracy scores\")\n",
    "plt.xlabel(\"Beta values\")\n",
    "\n",
    "# # Annotate the box plot with mean values\n",
    "# for i in range(len(means)):\n",
    "#     plt.annotate(f'{means[i]:.2f}', (i + 1, means[i]), textcoords=\"offset points\", xytext=(0,-55), ha='center')\n",
    "\n",
    "xysize = [-15,-14,8,-14,-14,-13,-14,-14,-14,-14,-16]\n",
    "# Annotate the box plot with mean values and color recent means red\n",
    "for i in range(len(means)):\n",
    "    color = 'red' if means[i] == max(means) else 'black'\n",
    "#     if i < len(means)-1:\n",
    "    plt.annotate(f'{means[i]:.2f}', (i + 1, means[i]), textcoords=\"offset points\", xytext=(0,xysize[i]), ha='center', color=color)\n",
    "#     else:\n",
    "#         plt.annotate(f'{means[i]:.2f}', (i + 1, means[i]), textcoords=\"offset points\", xytext=(0,-16), ha='center', color=color)\n",
    "    \n",
    "\n",
    "# Show the plot\n",
    "plt.grid(alpha=0.3)\n",
    "plt.show()"
   ]
  },
  {
   "cell_type": "code",
   "execution_count": 1,
   "id": "e02cd9ad",
   "metadata": {},
   "outputs": [],
   "source": [
    "#results_df_.to_csv(\"Multiclass_LHSMRI_RHSPET_Sequential_GC_EMR_SLRA_MKSVM.csv\")"
   ]
  },
  {
   "cell_type": "code",
   "execution_count": 247,
   "id": "7348bc3d",
   "metadata": {},
   "outputs": [],
   "source": [
    "from itertools import chain\n",
    "results_df1 =  pd.concat([pd.DataFrame(results[0][each]) for each in [\"train\",\"test\"]], axis=1)\n",
    "col_labels1= [[f\"Precision_{each}\", f\"Recall_{each}\",f\"F1_Score_{each}\", f\"Accuracy_{each}\"] for each in [\"Train\",\"Test\"]]\n",
    "col_labels1 = list(chain(*col_labels1))\n",
    "results_df1.columns = col_labels1"
   ]
  },
  {
   "cell_type": "code",
   "execution_count": 248,
   "id": "a40b922a",
   "metadata": {},
   "outputs": [
    {
     "data": {
      "text/html": [
       "<div>\n",
       "<style scoped>\n",
       "    .dataframe tbody tr th:only-of-type {\n",
       "        vertical-align: middle;\n",
       "    }\n",
       "\n",
       "    .dataframe tbody tr th {\n",
       "        vertical-align: top;\n",
       "    }\n",
       "\n",
       "    .dataframe thead th {\n",
       "        text-align: right;\n",
       "    }\n",
       "</style>\n",
       "<table border=\"1\" class=\"dataframe\">\n",
       "  <thead>\n",
       "    <tr style=\"text-align: right;\">\n",
       "      <th></th>\n",
       "      <th>Precision_Train</th>\n",
       "      <th>Recall_Train</th>\n",
       "      <th>F1_Score_Train</th>\n",
       "      <th>Accuracy_Train</th>\n",
       "      <th>Precision_Test</th>\n",
       "      <th>Recall_Test</th>\n",
       "      <th>F1_Score_Test</th>\n",
       "      <th>Accuracy_Test</th>\n",
       "    </tr>\n",
       "  </thead>\n",
       "  <tbody>\n",
       "    <tr>\n",
       "      <th>0</th>\n",
       "      <td>1.000000</td>\n",
       "      <td>1.000000</td>\n",
       "      <td>1.000000</td>\n",
       "      <td>1.000000</td>\n",
       "      <td>0.926094</td>\n",
       "      <td>0.923077</td>\n",
       "      <td>0.923685</td>\n",
       "      <td>0.923077</td>\n",
       "    </tr>\n",
       "    <tr>\n",
       "      <th>1</th>\n",
       "      <td>1.000000</td>\n",
       "      <td>1.000000</td>\n",
       "      <td>1.000000</td>\n",
       "      <td>1.000000</td>\n",
       "      <td>0.793909</td>\n",
       "      <td>0.794872</td>\n",
       "      <td>0.792181</td>\n",
       "      <td>0.794872</td>\n",
       "    </tr>\n",
       "    <tr>\n",
       "      <th>2</th>\n",
       "      <td>0.873675</td>\n",
       "      <td>0.870968</td>\n",
       "      <td>0.869490</td>\n",
       "      <td>0.870968</td>\n",
       "      <td>0.805556</td>\n",
       "      <td>0.794872</td>\n",
       "      <td>0.790749</td>\n",
       "      <td>0.794872</td>\n",
       "    </tr>\n",
       "    <tr>\n",
       "      <th>3</th>\n",
       "      <td>1.000000</td>\n",
       "      <td>1.000000</td>\n",
       "      <td>1.000000</td>\n",
       "      <td>1.000000</td>\n",
       "      <td>0.909158</td>\n",
       "      <td>0.897436</td>\n",
       "      <td>0.897680</td>\n",
       "      <td>0.897436</td>\n",
       "    </tr>\n",
       "    <tr>\n",
       "      <th>4</th>\n",
       "      <td>0.993698</td>\n",
       "      <td>0.993548</td>\n",
       "      <td>0.993561</td>\n",
       "      <td>0.993548</td>\n",
       "      <td>0.852888</td>\n",
       "      <td>0.846154</td>\n",
       "      <td>0.847281</td>\n",
       "      <td>0.846154</td>\n",
       "    </tr>\n",
       "    <tr>\n",
       "      <th>5</th>\n",
       "      <td>1.000000</td>\n",
       "      <td>1.000000</td>\n",
       "      <td>1.000000</td>\n",
       "      <td>1.000000</td>\n",
       "      <td>0.846154</td>\n",
       "      <td>0.846154</td>\n",
       "      <td>0.846154</td>\n",
       "      <td>0.846154</td>\n",
       "    </tr>\n",
       "    <tr>\n",
       "      <th>6</th>\n",
       "      <td>1.000000</td>\n",
       "      <td>1.000000</td>\n",
       "      <td>1.000000</td>\n",
       "      <td>1.000000</td>\n",
       "      <td>0.754986</td>\n",
       "      <td>0.743590</td>\n",
       "      <td>0.746003</td>\n",
       "      <td>0.743590</td>\n",
       "    </tr>\n",
       "    <tr>\n",
       "      <th>7</th>\n",
       "      <td>0.959290</td>\n",
       "      <td>0.954839</td>\n",
       "      <td>0.954730</td>\n",
       "      <td>0.954839</td>\n",
       "      <td>0.938462</td>\n",
       "      <td>0.923077</td>\n",
       "      <td>0.923372</td>\n",
       "      <td>0.923077</td>\n",
       "    </tr>\n",
       "    <tr>\n",
       "      <th>8</th>\n",
       "      <td>1.000000</td>\n",
       "      <td>1.000000</td>\n",
       "      <td>1.000000</td>\n",
       "      <td>1.000000</td>\n",
       "      <td>0.821884</td>\n",
       "      <td>0.820513</td>\n",
       "      <td>0.820445</td>\n",
       "      <td>0.820513</td>\n",
       "    </tr>\n",
       "    <tr>\n",
       "      <th>9</th>\n",
       "      <td>0.930289</td>\n",
       "      <td>0.922581</td>\n",
       "      <td>0.921986</td>\n",
       "      <td>0.922581</td>\n",
       "      <td>0.901662</td>\n",
       "      <td>0.897436</td>\n",
       "      <td>0.896154</td>\n",
       "      <td>0.897436</td>\n",
       "    </tr>\n",
       "  </tbody>\n",
       "</table>\n",
       "</div>"
      ],
      "text/plain": [
       "   Precision_Train  Recall_Train  F1_Score_Train  Accuracy_Train  \\\n",
       "0         1.000000      1.000000        1.000000        1.000000   \n",
       "1         1.000000      1.000000        1.000000        1.000000   \n",
       "2         0.873675      0.870968        0.869490        0.870968   \n",
       "3         1.000000      1.000000        1.000000        1.000000   \n",
       "4         0.993698      0.993548        0.993561        0.993548   \n",
       "5         1.000000      1.000000        1.000000        1.000000   \n",
       "6         1.000000      1.000000        1.000000        1.000000   \n",
       "7         0.959290      0.954839        0.954730        0.954839   \n",
       "8         1.000000      1.000000        1.000000        1.000000   \n",
       "9         0.930289      0.922581        0.921986        0.922581   \n",
       "\n",
       "   Precision_Test  Recall_Test  F1_Score_Test  Accuracy_Test  \n",
       "0        0.926094     0.923077       0.923685       0.923077  \n",
       "1        0.793909     0.794872       0.792181       0.794872  \n",
       "2        0.805556     0.794872       0.790749       0.794872  \n",
       "3        0.909158     0.897436       0.897680       0.897436  \n",
       "4        0.852888     0.846154       0.847281       0.846154  \n",
       "5        0.846154     0.846154       0.846154       0.846154  \n",
       "6        0.754986     0.743590       0.746003       0.743590  \n",
       "7        0.938462     0.923077       0.923372       0.923077  \n",
       "8        0.821884     0.820513       0.820445       0.820513  \n",
       "9        0.901662     0.897436       0.896154       0.897436  "
      ]
     },
     "execution_count": 248,
     "metadata": {},
     "output_type": "execute_result"
    }
   ],
   "source": [
    "results_df1"
   ]
  },
  {
   "cell_type": "code",
   "execution_count": 261,
   "id": "dbbfb483",
   "metadata": {},
   "outputs": [
    {
     "name": "stderr",
     "output_type": "stream",
     "text": [
      "/var/folders/tk/6bnd7ryn65s_zkcb9yggf_zc0000gn/T/ipykernel_7009/1758381374.py:10: FutureWarning: Series.__getitem__ treating keys as positions is deprecated. In a future version, integer keys will always be treated as labels (consistent with DataFrame behavior). To access a value by position, use `ser.iloc[pos]`\n",
      "  plt.plot([i + 1], [means[i]], marker='o', markersize=5, color='red')\n"
     ]
    },
    {
     "data": {
      "image/png": "[encoded data removed]",
      "text/plain": [
       "<Figure size 600x300 with 1 Axes>"
      ]
     },
     "metadata": {},
     "output_type": "display_data"
    }
   ],
   "source": [
    "box1 = results_df_.boxplot(color=dict(boxes='blue', whiskers='blue', medians='blue', caps='blue'),figsize=(6,3),\n",
    "                 grid=True\n",
    "        )\n",
    "\n",
    "# Calculate the mean values for each column\n",
    "means = results_df_.mean()\n",
    "\n",
    "# Draw a line connecting the mean lines of the box plot\n",
    "for i in range(len(means)):\n",
    "    plt.plot([i + 1], [means[i]], marker='o', markersize=5, color='red')\n",
    "    \n",
    "plt.grid(alpha=0.3)\n",
    "plt.ylabel(\"Accuracy Scores\")\n",
    "plt.xlabel(\"Evaluation Metrics\")\n",
    "plt.show()"
   ]
  },
  {
   "cell_type": "code",
   "execution_count": 2,
   "id": "e037bec1",
   "metadata": {},
   "outputs": [],
   "source": [
    "#results_df= np.load(\"regularization_result.npy\", allow_pickle=True)\n",
    "#results_df"
   ]
  },
  {
   "cell_type": "code",
   "execution_count": null,
   "id": "f3458051",
   "metadata": {},
   "outputs": [],
   "source": []
  }
 ],
 "metadata": {
  "kernelspec": {
   "display_name": "Python [conda env:cvxpy_env]",
   "language": "python",
   "name": "conda-env-cvxpy_env-py"
  },
  "language_info": {
   "codemirror_mode": {
    "name": "ipython",
    "version": 3
   },
   "file_extension": ".py",
   "mimetype": "text/x-python",
   "name": "python",
   "nbconvert_exporter": "python",
   "pygments_lexer": "ipython3",
   "version": "3.11.6"
  }
 },
 "nbformat": 4,
 "nbformat_minor": 5
}
